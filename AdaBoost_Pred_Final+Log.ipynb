{
 "cells": [
  {
   "cell_type": "code",
   "execution_count": 1,
   "metadata": {
    "id": "5cWud6AZAfSl"
   },
   "outputs": [],
   "source": [
    "import numpy as np\n",
    "import pandas as pd\n",
    "from scipy.stats import skew\n",
    "import matplotlib.pyplot as plt\n",
    "from sklearn.model_selection import train_test_split\n",
    "from sklearn.preprocessing import OneHotEncoder\n",
    "from sklearn.impute import SimpleImputer\n",
    "from xgboost import XGBRegressor\n",
    "from sklearn.pipeline import Pipeline\n",
    "from sklearn.impute import SimpleImputer\n",
    "from sklearn.compose import ColumnTransformer\n",
    "from sklearn.metrics import mean_squared_error, mean_absolute_error\n",
    "from sklearn.ensemble import AdaBoostRegressor"
   ]
  },
  {
   "cell_type": "code",
   "execution_count": 2,
   "metadata": {
    "id": "fmaZjzCaJV-H"
   },
   "outputs": [],
   "source": [
    "path = 'Funda_dataset_cleaned.csv'\n",
    "data = pd.read_csv(path)"
   ]
  },
  {
   "cell_type": "code",
   "execution_count": 3,
   "metadata": {
    "colab": {
     "base_uri": "https://localhost:8080/"
    },
    "id": "83jrCvFIFmdm",
    "outputId": "b6d475f0-6798-4ff1-d766-74b40610d2bc"
   },
   "outputs": [
    {
     "data": {
      "text/plain": [
       "(6007, 112)"
      ]
     },
     "execution_count": 3,
     "metadata": {},
     "output_type": "execute_result"
    }
   ],
   "source": [
    "data.shape"
   ]
  },
  {
   "cell_type": "code",
   "execution_count": null,
   "metadata": {
    "colab": {
     "base_uri": "https://localhost:8080/"
    },
    "id": "ttizsV_2FxSH",
    "outputId": "6afd93ee-1428-4ef1-b757-b57e23fbe08c"
   },
   "outputs": [
    {
     "name": "stdout",
     "output_type": "stream",
     "text": [
      "[dtype('O') dtype('int64')]\n"
     ]
    }
   ],
   "source": [
    "print(data.dtypes.unique())"
   ]
  },
  {
   "cell_type": "code",
   "execution_count": 5,
   "metadata": {
    "colab": {
     "base_uri": "https://localhost:8080/"
    },
    "id": "56GkDxw8F959",
    "outputId": "a9862f18-cf8d-4957-ae56-c25b131fcf77"
   },
   "outputs": [
    {
     "name": "stdout",
     "output_type": "stream",
     "text": [
      "Number of duplicate rows: 13\n"
     ]
    }
   ],
   "source": [
    "\n",
    "num_duplicates = data.duplicated().sum()\n",
    "print(\"Number of duplicate rows:\", num_duplicates)\n",
    "data.drop_duplicates(inplace=True)"
   ]
  },
  {
   "attachments": {},
   "cell_type": "markdown",
   "metadata": {
    "id": "FVj_CrsgAGbl"
   },
   "source": [
    "# Drop time variables"
   ]
  },
  {
   "cell_type": "code",
   "execution_count": 6,
   "metadata": {
    "id": "TeCE0bGAzle4"
   },
   "outputs": [],
   "source": [
    "data.drop(['Aangeboden sinds', 'Verkoopdatum'], axis=1, inplace=True)"
   ]
  },
  {
   "cell_type": "code",
   "execution_count": 7,
   "metadata": {
    "colab": {
     "base_uri": "https://localhost:8080/"
    },
    "id": "BNV8qDX6zljQ",
    "outputId": "0edb3b32-80df-47dc-d937-f681e881af65"
   },
   "outputs": [
    {
     "name": "stderr",
     "output_type": "stream",
     "text": [
      "<ipython-input-7-855a70a2f4ab>:1: FutureWarning: The default value of numeric_only in DataFrame.corr is deprecated. In a future version, it will default to False. Select only valid columns or specify the value of numeric_only to silence this warning.\n",
      "  data.corr()['Laatste vraagprijs'].sort_values(ascending=False).drop('Laatste vraagprijs')\n"
     ]
    },
    {
     "data": {
      "text/plain": [
       "Woonruimte in m2                            0.668535\n",
       "Inhoud in m3                                0.553106\n",
       "Bathrooms                                   0.465577\n",
       "Vraagprijs per m2                           0.449933\n",
       "Aantal kamers                               0.382853\n",
       "                                              ...   \n",
       "Voorzieningen_Tvkabel                      -0.082148\n",
       "Schuur/berging_Vrijstaandestenen berging   -0.097014\n",
       "Verwarming_Blokverwarming                  -0.127547\n",
       "Voorzieningen_Satellietschotel                   NaN\n",
       "Voorzieningen_cctv                               NaN\n",
       "Name: Laatste vraagprijs, Length: 103, dtype: float64"
      ]
     },
     "execution_count": 7,
     "metadata": {},
     "output_type": "execute_result"
    }
   ],
   "source": [
    "data.corr()['Laatste vraagprijs'].sort_values(ascending=False).drop('Laatste vraagprijs')"
   ]
  },
  {
   "cell_type": "code",
   "execution_count": 8,
   "metadata": {
    "colab": {
     "base_uri": "https://localhost:8080/"
    },
    "id": "tcyIZORS7Uxn",
    "outputId": "6a3fedf3-0f92-4abf-eef6-66a3e7b3fba4"
   },
   "outputs": [
    {
     "name": "stderr",
     "output_type": "stream",
     "text": [
      "<ipython-input-8-1875e60eb14e>:1: FutureWarning: The default value of numeric_only in DataFrame.corr is deprecated. In a future version, it will default to False. Select only valid columns or specify the value of numeric_only to silence this warning.\n",
      "  cor=data.corr()['Laatste vraagprijs'].sort_values(ascending=False).drop('Laatste vraagprijs')\n"
     ]
    }
   ],
   "source": [
    "cor=data.corr()['Laatste vraagprijs'].sort_values(ascending=False).drop('Laatste vraagprijs')"
   ]
  },
  {
   "cell_type": "markdown",
   "metadata": {
    "id": "MPGgVZVK_4Fh"
   },
   "source": [
    "# Drop less than 0.1 correlated"
   ]
  },
  {
   "cell_type": "code",
   "execution_count": 9,
   "metadata": {
    "colab": {
     "base_uri": "https://localhost:8080/",
     "height": 839
    },
    "id": "mTNO1GZuA__S",
    "outputId": "56ae67d1-4e0c-4a81-adbd-56062b4774b7"
   },
   "outputs": [
    {
     "name": "stderr",
     "output_type": "stream",
     "text": [
      "<ipython-input-9-1bfcd880fecc>:2: FutureWarning: The default value of numeric_only in DataFrame.corr is deprecated. In a future version, it will default to False. Select only valid columns or specify the value of numeric_only to silence this warning.\n",
      "  corr_matrix = data.corr()\n",
      "<ipython-input-9-1bfcd880fecc>:12: FutureWarning: The default value of numeric_only in DataFrame.corr is deprecated. In a future version, it will default to False. Select only valid columns or specify the value of numeric_only to silence this warning.\n",
      "  plt.bar(x=list(data.corr()['Laatste vraagprijs'].sort_values(ascending=False).drop('Laatste vraagprijs').index), height=list(data.corr()['Laatste vraagprijs'].sort_values(ascending=False).drop('Laatste vraagprijs').values), color='teal')\n",
      "<ipython-input-9-1bfcd880fecc>:12: FutureWarning: The default value of numeric_only in DataFrame.corr is deprecated. In a future version, it will default to False. Select only valid columns or specify the value of numeric_only to silence this warning.\n",
      "  plt.bar(x=list(data.corr()['Laatste vraagprijs'].sort_values(ascending=False).drop('Laatste vraagprijs').index), height=list(data.corr()['Laatste vraagprijs'].sort_values(ascending=False).drop('Laatste vraagprijs').values), color='teal')\n"
     ]
    },
    {
     "data": {
      "image/png": "[encoded data removed]",
      "text/plain": [
       "<Figure size 2200x600 with 1 Axes>"
      ]
     },
     "metadata": {},
     "output_type": "display_data"
    }
   ],
   "source": [
    "#correlation matrix\n",
    "corr_matrix = data.corr()\n",
    "\n",
    "drop_list = corr_matrix[corr_matrix['Laatste vraagprijs'].abs() < 0.1].index.to_list()\n",
    "data = data.drop(drop_list, axis=1)\n",
    "\n",
    "plt.figure(figsize=(22,6))\n",
    "plt.bar(x=list(data.corr()['Laatste vraagprijs'].sort_values(ascending=False).drop('Laatste vraagprijs').index), height=list(data.corr()['Laatste vraagprijs'].sort_values(ascending=False).drop('Laatste vraagprijs').values), color='teal')\n",
    "plt.xticks(rotation=90)\n",
    "plt.xlabel('Feature', fontsize=12)\n",
    "plt.ylabel('Correlation', fontsize=12)\n",
    "plt.title('Correlation of Features with Price (After Dropping Low Correlation Variables)', fontsize=15)\n",
    "plt.show()"
   ]
  },
  {
   "cell_type": "code",
   "execution_count": 10,
   "metadata": {
    "colab": {
     "base_uri": "https://localhost:8080/"
    },
    "id": "qoqivWiB8uqN",
    "outputId": "a824095c-c90a-472b-94bc-fd558179a829"
   },
   "outputs": [
    {
     "data": {
      "text/plain": [
       "(5994, 41)"
      ]
     },
     "execution_count": 10,
     "metadata": {},
     "output_type": "execute_result"
    }
   ],
   "source": [
    "data.shape"
   ]
  },
  {
   "cell_type": "markdown",
   "metadata": {
    "id": "eBCUZjjtGZpe"
   },
   "source": [
    "# **Split the Target variable from the input variables**"
   ]
  },
  {
   "cell_type": "code",
   "execution_count": 11,
   "metadata": {
    "colab": {
     "base_uri": "https://localhost:8080/"
    },
    "id": "Svmlef03GFqO",
    "outputId": "b31bbb0e-3363-4412-b2cf-39ecef7d2f82"
   },
   "outputs": [
    {
     "name": "stdout",
     "output_type": "stream",
     "text": [
      "<class 'pandas.core.frame.DataFrame'>\n",
      "Int64Index: 5994 entries, 0 to 6006\n",
      "Data columns (total 40 columns):\n",
      " #   Column                                   Non-Null Count  Dtype  \n",
      "---  ------                                   --------------  -----  \n",
      " 0   Status                                   5994 non-null   object \n",
      " 1   Soort bouw                               5994 non-null   object \n",
      " 2   Aantal kamers                            5994 non-null   int64  \n",
      " 3   Energielabel                             5994 non-null   object \n",
      " 4   Overige inpandige ruimte m2              5994 non-null   int64  \n",
      " 5   Perceel m2                               5994 non-null   int64  \n",
      " 6   Achtertuin m2                            5994 non-null   int64  \n",
      " 7   Aantal dagen tot verkoop                 5994 non-null   object \n",
      " 8   Vraagprijs per m2                        5994 non-null   int64  \n",
      " 9   Woonruimte in m2                         5994 non-null   int64  \n",
      " 10  Gebouwgebonden buitenruimte in m2        5994 non-null   int64  \n",
      " 11  Externe bergruimte in m2                 5994 non-null   int64  \n",
      " 12  Inhoud in m3                             5994 non-null   int64  \n",
      " 13  Aantal slaapkamers                       5994 non-null   int64  \n",
      " 14  Bathrooms                                5994 non-null   int64  \n",
      " 15  Toilets                                  5994 non-null   int64  \n",
      " 16  Kelder                                   5994 non-null   int64  \n",
      " 17  Voorzieningen_Domotica                   5994 non-null   int64  \n",
      " 18  Voorzieningen_Zwembad                    5994 non-null   int64  \n",
      " 19  Voorzieningen_Verwarming                 5994 non-null   int64  \n",
      " 20  Voorzieningen_Stromendwater              5993 non-null   float64\n",
      " 21  Voorzieningen_Alarminstallatie           5993 non-null   float64\n",
      " 22  Voorzieningen_Satellietschotel           5993 non-null   float64\n",
      " 23  Voorzieningen_cctv                       5993 non-null   float64\n",
      " 24  Isolatie_Vollediggeïsoleerd              5993 non-null   float64\n",
      " 25  Verwarming_Gedeeltelijkevloerverwarming  5993 non-null   float64\n",
      " 26  Verwarming_Warmtepomp                    5993 non-null   float64\n",
      " 27  Verwarming_Gehelevloerverwarming         5993 non-null   float64\n",
      " 28  Verwarming_Aardwarmte                    5993 non-null   float64\n",
      " 29  Verwarming_Blokverwarming                5993 non-null   float64\n",
      " 30  Verwarming_Gashaard                      5993 non-null   float64\n",
      " 31  Verwarming_Openhaard                     5993 non-null   float64\n",
      " 32  Tuin_Zijtuin                             5993 non-null   float64\n",
      " 33  Tuin_Tuinrondom                          5993 non-null   float64\n",
      " 34  Tuin_Zonneterras                         5993 non-null   float64\n",
      " 35  Soort garage_Parkeerplaats               5993 non-null   float64\n",
      " 36  Soort garage_Inpandig                    5993 non-null   float64\n",
      " 37  Soort garage_Parkeerkelder               5993 non-null   float64\n",
      " 38  Soort dak                                5993 non-null   object \n",
      " 39  Soort woonhuis                           5993 non-null   object \n",
      "dtypes: float64(18), int64(16), object(6)\n",
      "memory usage: 1.9+ MB\n"
     ]
    }
   ],
   "source": [
    "X = data.drop('Laatste vraagprijs',axis=1)\n",
    "y = data['Laatste vraagprijs']\n",
    "\n",
    "X.head()\n",
    "X.describe()\n",
    "X.info()"
   ]
  },
  {
   "cell_type": "markdown",
   "metadata": {
    "id": "xY4NhRZxTzBo"
   },
   "source": [
    "# **Split the data into Train and Test**"
   ]
  },
  {
   "cell_type": "code",
   "execution_count": 12,
   "metadata": {
    "id": "eipnfczoTzMI"
   },
   "outputs": [],
   "source": [
    "#training and testing sets\n",
    "X_train_full, X_test, y_train, y_test = train_test_split(X, y, test_size=0.2, random_state=0)"
   ]
  },
  {
   "attachments": {},
   "cell_type": "markdown",
   "metadata": {
    "id": "hcj7i2SoPy3R"
   },
   "source": [
    "Scaling and Encoding\n"
   ]
  },
  {
   "cell_type": "code",
   "execution_count": 13,
   "metadata": {
    "colab": {
     "base_uri": "https://localhost:8080/"
    },
    "id": "e-69m4o2Px3w",
    "outputId": "ed276b5a-3b89-45c0-cf87-a7eb96180b54"
   },
   "outputs": [
    {
     "name": "stdout",
     "output_type": "stream",
     "text": [
      "Categorical Columns:\n",
      "['Status', 'Soort bouw', 'Energielabel', 'Aantal dagen tot verkoop', 'Soort dak', 'Soort woonhuis']\n",
      "Numerical Columns:\n",
      "['Aantal kamers', 'Overige inpandige ruimte m2', 'Perceel m2', 'Achtertuin m2', 'Vraagprijs per m2', 'Woonruimte in m2', 'Gebouwgebonden buitenruimte in m2', 'Externe bergruimte in m2', 'Inhoud in m3', 'Aantal slaapkamers', 'Bathrooms', 'Toilets', 'Kelder', 'Voorzieningen_Domotica', 'Voorzieningen_Zwembad', 'Voorzieningen_Verwarming', 'Voorzieningen_Stromendwater', 'Voorzieningen_Alarminstallatie', 'Voorzieningen_Satellietschotel', 'Voorzieningen_cctv', 'Isolatie_Vollediggeïsoleerd', 'Verwarming_Gedeeltelijkevloerverwarming', 'Verwarming_Warmtepomp', 'Verwarming_Gehelevloerverwarming', 'Verwarming_Aardwarmte', 'Verwarming_Blokverwarming', 'Verwarming_Gashaard', 'Verwarming_Openhaard', 'Tuin_Zijtuin', 'Tuin_Tuinrondom', 'Tuin_Zonneterras', 'Soort garage_Parkeerplaats', 'Soort garage_Inpandig', 'Soort garage_Parkeerkelder']\n"
     ]
    }
   ],
   "source": [
    "from sklearn.preprocessing import StandardScaler\n",
    "\n",
    "# transformers\n",
    "numerical_transformer = Pipeline([\n",
    "    ('imputer', SimpleImputer(strategy='mean')),\n",
    "    ('scaler', StandardScaler())\n",
    "])\n",
    "\n",
    "categorical_transformer = Pipeline(steps=[\n",
    "    ('impute', SimpleImputer(strategy='most_frequent')),\n",
    "    ('onehot', OneHotEncoder(handle_unknown='ignore'))\n",
    "])\n",
    "\n",
    "categorical_col = [col for col in X_train_full.columns if X_train_full[col].dtype == 'O' and X_train_full[col].nunique() < 1000]\n",
    "\n",
    "print(\"Categorical Columns:\")\n",
    "print(categorical_col)\n",
    "\n",
    "# numerical columns\n",
    "numerical_col = [col for col in X_train_full.columns if X_train_full[col].dtype in ['float64', 'int64']]\n",
    "\n",
    "print(\"Numerical Columns:\")\n",
    "print(numerical_col)\n",
    "\n",
    "\n",
    "my_cols = categorical_col + numerical_col\n",
    "\n",
    "preprocessor = ColumnTransformer(transformers=[\n",
    "    ('num', numerical_transformer, numerical_col),\n",
    "    ('cat', categorical_transformer, categorical_col)])\n",
    "\n",
    "eval_set_pipe = Pipeline([\n",
    "    ('preprocessor', preprocessor)\n",
    "])"
   ]
  },
  {
   "cell_type": "code",
   "execution_count": 15,
   "metadata": {
    "id": "rHpU5BdER1YI"
   },
   "outputs": [],
   "source": [
    "# Create the preprocessor using ColumnTransformer\n",
    "preprocessor = ColumnTransformer(transformers=[\n",
    "    ('num', numerical_transformer, numerical_col),\n",
    " ('cat', categorical_transformer, categorical_col)])\n",
    "\n",
    "\n",
    "eval_set_pipe = Pipeline([\n",
    "    ('preprocessor', preprocessor)\n",
    "])"
   ]
  },
  {
   "cell_type": "code",
   "execution_count": 16,
   "metadata": {
    "colab": {
     "base_uri": "https://localhost:8080/",
     "height": 542
    },
    "id": "Tlg5LGlakZRu",
    "outputId": "32127f76-1d56-4450-baeb-5d4678a36487"
   },
   "outputs": [
    {
     "data": {
      "text/html": [
       "\n",
       "  <div id=\"df-63937630-1e3d-4133-ade2-131b134d4cc3\" class=\"colab-df-container\">\n",
       "    <div>\n",
       "<style scoped>\n",
       "    .dataframe tbody tr th:only-of-type {\n",
       "        vertical-align: middle;\n",
       "    }\n",
       "\n",
       "    .dataframe tbody tr th {\n",
       "        vertical-align: top;\n",
       "    }\n",
       "\n",
       "    .dataframe thead th {\n",
       "        text-align: right;\n",
       "    }\n",
       "</style>\n",
       "<table border=\"1\" class=\"dataframe\">\n",
       "  <thead>\n",
       "    <tr style=\"text-align: right;\">\n",
       "      <th></th>\n",
       "      <th>Status</th>\n",
       "      <th>Soort bouw</th>\n",
       "      <th>Energielabel</th>\n",
       "      <th>Aantal dagen tot verkoop</th>\n",
       "      <th>Soort dak</th>\n",
       "      <th>Soort woonhuis</th>\n",
       "      <th>Aantal kamers</th>\n",
       "      <th>Overige inpandige ruimte m2</th>\n",
       "      <th>Perceel m2</th>\n",
       "      <th>Achtertuin m2</th>\n",
       "      <th>...</th>\n",
       "      <th>Verwarming_Aardwarmte</th>\n",
       "      <th>Verwarming_Blokverwarming</th>\n",
       "      <th>Verwarming_Gashaard</th>\n",
       "      <th>Verwarming_Openhaard</th>\n",
       "      <th>Tuin_Zijtuin</th>\n",
       "      <th>Tuin_Tuinrondom</th>\n",
       "      <th>Tuin_Zonneterras</th>\n",
       "      <th>Soort garage_Parkeerplaats</th>\n",
       "      <th>Soort garage_Inpandig</th>\n",
       "      <th>Soort garage_Parkeerkelder</th>\n",
       "    </tr>\n",
       "  </thead>\n",
       "  <tbody>\n",
       "    <tr>\n",
       "      <th>5741</th>\n",
       "      <td>Verkocht</td>\n",
       "      <td>Bestaande bouw</td>\n",
       "      <td>A++</td>\n",
       "      <td>3 days</td>\n",
       "      <td>Plat dak bedekt met bitumineuze dakbedekking</td>\n",
       "      <td>Bungalow, geschakelde woning (semi-bungalow)</td>\n",
       "      <td>4</td>\n",
       "      <td>0</td>\n",
       "      <td>255</td>\n",
       "      <td>60</td>\n",
       "      <td>...</td>\n",
       "      <td>0.0</td>\n",
       "      <td>0.0</td>\n",
       "      <td>0.0</td>\n",
       "      <td>0.0</td>\n",
       "      <td>0.0</td>\n",
       "      <td>0.0</td>\n",
       "      <td>0.0</td>\n",
       "      <td>0.0</td>\n",
       "      <td>0.0</td>\n",
       "      <td>0.0</td>\n",
       "    </tr>\n",
       "    <tr>\n",
       "      <th>2167</th>\n",
       "      <td>Verkocht</td>\n",
       "      <td>Bestaande bouw</td>\n",
       "      <td>B</td>\n",
       "      <td>17 days</td>\n",
       "      <td>Plat dak bedekt met bitumineuze dakbedekking</td>\n",
       "      <td>Eengezinswoning, tussenwoning</td>\n",
       "      <td>4</td>\n",
       "      <td>0</td>\n",
       "      <td>148</td>\n",
       "      <td>44</td>\n",
       "      <td>...</td>\n",
       "      <td>0.0</td>\n",
       "      <td>0.0</td>\n",
       "      <td>0.0</td>\n",
       "      <td>0.0</td>\n",
       "      <td>0.0</td>\n",
       "      <td>0.0</td>\n",
       "      <td>0.0</td>\n",
       "      <td>0.0</td>\n",
       "      <td>0.0</td>\n",
       "      <td>0.0</td>\n",
       "    </tr>\n",
       "    <tr>\n",
       "      <th>2419</th>\n",
       "      <td>Verkocht</td>\n",
       "      <td>Bestaande bouw</td>\n",
       "      <td>B</td>\n",
       "      <td>30 days</td>\n",
       "      <td>Plat dak bedekt met bitumineuze dakbedekking</td>\n",
       "      <td>Eengezinswoning, geschakelde woning</td>\n",
       "      <td>4</td>\n",
       "      <td>0</td>\n",
       "      <td>109</td>\n",
       "      <td>0</td>\n",
       "      <td>...</td>\n",
       "      <td>0.0</td>\n",
       "      <td>0.0</td>\n",
       "      <td>0.0</td>\n",
       "      <td>0.0</td>\n",
       "      <td>0.0</td>\n",
       "      <td>0.0</td>\n",
       "      <td>0.0</td>\n",
       "      <td>0.0</td>\n",
       "      <td>0.0</td>\n",
       "      <td>0.0</td>\n",
       "    </tr>\n",
       "    <tr>\n",
       "      <th>483</th>\n",
       "      <td>Verkocht</td>\n",
       "      <td>Nieuwbouw</td>\n",
       "      <td>None</td>\n",
       "      <td>71 days</td>\n",
       "      <td>Plat dak bedekt met bitumineuze dakbedekking</td>\n",
       "      <td>Herenhuis, 2-onder-1-kapwoning</td>\n",
       "      <td>2</td>\n",
       "      <td>0</td>\n",
       "      <td>37</td>\n",
       "      <td>0</td>\n",
       "      <td>...</td>\n",
       "      <td>0.0</td>\n",
       "      <td>0.0</td>\n",
       "      <td>0.0</td>\n",
       "      <td>0.0</td>\n",
       "      <td>0.0</td>\n",
       "      <td>0.0</td>\n",
       "      <td>0.0</td>\n",
       "      <td>0.0</td>\n",
       "      <td>0.0</td>\n",
       "      <td>0.0</td>\n",
       "    </tr>\n",
       "    <tr>\n",
       "      <th>1382</th>\n",
       "      <td>Verkocht</td>\n",
       "      <td>Bestaande bouw</td>\n",
       "      <td>D</td>\n",
       "      <td>12 days</td>\n",
       "      <td>Zadeldak bedekt met pannen</td>\n",
       "      <td>Eengezinswoning, 2-onder-1-kapwoning</td>\n",
       "      <td>6</td>\n",
       "      <td>8</td>\n",
       "      <td>243</td>\n",
       "      <td>95</td>\n",
       "      <td>...</td>\n",
       "      <td>0.0</td>\n",
       "      <td>0.0</td>\n",
       "      <td>0.0</td>\n",
       "      <td>0.0</td>\n",
       "      <td>1.0</td>\n",
       "      <td>0.0</td>\n",
       "      <td>0.0</td>\n",
       "      <td>0.0</td>\n",
       "      <td>0.0</td>\n",
       "      <td>0.0</td>\n",
       "    </tr>\n",
       "  </tbody>\n",
       "</table>\n",
       "<p>5 rows × 40 columns</p>\n",
       "</div>\n",
       "    <div class=\"colab-df-buttons\">\n",
       "\n",
       "  <div class=\"colab-df-container\">\n",
       "    <button class=\"colab-df-convert\" onclick=\"convertToInteractive('df-63937630-1e3d-4133-ade2-131b134d4cc3')\"\n",
       "            title=\"Convert this dataframe to an interactive table.\"\n",
       "            style=\"display:none;\">\n",
       "\n",
       "  <svg xmlns=\"http://www.w3.org/2000/svg\" height=\"24px\" viewBox=\"0 -960 960 960\">\n",
       "    <path d=\"M120-120v-720h720v720H120Zm60-500h600v-160H180v160Zm220 220h160v-160H400v160Zm0 220h160v-160H400v160ZM180-400h160v-160H180v160Zm440 0h160v-160H620v160ZM180-180h160v-160H180v160Zm440 0h160v-160H620v160Z\"/>\n",
       "  </svg>\n",
       "    </button>\n",
       "\n",
       "  <style>\n",
       "    .colab-df-container {\n",
       "      display:flex;\n",
       "      gap: 12px;\n",
       "    }\n",
       "\n",
       "    .colab-df-convert {\n",
       "      background-color: #E8F0FE;\n",
       "      border: none;\n",
       "      border-radius: 50%;\n",
       "      cursor: pointer;\n",
       "      display: none;\n",
       "      fill: #1967D2;\n",
       "      height: 32px;\n",
       "      padding: 0 0 0 0;\n",
       "      width: 32px;\n",
       "    }\n",
       "\n",
       "    .colab-df-convert:hover {\n",
       "      background-color: #E2EBFA;\n",
       "      box-shadow: 0px 1px 2px rgba(60, 64, 67, 0.3), 0px 1px 3px 1px rgba(60, 64, 67, 0.15);\n",
       "      fill: #174EA6;\n",
       "    }\n",
       "\n",
       "    .colab-df-buttons div {\n",
       "      margin-bottom: 4px;\n",
       "    }\n",
       "\n",
       "    [theme=dark] .colab-df-convert {\n",
       "      background-color: #3B4455;\n",
       "      fill: #D2E3FC;\n",
       "    }\n",
       "\n",
       "    [theme=dark] .colab-df-convert:hover {\n",
       "      background-color: #434B5C;\n",
       "      box-shadow: 0px 1px 3px 1px rgba(0, 0, 0, 0.15);\n",
       "      filter: drop-shadow(0px 1px 2px rgba(0, 0, 0, 0.3));\n",
       "      fill: #FFFFFF;\n",
       "    }\n",
       "  </style>\n",
       "\n",
       "    <script>\n",
       "      const buttonEl =\n",
       "        document.querySelector('#df-63937630-1e3d-4133-ade2-131b134d4cc3 button.colab-df-convert');\n",
       "      buttonEl.style.display =\n",
       "        google.colab.kernel.accessAllowed ? 'block' : 'none';\n",
       "\n",
       "      async function convertToInteractive(key) {\n",
       "        const element = document.querySelector('#df-63937630-1e3d-4133-ade2-131b134d4cc3');\n",
       "        const dataTable =\n",
       "          await google.colab.kernel.invokeFunction('convertToInteractive',\n",
       "                                                    [key], {});\n",
       "        if (!dataTable) return;\n",
       "\n",
       "        const docLinkHtml = 'Like what you see? Visit the ' +\n",
       "          '<a target=\"_blank\" href=https://colab.research.google.com/notebooks/data_table.ipynb>data table notebook</a>'\n",
       "          + ' to learn more about interactive tables.';\n",
       "        element.innerHTML = '';\n",
       "        dataTable['output_type'] = 'display_data';\n",
       "        await google.colab.output.renderOutput(dataTable, element);\n",
       "        const docLink = document.createElement('div');\n",
       "        docLink.innerHTML = docLinkHtml;\n",
       "        element.appendChild(docLink);\n",
       "      }\n",
       "    </script>\n",
       "  </div>\n",
       "\n",
       "\n",
       "<div id=\"df-efbc3dac-aedf-4a32-9f80-9c425ac14403\">\n",
       "  <button class=\"colab-df-quickchart\" onclick=\"quickchart('df-efbc3dac-aedf-4a32-9f80-9c425ac14403')\"\n",
       "            title=\"Suggest charts\"\n",
       "            style=\"display:none;\">\n",
       "\n",
       "<svg xmlns=\"http://www.w3.org/2000/svg\" height=\"24px\"viewBox=\"0 0 24 24\"\n",
       "     width=\"24px\">\n",
       "    <g>\n",
       "        <path d=\"M19 3H5c-1.1 0-2 .9-2 2v14c0 1.1.9 2 2 2h14c1.1 0 2-.9 2-2V5c0-1.1-.9-2-2-2zM9 17H7v-7h2v7zm4 0h-2V7h2v10zm4 0h-2v-4h2v4z\"/>\n",
       "    </g>\n",
       "</svg>\n",
       "  </button>\n",
       "\n",
       "<style>\n",
       "  .colab-df-quickchart {\n",
       "      --bg-color: #E8F0FE;\n",
       "      --fill-color: #1967D2;\n",
       "      --hover-bg-color: #E2EBFA;\n",
       "      --hover-fill-color: #174EA6;\n",
       "      --disabled-fill-color: #AAA;\n",
       "      --disabled-bg-color: #DDD;\n",
       "  }\n",
       "\n",
       "  [theme=dark] .colab-df-quickchart {\n",
       "      --bg-color: #3B4455;\n",
       "      --fill-color: #D2E3FC;\n",
       "      --hover-bg-color: #434B5C;\n",
       "      --hover-fill-color: #FFFFFF;\n",
       "      --disabled-bg-color: #3B4455;\n",
       "      --disabled-fill-color: #666;\n",
       "  }\n",
       "\n",
       "  .colab-df-quickchart {\n",
       "    background-color: var(--bg-color);\n",
       "    border: none;\n",
       "    border-radius: 50%;\n",
       "    cursor: pointer;\n",
       "    display: none;\n",
       "    fill: var(--fill-color);\n",
       "    height: 32px;\n",
       "    padding: 0;\n",
       "    width: 32px;\n",
       "  }\n",
       "\n",
       "  .colab-df-quickchart:hover {\n",
       "    background-color: var(--hover-bg-color);\n",
       "    box-shadow: 0 1px 2px rgba(60, 64, 67, 0.3), 0 1px 3px 1px rgba(60, 64, 67, 0.15);\n",
       "    fill: var(--button-hover-fill-color);\n",
       "  }\n",
       "\n",
       "  .colab-df-quickchart-complete:disabled,\n",
       "  .colab-df-quickchart-complete:disabled:hover {\n",
       "    background-color: var(--disabled-bg-color);\n",
       "    fill: var(--disabled-fill-color);\n",
       "    box-shadow: none;\n",
       "  }\n",
       "\n",
       "  .colab-df-spinner {\n",
       "    border: 2px solid var(--fill-color);\n",
       "    border-color: transparent;\n",
       "    border-bottom-color: var(--fill-color);\n",
       "    animation:\n",
       "      spin 1s steps(1) infinite;\n",
       "  }\n",
       "\n",
       "  @keyframes spin {\n",
       "    0% {\n",
       "      border-color: transparent;\n",
       "      border-bottom-color: var(--fill-color);\n",
       "      border-left-color: var(--fill-color);\n",
       "    }\n",
       "    20% {\n",
       "      border-color: transparent;\n",
       "      border-left-color: var(--fill-color);\n",
       "      border-top-color: var(--fill-color);\n",
       "    }\n",
       "    30% {\n",
       "      border-color: transparent;\n",
       "      border-left-color: var(--fill-color);\n",
       "      border-top-color: var(--fill-color);\n",
       "      border-right-color: var(--fill-color);\n",
       "    }\n",
       "    40% {\n",
       "      border-color: transparent;\n",
       "      border-right-color: var(--fill-color);\n",
       "      border-top-color: var(--fill-color);\n",
       "    }\n",
       "    60% {\n",
       "      border-color: transparent;\n",
       "      border-right-color: var(--fill-color);\n",
       "    }\n",
       "    80% {\n",
       "      border-color: transparent;\n",
       "      border-right-color: var(--fill-color);\n",
       "      border-bottom-color: var(--fill-color);\n",
       "    }\n",
       "    90% {\n",
       "      border-color: transparent;\n",
       "      border-bottom-color: var(--fill-color);\n",
       "    }\n",
       "  }\n",
       "</style>\n",
       "\n",
       "  <script>\n",
       "    async function quickchart(key) {\n",
       "      const quickchartButtonEl =\n",
       "        document.querySelector('#' + key + ' button');\n",
       "      quickchartButtonEl.disabled = true;  // To prevent multiple clicks.\n",
       "      quickchartButtonEl.classList.add('colab-df-spinner');\n",
       "      try {\n",
       "        const charts = await google.colab.kernel.invokeFunction(\n",
       "            'suggestCharts', [key], {});\n",
       "      } catch (error) {\n",
       "        console.error('Error during call to suggestCharts:', error);\n",
       "      }\n",
       "      quickchartButtonEl.classList.remove('colab-df-spinner');\n",
       "      quickchartButtonEl.classList.add('colab-df-quickchart-complete');\n",
       "    }\n",
       "    (() => {\n",
       "      let quickchartButtonEl =\n",
       "        document.querySelector('#df-efbc3dac-aedf-4a32-9f80-9c425ac14403 button');\n",
       "      quickchartButtonEl.style.display =\n",
       "        google.colab.kernel.accessAllowed ? 'block' : 'none';\n",
       "    })();\n",
       "  </script>\n",
       "</div>\n",
       "    </div>\n",
       "  </div>\n"
      ],
      "text/plain": [
       "        Status      Soort bouw Energielabel Aantal dagen tot verkoop  \\\n",
       "5741  Verkocht  Bestaande bouw          A++                   3 days   \n",
       "2167  Verkocht  Bestaande bouw            B                  17 days   \n",
       "2419  Verkocht  Bestaande bouw            B                  30 days   \n",
       "483   Verkocht       Nieuwbouw         None                  71 days   \n",
       "1382  Verkocht  Bestaande bouw            D                  12 days   \n",
       "\n",
       "                                         Soort dak  \\\n",
       "5741  Plat dak bedekt met bitumineuze dakbedekking   \n",
       "2167  Plat dak bedekt met bitumineuze dakbedekking   \n",
       "2419  Plat dak bedekt met bitumineuze dakbedekking   \n",
       "483   Plat dak bedekt met bitumineuze dakbedekking   \n",
       "1382                    Zadeldak bedekt met pannen   \n",
       "\n",
       "                                    Soort woonhuis  Aantal kamers  \\\n",
       "5741  Bungalow, geschakelde woning (semi-bungalow)              4   \n",
       "2167                 Eengezinswoning, tussenwoning              4   \n",
       "2419           Eengezinswoning, geschakelde woning              4   \n",
       "483                 Herenhuis, 2-onder-1-kapwoning              2   \n",
       "1382          Eengezinswoning, 2-onder-1-kapwoning              6   \n",
       "\n",
       "      Overige inpandige ruimte m2  Perceel m2  Achtertuin m2  ...  \\\n",
       "5741                            0         255             60  ...   \n",
       "2167                            0         148             44  ...   \n",
       "2419                            0         109              0  ...   \n",
       "483                             0          37              0  ...   \n",
       "1382                            8         243             95  ...   \n",
       "\n",
       "      Verwarming_Aardwarmte  Verwarming_Blokverwarming  Verwarming_Gashaard  \\\n",
       "5741                    0.0                        0.0                  0.0   \n",
       "2167                    0.0                        0.0                  0.0   \n",
       "2419                    0.0                        0.0                  0.0   \n",
       "483                     0.0                        0.0                  0.0   \n",
       "1382                    0.0                        0.0                  0.0   \n",
       "\n",
       "      Verwarming_Openhaard  Tuin_Zijtuin  Tuin_Tuinrondom  Tuin_Zonneterras  \\\n",
       "5741                   0.0           0.0              0.0               0.0   \n",
       "2167                   0.0           0.0              0.0               0.0   \n",
       "2419                   0.0           0.0              0.0               0.0   \n",
       "483                    0.0           0.0              0.0               0.0   \n",
       "1382                   0.0           1.0              0.0               0.0   \n",
       "\n",
       "      Soort garage_Parkeerplaats  Soort garage_Inpandig  \\\n",
       "5741                         0.0                    0.0   \n",
       "2167                         0.0                    0.0   \n",
       "2419                         0.0                    0.0   \n",
       "483                          0.0                    0.0   \n",
       "1382                         0.0                    0.0   \n",
       "\n",
       "      Soort garage_Parkeerkelder  \n",
       "5741                         0.0  \n",
       "2167                         0.0  \n",
       "2419                         0.0  \n",
       "483                          0.0  \n",
       "1382                         0.0  \n",
       "\n",
       "[5 rows x 40 columns]"
      ]
     },
     "execution_count": 16,
     "metadata": {},
     "output_type": "execute_result"
    }
   ],
   "source": [
    "\n",
    "# Transform X_train and X_test without eval_set_pipe\n",
    "X_train_eval = X_train_full[my_cols]\n",
    "X_test_eval = X_test[my_cols]\n",
    "\n",
    "# Convert the original data to DataFrames with the original index (no transformation)\n",
    "X_train_eval_df = pd.DataFrame(X_train_eval, index=X_train_full.index)\n",
    "X_test_eval_df = pd.DataFrame(X_test_eval, index=X_test.index)\n",
    "X_test_eval_df.head()"
   ]
  },
  {
   "cell_type": "code",
   "execution_count": 17,
   "metadata": {
    "colab": {
     "base_uri": "https://localhost:8080/",
     "height": 419
    },
    "id": "vBnUNv8fRyRU",
    "outputId": "374c153a-fcb5-4742-83f8-508eee156c62"
   },
   "outputs": [
    {
     "data": {
      "text/html": [
       "\n",
       "  <div id=\"df-a587421f-2cca-4698-96a0-70e4cd32a62d\" class=\"colab-df-container\">\n",
       "    <div>\n",
       "<style scoped>\n",
       "    .dataframe tbody tr th:only-of-type {\n",
       "        vertical-align: middle;\n",
       "    }\n",
       "\n",
       "    .dataframe tbody tr th {\n",
       "        vertical-align: top;\n",
       "    }\n",
       "\n",
       "    .dataframe thead th {\n",
       "        text-align: right;\n",
       "    }\n",
       "</style>\n",
       "<table border=\"1\" class=\"dataframe\">\n",
       "  <thead>\n",
       "    <tr style=\"text-align: right;\">\n",
       "      <th></th>\n",
       "      <th>0</th>\n",
       "    </tr>\n",
       "  </thead>\n",
       "  <tbody>\n",
       "    <tr>\n",
       "      <th>5741</th>\n",
       "      <td>(0, 0)\\t-0.5\\n  (0, 2)\\t0.6204819277108434\\n...</td>\n",
       "    </tr>\n",
       "    <tr>\n",
       "      <th>2167</th>\n",
       "      <td>(0, 0)\\t-0.5\\n  (0, 2)\\t-0.02409638554216867...</td>\n",
       "    </tr>\n",
       "    <tr>\n",
       "      <th>2419</th>\n",
       "      <td>(0, 0)\\t-0.5\\n  (0, 2)\\t-0.25903614457831325...</td>\n",
       "    </tr>\n",
       "    <tr>\n",
       "      <th>483</th>\n",
       "      <td>(0, 0)\\t-1.5\\n  (0, 2)\\t-0.6927710843373494\\...</td>\n",
       "    </tr>\n",
       "    <tr>\n",
       "      <th>1382</th>\n",
       "      <td>(0, 0)\\t0.5\\n  (0, 1)\\t0.8888888888888888\\n ...</td>\n",
       "    </tr>\n",
       "    <tr>\n",
       "      <th>...</th>\n",
       "      <td>...</td>\n",
       "    </tr>\n",
       "    <tr>\n",
       "      <th>819</th>\n",
       "      <td>(0, 2)\\t0.006024096385542169\\n  (0, 3)\\t0.20...</td>\n",
       "    </tr>\n",
       "    <tr>\n",
       "      <th>4163</th>\n",
       "      <td>(0, 2)\\t-0.15060240963855423\\n  (0, 3)\\t-0.1...</td>\n",
       "    </tr>\n",
       "    <tr>\n",
       "      <th>2115</th>\n",
       "      <td>(0, 0)\\t-0.5\\n  (0, 1)\\t2.111111111111111\\n ...</td>\n",
       "    </tr>\n",
       "    <tr>\n",
       "      <th>1603</th>\n",
       "      <td>(0, 0)\\t-1.0\\n  (0, 2)\\t-0.5180722891566265\\...</td>\n",
       "    </tr>\n",
       "    <tr>\n",
       "      <th>1693</th>\n",
       "      <td>(0, 0)\\t-1.0\\n  (0, 2)\\t-0.01807228915662650...</td>\n",
       "    </tr>\n",
       "  </tbody>\n",
       "</table>\n",
       "<p>1199 rows × 1 columns</p>\n",
       "</div>\n",
       "    <div class=\"colab-df-buttons\">\n",
       "\n",
       "  <div class=\"colab-df-container\">\n",
       "    <button class=\"colab-df-convert\" onclick=\"convertToInteractive('df-a587421f-2cca-4698-96a0-70e4cd32a62d')\"\n",
       "            title=\"Convert this dataframe to an interactive table.\"\n",
       "            style=\"display:none;\">\n",
       "\n",
       "  <svg xmlns=\"http://www.w3.org/2000/svg\" height=\"24px\" viewBox=\"0 -960 960 960\">\n",
       "    <path d=\"M120-120v-720h720v720H120Zm60-500h600v-160H180v160Zm220 220h160v-160H400v160Zm0 220h160v-160H400v160ZM180-400h160v-160H180v160Zm440 0h160v-160H620v160ZM180-180h160v-160H180v160Zm440 0h160v-160H620v160Z\"/>\n",
       "  </svg>\n",
       "    </button>\n",
       "\n",
       "  <style>\n",
       "    .colab-df-container {\n",
       "      display:flex;\n",
       "      gap: 12px;\n",
       "    }\n",
       "\n",
       "    .colab-df-convert {\n",
       "      background-color: #E8F0FE;\n",
       "      border: none;\n",
       "      border-radius: 50%;\n",
       "      cursor: pointer;\n",
       "      display: none;\n",
       "      fill: #1967D2;\n",
       "      height: 32px;\n",
       "      padding: 0 0 0 0;\n",
       "      width: 32px;\n",
       "    }\n",
       "\n",
       "    .colab-df-convert:hover {\n",
       "      background-color: #E2EBFA;\n",
       "      box-shadow: 0px 1px 2px rgba(60, 64, 67, 0.3), 0px 1px 3px 1px rgba(60, 64, 67, 0.15);\n",
       "      fill: #174EA6;\n",
       "    }\n",
       "\n",
       "    .colab-df-buttons div {\n",
       "      margin-bottom: 4px;\n",
       "    }\n",
       "\n",
       "    [theme=dark] .colab-df-convert {\n",
       "      background-color: #3B4455;\n",
       "      fill: #D2E3FC;\n",
       "    }\n",
       "\n",
       "    [theme=dark] .colab-df-convert:hover {\n",
       "      background-color: #434B5C;\n",
       "      box-shadow: 0px 1px 3px 1px rgba(0, 0, 0, 0.15);\n",
       "      filter: drop-shadow(0px 1px 2px rgba(0, 0, 0, 0.3));\n",
       "      fill: #FFFFFF;\n",
       "    }\n",
       "  </style>\n",
       "\n",
       "    <script>\n",
       "      const buttonEl =\n",
       "        document.querySelector('#df-a587421f-2cca-4698-96a0-70e4cd32a62d button.colab-df-convert');\n",
       "      buttonEl.style.display =\n",
       "        google.colab.kernel.accessAllowed ? 'block' : 'none';\n",
       "\n",
       "      async function convertToInteractive(key) {\n",
       "        const element = document.querySelector('#df-a587421f-2cca-4698-96a0-70e4cd32a62d');\n",
       "        const dataTable =\n",
       "          await google.colab.kernel.invokeFunction('convertToInteractive',\n",
       "                                                    [key], {});\n",
       "        if (!dataTable) return;\n",
       "\n",
       "        const docLinkHtml = 'Like what you see? Visit the ' +\n",
       "          '<a target=\"_blank\" href=https://colab.research.google.com/notebooks/data_table.ipynb>data table notebook</a>'\n",
       "          + ' to learn more about interactive tables.';\n",
       "        element.innerHTML = '';\n",
       "        dataTable['output_type'] = 'display_data';\n",
       "        await google.colab.output.renderOutput(dataTable, element);\n",
       "        const docLink = document.createElement('div');\n",
       "        docLink.innerHTML = docLinkHtml;\n",
       "        element.appendChild(docLink);\n",
       "      }\n",
       "    </script>\n",
       "  </div>\n",
       "\n",
       "\n",
       "<div id=\"df-36c527b1-b08c-406f-a260-5b59e3459d7e\">\n",
       "  <button class=\"colab-df-quickchart\" onclick=\"quickchart('df-36c527b1-b08c-406f-a260-5b59e3459d7e')\"\n",
       "            title=\"Suggest charts\"\n",
       "            style=\"display:none;\">\n",
       "\n",
       "<svg xmlns=\"http://www.w3.org/2000/svg\" height=\"24px\"viewBox=\"0 0 24 24\"\n",
       "     width=\"24px\">\n",
       "    <g>\n",
       "        <path d=\"M19 3H5c-1.1 0-2 .9-2 2v14c0 1.1.9 2 2 2h14c1.1 0 2-.9 2-2V5c0-1.1-.9-2-2-2zM9 17H7v-7h2v7zm4 0h-2V7h2v10zm4 0h-2v-4h2v4z\"/>\n",
       "    </g>\n",
       "</svg>\n",
       "  </button>\n",
       "\n",
       "<style>\n",
       "  .colab-df-quickchart {\n",
       "      --bg-color: #E8F0FE;\n",
       "      --fill-color: #1967D2;\n",
       "      --hover-bg-color: #E2EBFA;\n",
       "      --hover-fill-color: #174EA6;\n",
       "      --disabled-fill-color: #AAA;\n",
       "      --disabled-bg-color: #DDD;\n",
       "  }\n",
       "\n",
       "  [theme=dark] .colab-df-quickchart {\n",
       "      --bg-color: #3B4455;\n",
       "      --fill-color: #D2E3FC;\n",
       "      --hover-bg-color: #434B5C;\n",
       "      --hover-fill-color: #FFFFFF;\n",
       "      --disabled-bg-color: #3B4455;\n",
       "      --disabled-fill-color: #666;\n",
       "  }\n",
       "\n",
       "  .colab-df-quickchart {\n",
       "    background-color: var(--bg-color);\n",
       "    border: none;\n",
       "    border-radius: 50%;\n",
       "    cursor: pointer;\n",
       "    display: none;\n",
       "    fill: var(--fill-color);\n",
       "    height: 32px;\n",
       "    padding: 0;\n",
       "    width: 32px;\n",
       "  }\n",
       "\n",
       "  .colab-df-quickchart:hover {\n",
       "    background-color: var(--hover-bg-color);\n",
       "    box-shadow: 0 1px 2px rgba(60, 64, 67, 0.3), 0 1px 3px 1px rgba(60, 64, 67, 0.15);\n",
       "    fill: var(--button-hover-fill-color);\n",
       "  }\n",
       "\n",
       "  .colab-df-quickchart-complete:disabled,\n",
       "  .colab-df-quickchart-complete:disabled:hover {\n",
       "    background-color: var(--disabled-bg-color);\n",
       "    fill: var(--disabled-fill-color);\n",
       "    box-shadow: none;\n",
       "  }\n",
       "\n",
       "  .colab-df-spinner {\n",
       "    border: 2px solid var(--fill-color);\n",
       "    border-color: transparent;\n",
       "    border-bottom-color: var(--fill-color);\n",
       "    animation:\n",
       "      spin 1s steps(1) infinite;\n",
       "  }\n",
       "\n",
       "  @keyframes spin {\n",
       "    0% {\n",
       "      border-color: transparent;\n",
       "      border-bottom-color: var(--fill-color);\n",
       "      border-left-color: var(--fill-color);\n",
       "    }\n",
       "    20% {\n",
       "      border-color: transparent;\n",
       "      border-left-color: var(--fill-color);\n",
       "      border-top-color: var(--fill-color);\n",
       "    }\n",
       "    30% {\n",
       "      border-color: transparent;\n",
       "      border-left-color: var(--fill-color);\n",
       "      border-top-color: var(--fill-color);\n",
       "      border-right-color: var(--fill-color);\n",
       "    }\n",
       "    40% {\n",
       "      border-color: transparent;\n",
       "      border-right-color: var(--fill-color);\n",
       "      border-top-color: var(--fill-color);\n",
       "    }\n",
       "    60% {\n",
       "      border-color: transparent;\n",
       "      border-right-color: var(--fill-color);\n",
       "    }\n",
       "    80% {\n",
       "      border-color: transparent;\n",
       "      border-right-color: var(--fill-color);\n",
       "      border-bottom-color: var(--fill-color);\n",
       "    }\n",
       "    90% {\n",
       "      border-color: transparent;\n",
       "      border-bottom-color: var(--fill-color);\n",
       "    }\n",
       "  }\n",
       "</style>\n",
       "\n",
       "  <script>\n",
       "    async function quickchart(key) {\n",
       "      const quickchartButtonEl =\n",
       "        document.querySelector('#' + key + ' button');\n",
       "      quickchartButtonEl.disabled = true;  // To prevent multiple clicks.\n",
       "      quickchartButtonEl.classList.add('colab-df-spinner');\n",
       "      try {\n",
       "        const charts = await google.colab.kernel.invokeFunction(\n",
       "            'suggestCharts', [key], {});\n",
       "      } catch (error) {\n",
       "        console.error('Error during call to suggestCharts:', error);\n",
       "      }\n",
       "      quickchartButtonEl.classList.remove('colab-df-spinner');\n",
       "      quickchartButtonEl.classList.add('colab-df-quickchart-complete');\n",
       "    }\n",
       "    (() => {\n",
       "      let quickchartButtonEl =\n",
       "        document.querySelector('#df-36c527b1-b08c-406f-a260-5b59e3459d7e button');\n",
       "      quickchartButtonEl.style.display =\n",
       "        google.colab.kernel.accessAllowed ? 'block' : 'none';\n",
       "    })();\n",
       "  </script>\n",
       "</div>\n",
       "    </div>\n",
       "  </div>\n"
      ],
      "text/plain": [
       "                                                      0\n",
       "5741    (0, 0)\\t-0.5\\n  (0, 2)\\t0.6204819277108434\\n...\n",
       "2167    (0, 0)\\t-0.5\\n  (0, 2)\\t-0.02409638554216867...\n",
       "2419    (0, 0)\\t-0.5\\n  (0, 2)\\t-0.25903614457831325...\n",
       "483     (0, 0)\\t-1.5\\n  (0, 2)\\t-0.6927710843373494\\...\n",
       "1382    (0, 0)\\t0.5\\n  (0, 1)\\t0.8888888888888888\\n ...\n",
       "...                                                 ...\n",
       "819     (0, 2)\\t0.006024096385542169\\n  (0, 3)\\t0.20...\n",
       "4163    (0, 2)\\t-0.15060240963855423\\n  (0, 3)\\t-0.1...\n",
       "2115    (0, 0)\\t-0.5\\n  (0, 1)\\t2.111111111111111\\n ...\n",
       "1603    (0, 0)\\t-1.0\\n  (0, 2)\\t-0.5180722891566265\\...\n",
       "1693    (0, 0)\\t-1.0\\n  (0, 2)\\t-0.01807228915662650...\n",
       "\n",
       "[1199 rows x 1 columns]"
      ]
     },
     "execution_count": 17,
     "metadata": {},
     "output_type": "execute_result"
    }
   ],
   "source": [
    "\n",
    "column_names_df = pd.DataFrame([X_train_full[my_cols].columns])\n",
    "\n",
    "# X_train and X_test using eval_set_pipe transformation\n",
    "X_train_eval = eval_set_pipe.fit_transform(X_train_full[my_cols])\n",
    "X_test_eval = eval_set_pipe.transform(X_test[my_cols])\n",
    "\n",
    "\n",
    "X_train_eval_df = pd.DataFrame(X_train_eval, index=X_train_full.index)\n",
    "X_test_eval_df = pd.DataFrame(X_test_eval, index=X_test.index)\n",
    "X_test_eval_df"
   ]
  },
  {
   "cell_type": "code",
   "execution_count": 18,
   "metadata": {
    "id": "tw9XzngqDOTx"
   },
   "outputs": [],
   "source": [
    "my_model_adaboost = AdaBoostRegressor(n_estimators=1500, learning_rate=0.001, loss='exponential', random_state=60)"
   ]
  },
  {
   "cell_type": "code",
   "execution_count": 19,
   "metadata": {
    "id": "3bbNg9M8l8wY"
   },
   "outputs": [],
   "source": [
    "\n",
    "X_train_eval = eval_set_pipe.fit_transform(X_train_full[my_cols])\n",
    "X_test_eval = eval_set_pipe.transform(X_test[my_cols])\n",
    "\n",
    "# change to numeric variable\n",
    "y_train_numeric = y_train.astype('float')\n",
    "\n",
    "# Train\n",
    "my_model_adaboost.fit(X_train_eval, y_train_numeric)\n",
    "\n",
    "#  test set\n",
    "y_test_pred_adaboost = my_model_adaboost.predict(X_test_eval)"
   ]
  },
  {
   "cell_type": "code",
   "execution_count": null,
   "metadata": {
    "colab": {
     "base_uri": "https://localhost:8080/"
    },
    "id": "lZ9HjJU2mTvZ",
    "outputId": "14164b41-d4a8-4260-ff11-95331fc0f0c8"
   },
   "outputs": [
    {
     "name": "stdout",
     "output_type": "stream",
     "text": [
      "R2 Score_XGBoost Regression= 0.7876634724328913\n",
      "Mean Squared Error (MSE): 9196949675.978456\n",
      "Root Mean Squared Error (RMSE): 95900.72823487033\n",
      "Mean Absolute Error (MAE): 62828.008955151476\n",
      "Mean Absolute Percentage Error (MAPE): 16.458716686843754 %\n"
     ]
    }
   ],
   "source": [
    "\n",
    "mse = mean_squared_error(y_test, y_test_pred_adaboost)\n",
    "rmse = np.sqrt(mse)\n",
    "mae = mean_absolute_error(y_test, y_test_pred_adaboost)\n",
    "\n",
    "\n",
    "mape = np.mean(np.abs((y_test - y_test_pred_adaboost) / y_test)) * 100\n",
    "\n",
    "from sklearn import metrics\n",
    "print('R2 Score_XGBoost Regression=',metrics.r2_score(y_test, y_test_pred_adaboost))\n",
    "\n",
    "\n",
    "print(\"Mean Squared Error (MSE):\", mse)\n",
    "print(\"Root Mean Squared Error (RMSE):\", rmse)\n",
    "print(\"Mean Absolute Error (MAE):\", mae)\n",
    "print(\"Mean Absolute Percentage Error (MAPE):\", mape, \"%\")\n"
   ]
  },
  {
   "cell_type": "code",
   "execution_count": 20,
   "metadata": {
    "colab": {
     "base_uri": "https://localhost:8080/",
     "height": 569
    },
    "id": "dYksEbHt2C7z",
    "outputId": "d795fd62-baf9-46cf-9a2e-0b6842aced89"
   },
   "outputs": [
    {
     "data": {
      "image/png": "[encoded data removed]",
      "text/plain": [
       "<Figure size 800x600 with 1 Axes>"
      ]
     },
     "metadata": {},
     "output_type": "display_data"
    }
   ],
   "source": [
    "import matplotlib.pyplot as plt\n",
    "import numpy as np\n",
    "\n",
    "\n",
    "plt.figure(figsize=(8,6))\n",
    "plt.scatter(x=y_test, y=y_test_pred_adaboost , color='dodgerblue')\n",
    "\n",
    "# 45-degree line to represent the perfect prediction\n",
    "plt.plot(y_test,y_test, color='deeppink')\n",
    "\n",
    "\n",
    "plt.xlabel('Actual Sensitivity',fontsize=12)\n",
    "plt.ylabel('Predicted Sensitivity',fontsize=12)\n",
    "plt.title('AdaBooost Pedicted vs Actual',fontsize=14)\n",
    "\n",
    "# Display the plot\n",
    "plt.show()"
   ]
  },
  {
   "cell_type": "code",
   "execution_count": null,
   "metadata": {
    "colab": {
     "base_uri": "https://localhost:8080/"
    },
    "id": "3Zs52XBtgjl7",
    "outputId": "05390eb1-9681-4772-9245-8b7a3ad57daf"
   },
   "outputs": [
    {
     "name": "stdout",
     "output_type": "stream",
     "text": [
      "      Actual      Predicted\n",
      "6209  369000  540132.006757\n",
      "343   525000  395756.891045\n",
      "9788  420000  403541.787879\n",
      "3056  350000  345710.254167\n",
      "6513  235000  263155.594519\n"
     ]
    }
   ],
   "source": [
    "# Transform X_test using eval_set_pipe\n",
    "X_test_eval = eval_set_pipe.transform(X_test.copy())\n",
    "\n",
    "# Convert the transformed data to a DataFrame with the original index\n",
    "X_test_eval_df = pd.DataFrame(X_test_eval, index=X_test.index)\n",
    "\n",
    "# predictions on the test set using the transformed data\n",
    "pred_test = my_model_adaboost.predict(X_test_eval)\n",
    "\n",
    "\n",
    "predictions_df = pd.DataFrame({'Actual': y_test, 'Predicted': y_test_pred_adaboost})\n",
    "\n",
    "\n",
    "print(predictions_df.head())"
   ]
  },
  {
   "cell_type": "code",
   "execution_count": null,
   "metadata": {
    "id": "G7HGOcD3SgX-"
   },
   "outputs": [],
   "source": [
    "import time\n",
    "from sklearn.model_selection import RandomizedSearchCV, train_test_split\n",
    "from sklearn.ensemble import AdaBoostRegressor\n",
    "from sklearn.metrics import mean_squared_error, mean_absolute_error, mean_absolute_percentage_error\n",
    "\n",
    "\n",
    "\n",
    "#log transformation\n",
    "data['Laatste vraagprijs_log'] = np.log1p(data['Laatste vraagprijs'].dropna())\n",
    "\n",
    "# the AdaBoostRegressor model\n",
    "my_model_adaboost = AdaBoostRegressor(n_estimators=1500, learning_rate=0.01)\n",
    "\n",
    "param_grid_adaboost = {\n",
    "    'n_estimators': range(50, 5000, 100),\n",
    "    'learning_rate': [0.001, 0.005, 0.01, 0.05, 0.1],\n",
    "}\n",
    "\n",
    "\n",
    "start_time_adaboost = time.time()\n",
    "\n",
    "\n",
    "random_search_adaboost = RandomizedSearchCV(my_model_adaboost, param_grid_adaboost, cv=5, scoring='neg_mean_squared_error', n_iter=5)\n",
    "\n",
    "\n",
    "\n",
    "# Fit the RandomizedSearchCV object to the training data\n",
    "random_search_adaboost.fit(X_train_eval, y_train_numeric)\n",
    "\n",
    "# Get the best model from the RandomizedSearchCV object\n",
    "best_model_adaboost = random_search_adaboost.best_estimator_\n",
    "\n",
    "\n",
    "best_model_adaboost.fit(X_train_eval, y_train_numeric)\n",
    "\n",
    "# Calculate the time it took to train the AdaBoost model\n",
    "training_time_adaboost = time.time() - start_time_adaboost\n",
    "\n",
    "# Calculate the time left to finish the code to run in percentage\n",
    "time_left_percentage_adaboost = (100 - (training_time_adaboost / (training_time_adaboost + 1))) * 100\n",
    "\n",
    "# Print the time it took to train the AdaBoost model and the time left in percentage\n",
    "print(\"Training time (AdaBoost):\", training_time_adaboost)\n",
    "print(\"Time left in percentage (AdaBoost):\", time_left_percentage_adaboost)\n",
    "\n",
    "# Make predictions on the test set with the best AdaBoost model\n",
    "y_test_pred_adaboost = best_model_adaboost.predict(X_test_eval)"
   ]
  },
  {
   "cell_type": "code",
   "execution_count": null,
   "metadata": {
    "id": "pIND5U3i3gsD"
   },
   "outputs": [],
   "source": [
    "\n",
    "from sklearn import metrics\n",
    "print('R2 Score_ADABoost Regression=',metrics.r2_score(y_test,y_test_pred))\n",
    "\n",
    "\n",
    "# Print the accuracy measures\n",
    "print(\"Mean Squared Error (MSE):\", mse)\n",
    "print(\"Root Mean Squared Error (RMSE):\", rmse)\n",
    "print(\"Mean Absolute Error (MAE):\", mae)\n",
    "print(\"Mean Absolute Percentage Error (MAPE):\", mape, \"%\")"
   ]
  },
  {
   "cell_type": "code",
   "execution_count": null,
   "metadata": {
    "colab": {
     "base_uri": "https://localhost:8080/"
    },
    "id": "MkYEGjWn4t8X",
    "outputId": "753d52e7-f35c-4963-86da-bb70fdd3bad8"
   },
   "outputs": [
    {
     "name": "stdout",
     "output_type": "stream",
     "text": [
      "Best Parameters: {'random_state': 123, 'n_estimators': 1000, 'loss': 'square', 'learning_rate': 0.1}\n"
     ]
    }
   ],
   "source": [
    "from sklearn.model_selection import RandomizedSearchCV\n",
    "from sklearn.ensemble import AdaBoostRegressor\n",
    "from scipy.stats import uniform\n",
    "\n",
    "# Transform X_train and X_test using eval_set_pipe\n",
    "X_train_eval = eval_set_pipe.fit_transform(X_train_full[my_cols])\n",
    "X_test_eval = eval_set_pipe.transform(X_test[my_cols])\n",
    "\n",
    "\n",
    "y_train_numeric = y_train.astype('float')\n",
    "\n",
    "# Define the parameter grid for randomized search\n",
    "param_dist = {\n",
    "    'n_estimators': [100, 500, 1000, 1500],\n",
    "    'learning_rate': [0.001, 0.01, 0.1, 0.2, 0.5],\n",
    "    'loss': ['linear', 'square', 'exponential'],\n",
    "    'random_state': [10, 42, 123, 456, 600]  # Add random_state values to the parameter grid\n",
    "}\n",
    "\n",
    "# Create an AdaBoostRegressor model\n",
    "base_model = AdaBoostRegressor()\n",
    "\n",
    "# Create a RandomizedSearchCV object\n",
    "random_search = RandomizedSearchCAV(base_model, param_distributions=param_dist, n_iter=10, cv=5, scoring='neg_mean_squared_error', random_state=42)\n",
    "\n",
    "\n",
    "random_search.fit(X_train_eval, y_train_numeric)\n",
    "\n",
    "# Get the best parameters from the RandomizedSearchCV\n",
    "best_params = random_search.best_params_\n",
    "\n",
    "\n",
    "print(\"Best Parameters:\", best_params)\n",
    "\n",
    "\n",
    "best_model_adaboost = random_search.best_estimator_\n",
    "\n",
    "\n",
    "y_test_pred_adaboost = best_model_adaboost.predict(X_test_eval)"
   ]
  }
 ],
 "metadata": {
  "colab": {
   "collapsed_sections": [
    "eBCUZjjtGZpe",
    "xY4NhRZxTzBo",
    "hcj7i2SoPy3R",
    "sUtQ3LuAXb-9",
    "VdjMWgCZR3Ad"
   ],
   "provenance": []
  },
  "kernelspec": {
   "display_name": "Python 3 (ipykernel)",
   "language": "python",
   "name": "python3"
  },
  "language_info": {
   "codemirror_mode": {
    "name": "ipython",
    "version": 3
   },
   "file_extension": ".py",
   "mimetype": "text/x-python",
   "name": "python",
   "nbconvert_exporter": "python",
   "pygments_lexer": "ipython3",
   "version": "3.11.3"
  }
 },
 "nbformat": 4,
 "nbformat_minor": 1
}
