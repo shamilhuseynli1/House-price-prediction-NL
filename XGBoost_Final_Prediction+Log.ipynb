{
 "cells": [
  {
   "cell_type": "code",
   "execution_count": 1,
   "metadata": {
    "id": "5cWud6AZAfSl"
   },
   "outputs": [],
   "source": [
    "import numpy as np\n",
    "import pandas as pd\n",
    "import pandas as pd\n",
    "import matplotlib.pyplot as plt\n",
    "from sklearn.model_selection import train_test_split\n",
    "from sklearn.preprocessing import OneHotEncoder\n",
    "from sklearn.impute import SimpleImputer\n",
    "from xgboost import XGBRegressor\n",
    "from sklearn.model_selection import train_test_split\n",
    "from sklearn.pipeline import Pipeline\n",
    "from sklearn.impute import SimpleImputer\n",
    "from sklearn.preprocessing import OneHotEncoder\n",
    "from sklearn.compose import ColumnTransformer\n",
    "from sklearn.model_selection import train_test_split\n",
    "from sklearn.metrics import mean_squared_error, mean_absolute_error\n",
    "from scipy.stats import skew\n",
    "from sklearn.model_selection import train_test_split\n",
    "from sklearn.impute import SimpleImputer\n",
    "from sklearn.preprocessing import OneHotEncoder\n",
    "from sklearn.compose import ColumnTransformer\n",
    "from sklearn.pipeline import Pipeline"
   ]
  },
  {
   "cell_type": "code",
   "execution_count": 2,
   "metadata": {
    "id": "fmaZjzCaJV-H"
   },
   "outputs": [],
   "source": [
    "path = 'Funda_dataset_cleaned.csv'\n",
    "\n",
    "data = pd.read_csv(path)\n"
   ]
  },
  {
   "cell_type": "code",
   "execution_count": null,
   "metadata": {
    "colab": {
     "base_uri": "https://localhost:8080/"
    },
    "id": "s8MFJeH_FB3R",
    "outputId": "23b0a4a2-b5dc-4578-8cb9-dce4c85628ef"
   },
   "outputs": [
    {
     "name": "stdout",
     "output_type": "stream",
     "text": [
      "<class 'pandas.core.frame.DataFrame'>\n",
      "RangeIndex: 9884 entries, 0 to 9883\n",
      "Columns: 112 entries, Aangeboden sinds to Soort woonhuis\n",
      "dtypes: int64(104), object(8)\n",
      "memory usage: 8.4+ MB\n"
     ]
    }
   ],
   "source": [
    "data.info()"
   ]
  },
  {
   "cell_type": "code",
   "execution_count": null,
   "metadata": {
    "colab": {
     "base_uri": "https://localhost:8080/"
    },
    "id": "83jrCvFIFmdm",
    "outputId": "522ab95f-e35c-4bfa-bda7-682ae4b8e2e5"
   },
   "outputs": [
    {
     "data": {
      "text/plain": [
       "(9884, 112)"
      ]
     },
     "execution_count": 4,
     "metadata": {},
     "output_type": "execute_result"
    }
   ],
   "source": [
    "data.shape"
   ]
  },
  {
   "cell_type": "code",
   "execution_count": null,
   "metadata": {
    "colab": {
     "base_uri": "https://localhost:8080/"
    },
    "id": "ttizsV_2FxSH",
    "outputId": "acf7794d-2ddd-4ed7-ac04-f23954b40089"
   },
   "outputs": [
    {
     "name": "stdout",
     "output_type": "stream",
     "text": [
      "[dtype('O') dtype('int64')]\n"
     ]
    }
   ],
   "source": [
    "print(data.dtypes.unique())"
   ]
  },
  {
   "cell_type": "code",
   "execution_count": 4,
   "metadata": {
    "colab": {
     "base_uri": "https://localhost:8080/"
    },
    "id": "56GkDxw8F959",
    "outputId": "cb27d0cf-f1b7-4ef7-ab78-dec566828d8c"
   },
   "outputs": [
    {
     "name": "stdout",
     "output_type": "stream",
     "text": [
      "Number of duplicate rows: 13\n"
     ]
    }
   ],
   "source": [
    "\n",
    "num_duplicates = data.duplicated().sum()\n",
    "print(\"Number of duplicate rows:\", num_duplicates)\n",
    "\n",
    "\n",
    "data.drop_duplicates(inplace=True)"
   ]
  },
  {
   "cell_type": "code",
   "execution_count": 5,
   "metadata": {
    "id": "TeCE0bGAzle4"
   },
   "outputs": [],
   "source": [
    "data.drop(['Aangeboden sinds', 'Verkoopdatum'], axis=1, inplace=True)"
   ]
  },
  {
   "cell_type": "code",
   "execution_count": 6,
   "metadata": {
    "colab": {
     "base_uri": "https://localhost:8080/"
    },
    "id": "BNV8qDX6zljQ",
    "outputId": "56b1ea78-9245-459a-f633-a171ece6ffd3"
   },
   "outputs": [
    {
     "name": "stderr",
     "output_type": "stream",
     "text": [
      "<ipython-input-6-855a70a2f4ab>:1: FutureWarning: The default value of numeric_only in DataFrame.corr is deprecated. In a future version, it will default to False. Select only valid columns or specify the value of numeric_only to silence this warning.\n",
      "  data.corr()['Laatste vraagprijs'].sort_values(ascending=False).drop('Laatste vraagprijs')\n"
     ]
    },
    {
     "data": {
      "text/plain": [
       "Woonruimte in m2                            0.680477\n",
       "Inhoud in m3                                0.587934\n",
       "Bathrooms                                   0.474886\n",
       "Vraagprijs per m2                           0.470889\n",
       "Aantal kamers                               0.403485\n",
       "                                              ...   \n",
       "Schuur/berging_Box                         -0.053630\n",
       "Isolatie_Geenisolatie                      -0.061635\n",
       "Voorzieningen_Tvkabel                      -0.077961\n",
       "Schuur/berging_Vrijstaandestenen berging   -0.094548\n",
       "Verwarming_Blokverwarming                  -0.136348\n",
       "Name: Laatste vraagprijs, Length: 103, dtype: float64"
      ]
     },
     "execution_count": 6,
     "metadata": {},
     "output_type": "execute_result"
    }
   ],
   "source": [
    "data.corr()['Laatste vraagprijs'].sort_values(ascending=False).drop('Laatste vraagprijs')"
   ]
  },
  {
   "cell_type": "code",
   "execution_count": 7,
   "metadata": {
    "colab": {
     "base_uri": "https://localhost:8080/"
    },
    "id": "tcyIZORS7Uxn",
    "outputId": "f26b971c-83f8-4a8d-f82e-70a54ec62ca9"
   },
   "outputs": [
    {
     "name": "stderr",
     "output_type": "stream",
     "text": [
      "<ipython-input-7-1875e60eb14e>:1: FutureWarning: The default value of numeric_only in DataFrame.corr is deprecated. In a future version, it will default to False. Select only valid columns or specify the value of numeric_only to silence this warning.\n",
      "  cor=data.corr()['Laatste vraagprijs'].sort_values(ascending=False).drop('Laatste vraagprijs')\n"
     ]
    }
   ],
   "source": [
    "cor=data.corr()['Laatste vraagprijs'].sort_values(ascending=False).drop('Laatste vraagprijs')"
   ]
  },
  {
   "cell_type": "code",
   "execution_count": 8,
   "metadata": {
    "colab": {
     "base_uri": "https://localhost:8080/",
     "height": 839
    },
    "id": "mTNO1GZuA__S",
    "outputId": "55e506b1-499a-42e7-f17e-80e38a219356"
   },
   "outputs": [
    {
     "name": "stderr",
     "output_type": "stream",
     "text": [
      "<ipython-input-8-1bfcd880fecc>:2: FutureWarning: The default value of numeric_only in DataFrame.corr is deprecated. In a future version, it will default to False. Select only valid columns or specify the value of numeric_only to silence this warning.\n",
      "  corr_matrix = data.corr()\n",
      "<ipython-input-8-1bfcd880fecc>:12: FutureWarning: The default value of numeric_only in DataFrame.corr is deprecated. In a future version, it will default to False. Select only valid columns or specify the value of numeric_only to silence this warning.\n",
      "  plt.bar(x=list(data.corr()['Laatste vraagprijs'].sort_values(ascending=False).drop('Laatste vraagprijs').index), height=list(data.corr()['Laatste vraagprijs'].sort_values(ascending=False).drop('Laatste vraagprijs').values), color='teal')\n",
      "<ipython-input-8-1bfcd880fecc>:12: FutureWarning: The default value of numeric_only in DataFrame.corr is deprecated. In a future version, it will default to False. Select only valid columns or specify the value of numeric_only to silence this warning.\n",
      "  plt.bar(x=list(data.corr()['Laatste vraagprijs'].sort_values(ascending=False).drop('Laatste vraagprijs').index), height=list(data.corr()['Laatste vraagprijs'].sort_values(ascending=False).drop('Laatste vraagprijs').values), color='teal')\n"
     ]
    },
    {
     "data": {
      "image/png": "[encoded data removed]",
      "text/plain": [
       "<Figure size 2200x600 with 1 Axes>"
      ]
     },
     "metadata": {},
     "output_type": "display_data"
    }
   ],
   "source": [
    "corr_matrix = data.corr()\n",
    "drop_list = corr_matrix[corr_matrix['Laatste vraagprijs'].abs() < 0.1].index.to_list()\n",
    "\n",
    "data = data.drop(drop_list, axis=1)\n",
    "\n",
    "\n",
    "plt.figure(figsize=(22,6))\n",
    "plt.bar(x=list(data.corr()['Laatste vraagprijs'].sort_values(ascending=False).drop('Laatste vraagprijs').index), height=list(data.corr()['Laatste vraagprijs'].sort_values(ascending=False).drop('Laatste vraagprijs').values), color='teal')\n",
    "plt.xticks(rotation=90)\n",
    "plt.xlabel('Feature', fontsize=12)\n",
    "plt.ylabel('Correlation', fontsize=12)\n",
    "plt.title('Correlation of Features with Price (After Dropping Low Correlation Variables)', fontsize=15)\n",
    "plt.show()"
   ]
  },
  {
   "cell_type": "code",
   "execution_count": null,
   "metadata": {
    "colab": {
     "base_uri": "https://localhost:8080/"
    },
    "id": "qoqivWiB8uqN",
    "outputId": "065c4e61-205f-46d5-9c7b-5650a9886c65"
   },
   "outputs": [
    {
     "data": {
      "text/plain": [
       "(9871, 40)"
      ]
     },
     "execution_count": 13,
     "metadata": {},
     "output_type": "execute_result"
    }
   ],
   "source": [
    "data.shape"
   ]
  },
  {
   "cell_type": "markdown",
   "metadata": {
    "id": "eBCUZjjtGZpe"
   },
   "source": [
    "# **Split the Target variable from the input variables**"
   ]
  },
  {
   "cell_type": "code",
   "execution_count": 9,
   "metadata": {
    "colab": {
     "base_uri": "https://localhost:8080/"
    },
    "id": "Svmlef03GFqO",
    "outputId": "a6211edf-491f-49de-a8c5-be62f1cc4404"
   },
   "outputs": [
    {
     "name": "stdout",
     "output_type": "stream",
     "text": [
      "<class 'pandas.core.frame.DataFrame'>\n",
      "Int64Index: 9871 entries, 0 to 9883\n",
      "Data columns (total 39 columns):\n",
      " #   Column                                   Non-Null Count  Dtype \n",
      "---  ------                                   --------------  ----- \n",
      " 0   Status                                   9871 non-null   object\n",
      " 1   Soort bouw                               9871 non-null   object\n",
      " 2   Aantal kamers                            9871 non-null   int64 \n",
      " 3   Energielabel                             9871 non-null   object\n",
      " 4   Overige inpandige ruimte m2              9871 non-null   int64 \n",
      " 5   Perceel m2                               9871 non-null   int64 \n",
      " 6   Achtertuin m2                            9871 non-null   int64 \n",
      " 7   Aantal dagen tot verkoop                 9871 non-null   object\n",
      " 8   Vraagprijs per m2                        9871 non-null   int64 \n",
      " 9   Woonruimte in m2                         9871 non-null   int64 \n",
      " 10  Gebouwgebonden buitenruimte in m2        9871 non-null   int64 \n",
      " 11  Externe bergruimte in m2                 9871 non-null   int64 \n",
      " 12  Inhoud in m3                             9871 non-null   int64 \n",
      " 13  Aantal slaapkamers                       9871 non-null   int64 \n",
      " 14  Bathrooms                                9871 non-null   int64 \n",
      " 15  Toilets                                  9871 non-null   int64 \n",
      " 16  Kelder                                   9871 non-null   int64 \n",
      " 17  Voorzieningen_Domotica                   9871 non-null   int64 \n",
      " 18  Voorzieningen_Zwembad                    9871 non-null   int64 \n",
      " 19  Voorzieningen_Verwarming                 9871 non-null   int64 \n",
      " 20  Voorzieningen_Stromendwater              9871 non-null   int64 \n",
      " 21  Voorzieningen_Elektrischedeur            9871 non-null   int64 \n",
      " 22  Voorzieningen_Alarminstallatie           9871 non-null   int64 \n",
      " 23  Isolatie_Vollediggeïsoleerd              9871 non-null   int64 \n",
      " 24  Verwarming_Gedeeltelijkevloerverwarming  9871 non-null   int64 \n",
      " 25  Verwarming_Warmtepomp                    9871 non-null   int64 \n",
      " 26  Verwarming_Gehelevloerverwarming         9871 non-null   int64 \n",
      " 27  Verwarming_Blokverwarming                9871 non-null   int64 \n",
      " 28  Verwarming_Gashaard                      9871 non-null   int64 \n",
      " 29  Verwarming_Openhaard                     9871 non-null   int64 \n",
      " 30  Verwarming_Houtkachel                    9871 non-null   int64 \n",
      " 31  Balkon/dakterras_Dakterrasaanwezig       9871 non-null   int64 \n",
      " 32  Tuin_Zijtuin                             9871 non-null   int64 \n",
      " 33  Tuin_Tuinrondom                          9871 non-null   int64 \n",
      " 34  Soort garage_Parkeerplaats               9871 non-null   int64 \n",
      " 35  Soort garage_Inpandig                    9871 non-null   int64 \n",
      " 36  Soort garage_Parkeerkelder               9871 non-null   int64 \n",
      " 37  Soort dak                                9871 non-null   object\n",
      " 38  Soort woonhuis                           9871 non-null   object\n",
      "dtypes: int64(33), object(6)\n",
      "memory usage: 3.0+ MB\n"
     ]
    }
   ],
   "source": [
    "X = data.drop('Laatste vraagprijs',axis=1)\n",
    "y = data['Laatste vraagprijs']\n",
    "\n",
    "X.head()\n",
    "X.describe()\n",
    "X.info()"
   ]
  },
  {
   "cell_type": "code",
   "execution_count": 10,
   "metadata": {
    "id": "eipnfczoTzMI"
   },
   "outputs": [],
   "source": [
    "# Split the data into training and testing sets\n",
    "X_train_full, X_test, y_train, y_test = train_test_split(X, y, test_size=0.2, random_state=0)"
   ]
  },
  {
   "cell_type": "markdown",
   "metadata": {
    "id": "hcj7i2SoPy3R"
   },
   "source": [
    "# **Transform Categorical variables by encoding**"
   ]
  },
  {
   "cell_type": "code",
   "execution_count": 11,
   "metadata": {
    "colab": {
     "base_uri": "https://localhost:8080/"
    },
    "id": "e-69m4o2Px3w",
    "outputId": "c0072870-7d43-443a-fb96-292e227f285c"
   },
   "outputs": [
    {
     "name": "stdout",
     "output_type": "stream",
     "text": [
      "Categorical Columns:\n",
      "['Status', 'Soort bouw', 'Energielabel', 'Aantal dagen tot verkoop', 'Soort dak', 'Soort woonhuis']\n",
      "Numerical Columns:\n",
      "['Aantal kamers', 'Overige inpandige ruimte m2', 'Perceel m2', 'Achtertuin m2', 'Vraagprijs per m2', 'Woonruimte in m2', 'Gebouwgebonden buitenruimte in m2', 'Externe bergruimte in m2', 'Inhoud in m3', 'Aantal slaapkamers', 'Bathrooms', 'Toilets', 'Kelder', 'Voorzieningen_Domotica', 'Voorzieningen_Zwembad', 'Voorzieningen_Verwarming', 'Voorzieningen_Stromendwater', 'Voorzieningen_Elektrischedeur', 'Voorzieningen_Alarminstallatie', 'Isolatie_Vollediggeïsoleerd', 'Verwarming_Gedeeltelijkevloerverwarming', 'Verwarming_Warmtepomp', 'Verwarming_Gehelevloerverwarming', 'Verwarming_Blokverwarming', 'Verwarming_Gashaard', 'Verwarming_Openhaard', 'Verwarming_Houtkachel', 'Balkon/dakterras_Dakterrasaanwezig', 'Tuin_Zijtuin', 'Tuin_Tuinrondom', 'Soort garage_Parkeerplaats', 'Soort garage_Inpandig', 'Soort garage_Parkeerkelder']\n"
     ]
    }
   ],
   "source": [
    "from sklearn.preprocessing import StandardScaler\n",
    "\n",
    "# transformers\n",
    "numerical_transformer = Pipeline([\n",
    "    ('imputer', SimpleImputer(strategy='mean')),\n",
    "    ('scaler', StandardScaler())\n",
    "])\n",
    "\n",
    "categorical_transformer = Pipeline(steps=[\n",
    "    ('impute', SimpleImputer(strategy='most_frequent')),\n",
    "    ('onehot', OneHotEncoder(handle_unknown='ignore'))\n",
    "])\n",
    "\n",
    "# Select categorical columns with fewer than 1000 unique values\n",
    "categorical_col = [col for col in X_train_full.columns if X_train_full[col].dtype == 'O' and X_train_full[col].nunique() < 1000]\n",
    "# Print the selected categorical columns\n",
    "print(\"Categorical Columns:\")\n",
    "print(categorical_col)\n",
    "\n",
    "# Select numerical columns\n",
    "numerical_col = [col for col in X_train_full.columns if X_train_full[col].dtype in ['float64', 'int64']]\n",
    "# Print the selected numerical columns\n",
    "print(\"Numerical Columns:\")\n",
    "print(numerical_col)\n",
    "\n",
    "# Combine selected categorical and numerical columns\n",
    "my_cols = categorical_col + numerical_col\n",
    "# Create the preprocessor using ColumnTransformer\n",
    "preprocessor = ColumnTransformer(transformers=[\n",
    "    ('num', numerical_transformer, numerical_col),\n",
    "    ('cat', categorical_transformer, categorical_col)])\n",
    "\n",
    "\n",
    "eval_set_pipe = Pipeline([\n",
    "    ('preprocessor', preprocessor)\n",
    "])"
   ]
  },
  {
   "cell_type": "code",
   "execution_count": 12,
   "metadata": {
    "colab": {
     "base_uri": "https://localhost:8080/"
    },
    "id": "_yvJAElrYVAZ",
    "outputId": "14f2df71-b80f-4b04-e981-2bb625e7b37d"
   },
   "outputs": [
    {
     "name": "stdout",
     "output_type": "stream",
     "text": [
      "Categorical Columns:\n",
      "['Status', 'Soort bouw', 'Energielabel', 'Aantal dagen tot verkoop', 'Soort dak', 'Soort woonhuis']\n",
      "Numerical Columns:\n",
      "['Aantal kamers', 'Overige inpandige ruimte m2', 'Perceel m2', 'Achtertuin m2', 'Vraagprijs per m2', 'Woonruimte in m2', 'Gebouwgebonden buitenruimte in m2', 'Externe bergruimte in m2', 'Inhoud in m3', 'Aantal slaapkamers', 'Bathrooms', 'Toilets', 'Kelder', 'Voorzieningen_Domotica', 'Voorzieningen_Zwembad', 'Voorzieningen_Verwarming', 'Voorzieningen_Stromendwater', 'Voorzieningen_Elektrischedeur', 'Voorzieningen_Alarminstallatie', 'Isolatie_Vollediggeïsoleerd', 'Verwarming_Gedeeltelijkevloerverwarming', 'Verwarming_Warmtepomp', 'Verwarming_Gehelevloerverwarming', 'Verwarming_Blokverwarming', 'Verwarming_Gashaard', 'Verwarming_Openhaard', 'Verwarming_Houtkachel', 'Balkon/dakterras_Dakterrasaanwezig', 'Tuin_Zijtuin', 'Tuin_Tuinrondom', 'Soort garage_Parkeerplaats', 'Soort garage_Inpandig', 'Soort garage_Parkeerkelder']\n"
     ]
    }
   ],
   "source": [
    "# from sklearn.preprocessing import RobustScaler\n",
    "# from sklearn.pipeline import Pipeline\n",
    "# from sklearn.compose import ColumnTransformer\n",
    "# from sklearn.impute import SimpleImputer\n",
    "# from sklearn.preprocessing import OneHotEncoder\n",
    "\n",
    "\n",
    "# numerical_transformer = Pipeline([\n",
    "#     ('imputer', SimpleImputer(strategy='mean')),\n",
    "#     ('scaler', RobustScaler())\n",
    "# ])\n",
    "\n",
    "# categorical_transformer = Pipeline(steps=[\n",
    "#     ('imputer', SimpleImputer(strategy='most_frequent')),\n",
    "#     ('onehot', OneHotEncoder(handle_unknown='ignore'))\n",
    "# ])\n",
    "\n",
    "# # Select categorical columns with fewer than 1000 unique values\n",
    "# categorical_col = [col for col in X_train_full.columns if X_train_full[col].dtype == 'O' and X_train_full[col].nunique() < 1000]\n",
    "# # Print the selected categorical columns\n",
    "# print(\"Categorical Columns:\")\n",
    "# print(categorical_col)\n",
    "\n",
    "# # Select numerical columns\n",
    "# numerical_col = [col for col in X_train_full.columns if X_train_full[col].dtype in ['float64', 'int64']]\n",
    "# # Print the selected numerical columns\n",
    "# print(\"Numerical Columns:\")\n",
    "# print(numerical_col)\n",
    "\n",
    "# # Combine selected categorical and numerical columns\n",
    "# my_cols = categorical_col + numerical_col\n",
    "# # Create the preprocessor using ColumnTransformer\n",
    "# preprocessor = ColumnTransformer(transformers=[\n",
    "#     ('num', numerical_transformer, numerical_col),\n",
    "#     ('cat', categorical_transformer, categorical_col)\n",
    "# ])\n",
    "\n",
    "\n",
    "# eval_set_pipe = Pipeline([\n",
    "#     ('preprocessor', preprocessor)\n",
    "# ])\n",
    "\n",
    "\n"
   ]
  },
  {
   "cell_type": "markdown",
   "metadata": {
    "id": "sUtQ3LuAXb-9"
   },
   "source": [
    "# **Define the eval_set_pipe with the preprocessor**"
   ]
  },
  {
   "cell_type": "code",
   "execution_count": 13,
   "metadata": {
    "id": "rHpU5BdER1YI"
   },
   "outputs": [],
   "source": [
    "# ColumnTransformer\n",
    "preprocessor = ColumnTransformer(transformers=[\n",
    "    ('num', numerical_transformer, numerical_col),\n",
    " ('cat', categorical_transformer, categorical_col)])\n",
    "\n",
    "eval_set_pipe = Pipeline([\n",
    "    ('preprocessor', preprocessor)\n",
    "])"
   ]
  },
  {
   "cell_type": "markdown",
   "metadata": {
    "id": "VdjMWgCZR3Ad"
   },
   "source": [
    "# **Transform X_train and X_test without eval_set_pipe**"
   ]
  },
  {
   "cell_type": "code",
   "execution_count": 14,
   "metadata": {
    "colab": {
     "base_uri": "https://localhost:8080/",
     "height": 525
    },
    "id": "Tlg5LGlakZRu",
    "outputId": "f8c5ad92-684a-44ee-c3b2-97e2b6acdab3"
   },
   "outputs": [
    {
     "data": {
      "text/html": [
       "\n",
       "  <div id=\"df-36d41355-f1fe-4805-a2c9-b3e0ce3b3b01\" class=\"colab-df-container\">\n",
       "    <div>\n",
       "<style scoped>\n",
       "    .dataframe tbody tr th:only-of-type {\n",
       "        vertical-align: middle;\n",
       "    }\n",
       "\n",
       "    .dataframe tbody tr th {\n",
       "        vertical-align: top;\n",
       "    }\n",
       "\n",
       "    .dataframe thead th {\n",
       "        text-align: right;\n",
       "    }\n",
       "</style>\n",
       "<table border=\"1\" class=\"dataframe\">\n",
       "  <thead>\n",
       "    <tr style=\"text-align: right;\">\n",
       "      <th></th>\n",
       "      <th>Status</th>\n",
       "      <th>Soort bouw</th>\n",
       "      <th>Energielabel</th>\n",
       "      <th>Aantal dagen tot verkoop</th>\n",
       "      <th>Soort dak</th>\n",
       "      <th>Soort woonhuis</th>\n",
       "      <th>Aantal kamers</th>\n",
       "      <th>Overige inpandige ruimte m2</th>\n",
       "      <th>Perceel m2</th>\n",
       "      <th>Achtertuin m2</th>\n",
       "      <th>...</th>\n",
       "      <th>Verwarming_Blokverwarming</th>\n",
       "      <th>Verwarming_Gashaard</th>\n",
       "      <th>Verwarming_Openhaard</th>\n",
       "      <th>Verwarming_Houtkachel</th>\n",
       "      <th>Balkon/dakterras_Dakterrasaanwezig</th>\n",
       "      <th>Tuin_Zijtuin</th>\n",
       "      <th>Tuin_Tuinrondom</th>\n",
       "      <th>Soort garage_Parkeerplaats</th>\n",
       "      <th>Soort garage_Inpandig</th>\n",
       "      <th>Soort garage_Parkeerkelder</th>\n",
       "    </tr>\n",
       "  </thead>\n",
       "  <tbody>\n",
       "    <tr>\n",
       "      <th>6209</th>\n",
       "      <td>Verkocht</td>\n",
       "      <td>Bestaande bouw</td>\n",
       "      <td>B</td>\n",
       "      <td>29 days</td>\n",
       "      <td>Zadeldak bedekt met pannen</td>\n",
       "      <td>Eengezinswoning, 2-onder-1-kapwoning</td>\n",
       "      <td>5</td>\n",
       "      <td>12</td>\n",
       "      <td>430</td>\n",
       "      <td>200</td>\n",
       "      <td>...</td>\n",
       "      <td>0</td>\n",
       "      <td>0</td>\n",
       "      <td>0</td>\n",
       "      <td>0</td>\n",
       "      <td>0</td>\n",
       "      <td>0</td>\n",
       "      <td>0</td>\n",
       "      <td>0</td>\n",
       "      <td>0</td>\n",
       "      <td>0</td>\n",
       "    </tr>\n",
       "    <tr>\n",
       "      <th>343</th>\n",
       "      <td>Verkocht</td>\n",
       "      <td>Nieuwbouw</td>\n",
       "      <td>None</td>\n",
       "      <td>113 days</td>\n",
       "      <td>Plat dak bedekt met bitumineuze dakbedekking</td>\n",
       "      <td>Herenhuis, 2-onder-1-kapwoning</td>\n",
       "      <td>2</td>\n",
       "      <td>0</td>\n",
       "      <td>48</td>\n",
       "      <td>0</td>\n",
       "      <td>...</td>\n",
       "      <td>0</td>\n",
       "      <td>0</td>\n",
       "      <td>0</td>\n",
       "      <td>0</td>\n",
       "      <td>0</td>\n",
       "      <td>0</td>\n",
       "      <td>0</td>\n",
       "      <td>0</td>\n",
       "      <td>0</td>\n",
       "      <td>0</td>\n",
       "    </tr>\n",
       "    <tr>\n",
       "      <th>9788</th>\n",
       "      <td>Verkocht</td>\n",
       "      <td>Bestaande bouw</td>\n",
       "      <td>C</td>\n",
       "      <td>28 days</td>\n",
       "      <td>Plat dak bedekt met bitumineuze dakbedekking</td>\n",
       "      <td>Eengezinswoning, hoekwoning (hofjeswoning)</td>\n",
       "      <td>6</td>\n",
       "      <td>0</td>\n",
       "      <td>97</td>\n",
       "      <td>0</td>\n",
       "      <td>...</td>\n",
       "      <td>0</td>\n",
       "      <td>0</td>\n",
       "      <td>0</td>\n",
       "      <td>0</td>\n",
       "      <td>0</td>\n",
       "      <td>0</td>\n",
       "      <td>0</td>\n",
       "      <td>0</td>\n",
       "      <td>0</td>\n",
       "      <td>0</td>\n",
       "    </tr>\n",
       "    <tr>\n",
       "      <th>3056</th>\n",
       "      <td>Verkocht</td>\n",
       "      <td>Bestaande bouw</td>\n",
       "      <td>B</td>\n",
       "      <td>14 days</td>\n",
       "      <td>Dwarskap bedekt met pannen</td>\n",
       "      <td>Eengezinswoning, tussenwoning</td>\n",
       "      <td>5</td>\n",
       "      <td>0</td>\n",
       "      <td>122</td>\n",
       "      <td>58</td>\n",
       "      <td>...</td>\n",
       "      <td>0</td>\n",
       "      <td>0</td>\n",
       "      <td>0</td>\n",
       "      <td>0</td>\n",
       "      <td>0</td>\n",
       "      <td>0</td>\n",
       "      <td>0</td>\n",
       "      <td>0</td>\n",
       "      <td>0</td>\n",
       "      <td>0</td>\n",
       "    </tr>\n",
       "    <tr>\n",
       "      <th>6513</th>\n",
       "      <td>Verkocht</td>\n",
       "      <td>Bestaande bouw</td>\n",
       "      <td>F</td>\n",
       "      <td>26 days</td>\n",
       "      <td>Plat dak bedekt met bitumineuze dakbedekking</td>\n",
       "      <td>Eengezinswoning, tussenwoning (hofjeswoning)</td>\n",
       "      <td>3</td>\n",
       "      <td>0</td>\n",
       "      <td>71</td>\n",
       "      <td>0</td>\n",
       "      <td>...</td>\n",
       "      <td>0</td>\n",
       "      <td>0</td>\n",
       "      <td>0</td>\n",
       "      <td>0</td>\n",
       "      <td>0</td>\n",
       "      <td>0</td>\n",
       "      <td>0</td>\n",
       "      <td>0</td>\n",
       "      <td>0</td>\n",
       "      <td>0</td>\n",
       "    </tr>\n",
       "  </tbody>\n",
       "</table>\n",
       "<p>5 rows × 39 columns</p>\n",
       "</div>\n",
       "    <div class=\"colab-df-buttons\">\n",
       "\n",
       "  <div class=\"colab-df-container\">\n",
       "    <button class=\"colab-df-convert\" onclick=\"convertToInteractive('df-36d41355-f1fe-4805-a2c9-b3e0ce3b3b01')\"\n",
       "            title=\"Convert this dataframe to an interactive table.\"\n",
       "            style=\"display:none;\">\n",
       "\n",
       "  <svg xmlns=\"http://www.w3.org/2000/svg\" height=\"24px\" viewBox=\"0 -960 960 960\">\n",
       "    <path d=\"M120-120v-720h720v720H120Zm60-500h600v-160H180v160Zm220 220h160v-160H400v160Zm0 220h160v-160H400v160ZM180-400h160v-160H180v160Zm440 0h160v-160H620v160ZM180-180h160v-160H180v160Zm440 0h160v-160H620v160Z\"/>\n",
       "  </svg>\n",
       "    </button>\n",
       "\n",
       "  <style>\n",
       "    .colab-df-container {\n",
       "      display:flex;\n",
       "      gap: 12px;\n",
       "    }\n",
       "\n",
       "    .colab-df-convert {\n",
       "      background-color: #E8F0FE;\n",
       "      border: none;\n",
       "      border-radius: 50%;\n",
       "      cursor: pointer;\n",
       "      display: none;\n",
       "      fill: #1967D2;\n",
       "      height: 32px;\n",
       "      padding: 0 0 0 0;\n",
       "      width: 32px;\n",
       "    }\n",
       "\n",
       "    .colab-df-convert:hover {\n",
       "      background-color: #E2EBFA;\n",
       "      box-shadow: 0px 1px 2px rgba(60, 64, 67, 0.3), 0px 1px 3px 1px rgba(60, 64, 67, 0.15);\n",
       "      fill: #174EA6;\n",
       "    }\n",
       "\n",
       "    .colab-df-buttons div {\n",
       "      margin-bottom: 4px;\n",
       "    }\n",
       "\n",
       "    [theme=dark] .colab-df-convert {\n",
       "      background-color: #3B4455;\n",
       "      fill: #D2E3FC;\n",
       "    }\n",
       "\n",
       "    [theme=dark] .colab-df-convert:hover {\n",
       "      background-color: #434B5C;\n",
       "      box-shadow: 0px 1px 3px 1px rgba(0, 0, 0, 0.15);\n",
       "      filter: drop-shadow(0px 1px 2px rgba(0, 0, 0, 0.3));\n",
       "      fill: #FFFFFF;\n",
       "    }\n",
       "  </style>\n",
       "\n",
       "    <script>\n",
       "      const buttonEl =\n",
       "        document.querySelector('#df-36d41355-f1fe-4805-a2c9-b3e0ce3b3b01 button.colab-df-convert');\n",
       "      buttonEl.style.display =\n",
       "        google.colab.kernel.accessAllowed ? 'block' : 'none';\n",
       "\n",
       "      async function convertToInteractive(key) {\n",
       "        const element = document.querySelector('#df-36d41355-f1fe-4805-a2c9-b3e0ce3b3b01');\n",
       "        const dataTable =\n",
       "          await google.colab.kernel.invokeFunction('convertToInteractive',\n",
       "                                                    [key], {});\n",
       "        if (!dataTable) return;\n",
       "\n",
       "        const docLinkHtml = 'Like what you see? Visit the ' +\n",
       "          '<a target=\"_blank\" href=https://colab.research.google.com/notebooks/data_table.ipynb>data table notebook</a>'\n",
       "          + ' to learn more about interactive tables.';\n",
       "        element.innerHTML = '';\n",
       "        dataTable['output_type'] = 'display_data';\n",
       "        await google.colab.output.renderOutput(dataTable, element);\n",
       "        const docLink = document.createElement('div');\n",
       "        docLink.innerHTML = docLinkHtml;\n",
       "        element.appendChild(docLink);\n",
       "      }\n",
       "    </script>\n",
       "  </div>\n",
       "\n",
       "\n",
       "<div id=\"df-e96c8c46-7851-4ef5-9210-366fc96715f3\">\n",
       "  <button class=\"colab-df-quickchart\" onclick=\"quickchart('df-e96c8c46-7851-4ef5-9210-366fc96715f3')\"\n",
       "            title=\"Suggest charts\"\n",
       "            style=\"display:none;\">\n",
       "\n",
       "<svg xmlns=\"http://www.w3.org/2000/svg\" height=\"24px\"viewBox=\"0 0 24 24\"\n",
       "     width=\"24px\">\n",
       "    <g>\n",
       "        <path d=\"M19 3H5c-1.1 0-2 .9-2 2v14c0 1.1.9 2 2 2h14c1.1 0 2-.9 2-2V5c0-1.1-.9-2-2-2zM9 17H7v-7h2v7zm4 0h-2V7h2v10zm4 0h-2v-4h2v4z\"/>\n",
       "    </g>\n",
       "</svg>\n",
       "  </button>\n",
       "\n",
       "<style>\n",
       "  .colab-df-quickchart {\n",
       "      --bg-color: #E8F0FE;\n",
       "      --fill-color: #1967D2;\n",
       "      --hover-bg-color: #E2EBFA;\n",
       "      --hover-fill-color: #174EA6;\n",
       "      --disabled-fill-color: #AAA;\n",
       "      --disabled-bg-color: #DDD;\n",
       "  }\n",
       "\n",
       "  [theme=dark] .colab-df-quickchart {\n",
       "      --bg-color: #3B4455;\n",
       "      --fill-color: #D2E3FC;\n",
       "      --hover-bg-color: #434B5C;\n",
       "      --hover-fill-color: #FFFFFF;\n",
       "      --disabled-bg-color: #3B4455;\n",
       "      --disabled-fill-color: #666;\n",
       "  }\n",
       "\n",
       "  .colab-df-quickchart {\n",
       "    background-color: var(--bg-color);\n",
       "    border: none;\n",
       "    border-radius: 50%;\n",
       "    cursor: pointer;\n",
       "    display: none;\n",
       "    fill: var(--fill-color);\n",
       "    height: 32px;\n",
       "    padding: 0;\n",
       "    width: 32px;\n",
       "  }\n",
       "\n",
       "  .colab-df-quickchart:hover {\n",
       "    background-color: var(--hover-bg-color);\n",
       "    box-shadow: 0 1px 2px rgba(60, 64, 67, 0.3), 0 1px 3px 1px rgba(60, 64, 67, 0.15);\n",
       "    fill: var(--button-hover-fill-color);\n",
       "  }\n",
       "\n",
       "  .colab-df-quickchart-complete:disabled,\n",
       "  .colab-df-quickchart-complete:disabled:hover {\n",
       "    background-color: var(--disabled-bg-color);\n",
       "    fill: var(--disabled-fill-color);\n",
       "    box-shadow: none;\n",
       "  }\n",
       "\n",
       "  .colab-df-spinner {\n",
       "    border: 2px solid var(--fill-color);\n",
       "    border-color: transparent;\n",
       "    border-bottom-color: var(--fill-color);\n",
       "    animation:\n",
       "      spin 1s steps(1) infinite;\n",
       "  }\n",
       "\n",
       "  @keyframes spin {\n",
       "    0% {\n",
       "      border-color: transparent;\n",
       "      border-bottom-color: var(--fill-color);\n",
       "      border-left-color: var(--fill-color);\n",
       "    }\n",
       "    20% {\n",
       "      border-color: transparent;\n",
       "      border-left-color: var(--fill-color);\n",
       "      border-top-color: var(--fill-color);\n",
       "    }\n",
       "    30% {\n",
       "      border-color: transparent;\n",
       "      border-left-color: var(--fill-color);\n",
       "      border-top-color: var(--fill-color);\n",
       "      border-right-color: var(--fill-color);\n",
       "    }\n",
       "    40% {\n",
       "      border-color: transparent;\n",
       "      border-right-color: var(--fill-color);\n",
       "      border-top-color: var(--fill-color);\n",
       "    }\n",
       "    60% {\n",
       "      border-color: transparent;\n",
       "      border-right-color: var(--fill-color);\n",
       "    }\n",
       "    80% {\n",
       "      border-color: transparent;\n",
       "      border-right-color: var(--fill-color);\n",
       "      border-bottom-color: var(--fill-color);\n",
       "    }\n",
       "    90% {\n",
       "      border-color: transparent;\n",
       "      border-bottom-color: var(--fill-color);\n",
       "    }\n",
       "  }\n",
       "</style>\n",
       "\n",
       "  <script>\n",
       "    async function quickchart(key) {\n",
       "      const quickchartButtonEl =\n",
       "        document.querySelector('#' + key + ' button');\n",
       "      quickchartButtonEl.disabled = true;  // To prevent multiple clicks.\n",
       "      quickchartButtonEl.classList.add('colab-df-spinner');\n",
       "      try {\n",
       "        const charts = await google.colab.kernel.invokeFunction(\n",
       "            'suggestCharts', [key], {});\n",
       "      } catch (error) {\n",
       "        console.error('Error during call to suggestCharts:', error);\n",
       "      }\n",
       "      quickchartButtonEl.classList.remove('colab-df-spinner');\n",
       "      quickchartButtonEl.classList.add('colab-df-quickchart-complete');\n",
       "    }\n",
       "    (() => {\n",
       "      let quickchartButtonEl =\n",
       "        document.querySelector('#df-e96c8c46-7851-4ef5-9210-366fc96715f3 button');\n",
       "      quickchartButtonEl.style.display =\n",
       "        google.colab.kernel.accessAllowed ? 'block' : 'none';\n",
       "    })();\n",
       "  </script>\n",
       "</div>\n",
       "    </div>\n",
       "  </div>\n"
      ],
      "text/plain": [
       "        Status      Soort bouw Energielabel Aantal dagen tot verkoop  \\\n",
       "6209  Verkocht  Bestaande bouw            B                  29 days   \n",
       "343   Verkocht       Nieuwbouw         None                 113 days   \n",
       "9788  Verkocht  Bestaande bouw            C                  28 days   \n",
       "3056  Verkocht  Bestaande bouw            B                  14 days   \n",
       "6513  Verkocht  Bestaande bouw            F                  26 days   \n",
       "\n",
       "                                         Soort dak  \\\n",
       "6209                    Zadeldak bedekt met pannen   \n",
       "343   Plat dak bedekt met bitumineuze dakbedekking   \n",
       "9788  Plat dak bedekt met bitumineuze dakbedekking   \n",
       "3056                    Dwarskap bedekt met pannen   \n",
       "6513  Plat dak bedekt met bitumineuze dakbedekking   \n",
       "\n",
       "                                    Soort woonhuis  Aantal kamers  \\\n",
       "6209          Eengezinswoning, 2-onder-1-kapwoning              5   \n",
       "343                 Herenhuis, 2-onder-1-kapwoning              2   \n",
       "9788    Eengezinswoning, hoekwoning (hofjeswoning)              6   \n",
       "3056                 Eengezinswoning, tussenwoning              5   \n",
       "6513  Eengezinswoning, tussenwoning (hofjeswoning)              3   \n",
       "\n",
       "      Overige inpandige ruimte m2  Perceel m2  Achtertuin m2  ...  \\\n",
       "6209                           12         430            200  ...   \n",
       "343                             0          48              0  ...   \n",
       "9788                            0          97              0  ...   \n",
       "3056                            0         122             58  ...   \n",
       "6513                            0          71              0  ...   \n",
       "\n",
       "      Verwarming_Blokverwarming  Verwarming_Gashaard  Verwarming_Openhaard  \\\n",
       "6209                          0                    0                     0   \n",
       "343                           0                    0                     0   \n",
       "9788                          0                    0                     0   \n",
       "3056                          0                    0                     0   \n",
       "6513                          0                    0                     0   \n",
       "\n",
       "      Verwarming_Houtkachel  Balkon/dakterras_Dakterrasaanwezig  Tuin_Zijtuin  \\\n",
       "6209                      0                                   0             0   \n",
       "343                       0                                   0             0   \n",
       "9788                      0                                   0             0   \n",
       "3056                      0                                   0             0   \n",
       "6513                      0                                   0             0   \n",
       "\n",
       "      Tuin_Tuinrondom  Soort garage_Parkeerplaats  Soort garage_Inpandig  \\\n",
       "6209                0                           0                      0   \n",
       "343                 0                           0                      0   \n",
       "9788                0                           0                      0   \n",
       "3056                0                           0                      0   \n",
       "6513                0                           0                      0   \n",
       "\n",
       "      Soort garage_Parkeerkelder  \n",
       "6209                           0  \n",
       "343                            0  \n",
       "9788                           0  \n",
       "3056                           0  \n",
       "6513                           0  \n",
       "\n",
       "[5 rows x 39 columns]"
      ]
     },
     "execution_count": 14,
     "metadata": {},
     "output_type": "execute_result"
    }
   ],
   "source": [
    "\n",
    "# Transform X_train and X_test without eval_set_pipe\n",
    "X_train_eval = X_train_full[my_cols]\n",
    "X_test_eval = X_test[my_cols]\n",
    "\n",
    "\n",
    "# Convert the original data to DataFrames with the original index (no transformation)\n",
    "X_train_eval_df = pd.DataFrame(X_train_eval, index=X_train_full.index)\n",
    "X_test_eval_df = pd.DataFrame(X_test_eval, index=X_test.index)\n",
    "X_test_eval_df.head()"
   ]
  },
  {
   "cell_type": "markdown",
   "metadata": {
    "id": "sTBOt7LVR-Wl"
   },
   "source": [
    "# **Transform X_train and X_test using eval_set_pipe**"
   ]
  },
  {
   "cell_type": "code",
   "execution_count": 15,
   "metadata": {
    "colab": {
     "base_uri": "https://localhost:8080/",
     "height": 419
    },
    "id": "vBnUNv8fRyRU",
    "outputId": "9349c816-a8e7-4648-f188-b83d9d3fc386"
   },
   "outputs": [
    {
     "data": {
      "text/html": [
       "\n",
       "  <div id=\"df-9c022264-4a06-41bb-a5db-2a14769e7a9f\" class=\"colab-df-container\">\n",
       "    <div>\n",
       "<style scoped>\n",
       "    .dataframe tbody tr th:only-of-type {\n",
       "        vertical-align: middle;\n",
       "    }\n",
       "\n",
       "    .dataframe tbody tr th {\n",
       "        vertical-align: top;\n",
       "    }\n",
       "\n",
       "    .dataframe thead th {\n",
       "        text-align: right;\n",
       "    }\n",
       "</style>\n",
       "<table border=\"1\" class=\"dataframe\">\n",
       "  <thead>\n",
       "    <tr style=\"text-align: right;\">\n",
       "      <th></th>\n",
       "      <th>0</th>\n",
       "    </tr>\n",
       "  </thead>\n",
       "  <tbody>\n",
       "    <tr>\n",
       "      <th>6209</th>\n",
       "      <td>(0, 1)\\t1.2\\n  (0, 2)\\t1.6787878787878787\\n ...</td>\n",
       "    </tr>\n",
       "    <tr>\n",
       "      <th>343</th>\n",
       "      <td>(0, 0)\\t-3.0\\n  (0, 2)\\t-0.6363636363636364\\...</td>\n",
       "    </tr>\n",
       "    <tr>\n",
       "      <th>9788</th>\n",
       "      <td>(0, 0)\\t1.0\\n  (0, 2)\\t-0.3393939393939394\\n...</td>\n",
       "    </tr>\n",
       "    <tr>\n",
       "      <th>3056</th>\n",
       "      <td>(0, 2)\\t-0.18787878787878787\\n  (0, 3)\\t0.00...</td>\n",
       "    </tr>\n",
       "    <tr>\n",
       "      <th>6513</th>\n",
       "      <td>(0, 0)\\t-2.0\\n  (0, 2)\\t-0.49696969696969695...</td>\n",
       "    </tr>\n",
       "    <tr>\n",
       "      <th>...</th>\n",
       "      <td>...</td>\n",
       "    </tr>\n",
       "    <tr>\n",
       "      <th>6096</th>\n",
       "      <td>(0, 2)\\t-0.1696969696969697\\n  (0, 3)\\t-0.54...</td>\n",
       "    </tr>\n",
       "    <tr>\n",
       "      <th>9380</th>\n",
       "      <td>(0, 0)\\t-2.0\\n  (0, 2)\\t-0.4727272727272727\\...</td>\n",
       "    </tr>\n",
       "    <tr>\n",
       "      <th>3450</th>\n",
       "      <td>(0, 0)\\t-1.0\\n  (0, 2)\\t2.109090909090909\\n ...</td>\n",
       "    </tr>\n",
       "    <tr>\n",
       "      <th>1970</th>\n",
       "      <td>(0, 2)\\t-0.11515151515151516\\n  (0, 3)\\t-0.5...</td>\n",
       "    </tr>\n",
       "    <tr>\n",
       "      <th>8930</th>\n",
       "      <td>(0, 0)\\t-1.0\\n  (0, 2)\\t-0.12727272727272726...</td>\n",
       "    </tr>\n",
       "  </tbody>\n",
       "</table>\n",
       "<p>1975 rows × 1 columns</p>\n",
       "</div>\n",
       "    <div class=\"colab-df-buttons\">\n",
       "\n",
       "  <div class=\"colab-df-container\">\n",
       "    <button class=\"colab-df-convert\" onclick=\"convertToInteractive('df-9c022264-4a06-41bb-a5db-2a14769e7a9f')\"\n",
       "            title=\"Convert this dataframe to an interactive table.\"\n",
       "            style=\"display:none;\">\n",
       "\n",
       "  <svg xmlns=\"http://www.w3.org/2000/svg\" height=\"24px\" viewBox=\"0 -960 960 960\">\n",
       "    <path d=\"M120-120v-720h720v720H120Zm60-500h600v-160H180v160Zm220 220h160v-160H400v160Zm0 220h160v-160H400v160ZM180-400h160v-160H180v160Zm440 0h160v-160H620v160ZM180-180h160v-160H180v160Zm440 0h160v-160H620v160Z\"/>\n",
       "  </svg>\n",
       "    </button>\n",
       "\n",
       "  <style>\n",
       "    .colab-df-container {\n",
       "      display:flex;\n",
       "      gap: 12px;\n",
       "    }\n",
       "\n",
       "    .colab-df-convert {\n",
       "      background-color: #E8F0FE;\n",
       "      border: none;\n",
       "      border-radius: 50%;\n",
       "      cursor: pointer;\n",
       "      display: none;\n",
       "      fill: #1967D2;\n",
       "      height: 32px;\n",
       "      padding: 0 0 0 0;\n",
       "      width: 32px;\n",
       "    }\n",
       "\n",
       "    .colab-df-convert:hover {\n",
       "      background-color: #E2EBFA;\n",
       "      box-shadow: 0px 1px 2px rgba(60, 64, 67, 0.3), 0px 1px 3px 1px rgba(60, 64, 67, 0.15);\n",
       "      fill: #174EA6;\n",
       "    }\n",
       "\n",
       "    .colab-df-buttons div {\n",
       "      margin-bottom: 4px;\n",
       "    }\n",
       "\n",
       "    [theme=dark] .colab-df-convert {\n",
       "      background-color: #3B4455;\n",
       "      fill: #D2E3FC;\n",
       "    }\n",
       "\n",
       "    [theme=dark] .colab-df-convert:hover {\n",
       "      background-color: #434B5C;\n",
       "      box-shadow: 0px 1px 3px 1px rgba(0, 0, 0, 0.15);\n",
       "      filter: drop-shadow(0px 1px 2px rgba(0, 0, 0, 0.3));\n",
       "      fill: #FFFFFF;\n",
       "    }\n",
       "  </style>\n",
       "\n",
       "    <script>\n",
       "      const buttonEl =\n",
       "        document.querySelector('#df-9c022264-4a06-41bb-a5db-2a14769e7a9f button.colab-df-convert');\n",
       "      buttonEl.style.display =\n",
       "        google.colab.kernel.accessAllowed ? 'block' : 'none';\n",
       "\n",
       "      async function convertToInteractive(key) {\n",
       "        const element = document.querySelector('#df-9c022264-4a06-41bb-a5db-2a14769e7a9f');\n",
       "        const dataTable =\n",
       "          await google.colab.kernel.invokeFunction('convertToInteractive',\n",
       "                                                    [key], {});\n",
       "        if (!dataTable) return;\n",
       "\n",
       "        const docLinkHtml = 'Like what you see? Visit the ' +\n",
       "          '<a target=\"_blank\" href=https://colab.research.google.com/notebooks/data_table.ipynb>data table notebook</a>'\n",
       "          + ' to learn more about interactive tables.';\n",
       "        element.innerHTML = '';\n",
       "        dataTable['output_type'] = 'display_data';\n",
       "        await google.colab.output.renderOutput(dataTable, element);\n",
       "        const docLink = document.createElement('div');\n",
       "        docLink.innerHTML = docLinkHtml;\n",
       "        element.appendChild(docLink);\n",
       "      }\n",
       "    </script>\n",
       "  </div>\n",
       "\n",
       "\n",
       "<div id=\"df-d25a1f42-77da-4688-828b-939b58245040\">\n",
       "  <button class=\"colab-df-quickchart\" onclick=\"quickchart('df-d25a1f42-77da-4688-828b-939b58245040')\"\n",
       "            title=\"Suggest charts\"\n",
       "            style=\"display:none;\">\n",
       "\n",
       "<svg xmlns=\"http://www.w3.org/2000/svg\" height=\"24px\"viewBox=\"0 0 24 24\"\n",
       "     width=\"24px\">\n",
       "    <g>\n",
       "        <path d=\"M19 3H5c-1.1 0-2 .9-2 2v14c0 1.1.9 2 2 2h14c1.1 0 2-.9 2-2V5c0-1.1-.9-2-2-2zM9 17H7v-7h2v7zm4 0h-2V7h2v10zm4 0h-2v-4h2v4z\"/>\n",
       "    </g>\n",
       "</svg>\n",
       "  </button>\n",
       "\n",
       "<style>\n",
       "  .colab-df-quickchart {\n",
       "      --bg-color: #E8F0FE;\n",
       "      --fill-color: #1967D2;\n",
       "      --hover-bg-color: #E2EBFA;\n",
       "      --hover-fill-color: #174EA6;\n",
       "      --disabled-fill-color: #AAA;\n",
       "      --disabled-bg-color: #DDD;\n",
       "  }\n",
       "\n",
       "  [theme=dark] .colab-df-quickchart {\n",
       "      --bg-color: #3B4455;\n",
       "      --fill-color: #D2E3FC;\n",
       "      --hover-bg-color: #434B5C;\n",
       "      --hover-fill-color: #FFFFFF;\n",
       "      --disabled-bg-color: #3B4455;\n",
       "      --disabled-fill-color: #666;\n",
       "  }\n",
       "\n",
       "  .colab-df-quickchart {\n",
       "    background-color: var(--bg-color);\n",
       "    border: none;\n",
       "    border-radius: 50%;\n",
       "    cursor: pointer;\n",
       "    display: none;\n",
       "    fill: var(--fill-color);\n",
       "    height: 32px;\n",
       "    padding: 0;\n",
       "    width: 32px;\n",
       "  }\n",
       "\n",
       "  .colab-df-quickchart:hover {\n",
       "    background-color: var(--hover-bg-color);\n",
       "    box-shadow: 0 1px 2px rgba(60, 64, 67, 0.3), 0 1px 3px 1px rgba(60, 64, 67, 0.15);\n",
       "    fill: var(--button-hover-fill-color);\n",
       "  }\n",
       "\n",
       "  .colab-df-quickchart-complete:disabled,\n",
       "  .colab-df-quickchart-complete:disabled:hover {\n",
       "    background-color: var(--disabled-bg-color);\n",
       "    fill: var(--disabled-fill-color);\n",
       "    box-shadow: none;\n",
       "  }\n",
       "\n",
       "  .colab-df-spinner {\n",
       "    border: 2px solid var(--fill-color);\n",
       "    border-color: transparent;\n",
       "    border-bottom-color: var(--fill-color);\n",
       "    animation:\n",
       "      spin 1s steps(1) infinite;\n",
       "  }\n",
       "\n",
       "  @keyframes spin {\n",
       "    0% {\n",
       "      border-color: transparent;\n",
       "      border-bottom-color: var(--fill-color);\n",
       "      border-left-color: var(--fill-color);\n",
       "    }\n",
       "    20% {\n",
       "      border-color: transparent;\n",
       "      border-left-color: var(--fill-color);\n",
       "      border-top-color: var(--fill-color);\n",
       "    }\n",
       "    30% {\n",
       "      border-color: transparent;\n",
       "      border-left-color: var(--fill-color);\n",
       "      border-top-color: var(--fill-color);\n",
       "      border-right-color: var(--fill-color);\n",
       "    }\n",
       "    40% {\n",
       "      border-color: transparent;\n",
       "      border-right-color: var(--fill-color);\n",
       "      border-top-color: var(--fill-color);\n",
       "    }\n",
       "    60% {\n",
       "      border-color: transparent;\n",
       "      border-right-color: var(--fill-color);\n",
       "    }\n",
       "    80% {\n",
       "      border-color: transparent;\n",
       "      border-right-color: var(--fill-color);\n",
       "      border-bottom-color: var(--fill-color);\n",
       "    }\n",
       "    90% {\n",
       "      border-color: transparent;\n",
       "      border-bottom-color: var(--fill-color);\n",
       "    }\n",
       "  }\n",
       "</style>\n",
       "\n",
       "  <script>\n",
       "    async function quickchart(key) {\n",
       "      const quickchartButtonEl =\n",
       "        document.querySelector('#' + key + ' button');\n",
       "      quickchartButtonEl.disabled = true;  // To prevent multiple clicks.\n",
       "      quickchartButtonEl.classList.add('colab-df-spinner');\n",
       "      try {\n",
       "        const charts = await google.colab.kernel.invokeFunction(\n",
       "            'suggestCharts', [key], {});\n",
       "      } catch (error) {\n",
       "        console.error('Error during call to suggestCharts:', error);\n",
       "      }\n",
       "      quickchartButtonEl.classList.remove('colab-df-spinner');\n",
       "      quickchartButtonEl.classList.add('colab-df-quickchart-complete');\n",
       "    }\n",
       "    (() => {\n",
       "      let quickchartButtonEl =\n",
       "        document.querySelector('#df-d25a1f42-77da-4688-828b-939b58245040 button');\n",
       "      quickchartButtonEl.style.display =\n",
       "        google.colab.kernel.accessAllowed ? 'block' : 'none';\n",
       "    })();\n",
       "  </script>\n",
       "</div>\n",
       "    </div>\n",
       "  </div>\n"
      ],
      "text/plain": [
       "                                                      0\n",
       "6209    (0, 1)\\t1.2\\n  (0, 2)\\t1.6787878787878787\\n ...\n",
       "343     (0, 0)\\t-3.0\\n  (0, 2)\\t-0.6363636363636364\\...\n",
       "9788    (0, 0)\\t1.0\\n  (0, 2)\\t-0.3393939393939394\\n...\n",
       "3056    (0, 2)\\t-0.18787878787878787\\n  (0, 3)\\t0.00...\n",
       "6513    (0, 0)\\t-2.0\\n  (0, 2)\\t-0.49696969696969695...\n",
       "...                                                 ...\n",
       "6096    (0, 2)\\t-0.1696969696969697\\n  (0, 3)\\t-0.54...\n",
       "9380    (0, 0)\\t-2.0\\n  (0, 2)\\t-0.4727272727272727\\...\n",
       "3450    (0, 0)\\t-1.0\\n  (0, 2)\\t2.109090909090909\\n ...\n",
       "1970    (0, 2)\\t-0.11515151515151516\\n  (0, 3)\\t-0.5...\n",
       "8930    (0, 0)\\t-1.0\\n  (0, 2)\\t-0.12727272727272726...\n",
       "\n",
       "[1975 rows x 1 columns]"
      ]
     },
     "execution_count": 15,
     "metadata": {},
     "output_type": "execute_result"
    }
   ],
   "source": [
    "# Create a DataFrame with column names\n",
    "column_names_df = pd.DataFrame([X_train_full[my_cols].columns])\n",
    "\n",
    "# Transform X_train and X_test using eval_set_pipe\n",
    "X_train_eval = eval_set_pipe.fit_transform(X_train_full[my_cols])\n",
    "X_test_eval = eval_set_pipe.transform(X_test[my_cols])\n",
    "\n",
    "# Convert the transformed data to DataFrames with the original index\n",
    "X_train_eval_df = pd.DataFrame(X_train_eval, index=X_train_full.index)\n",
    "X_test_eval_df = pd.DataFrame(X_test_eval, index=X_test.index)\n",
    "\n",
    "\n",
    "\n",
    "X_test_eval_df"
   ]
  },
  {
   "cell_type": "markdown",
   "metadata": {
    "id": "sBVhNXFgisai"
   },
   "source": [
    "# **XGBoost Parameters**"
   ]
  },
  {
   "cell_type": "code",
   "execution_count": 16,
   "metadata": {
    "id": "MH8AkXUY64CZ"
   },
   "outputs": [],
   "source": [
    "my_model = XGBRegressor(n_estimators=100, learning_rate=0.2, n_jobs=10)\n"
   ]
  },
  {
   "cell_type": "markdown",
   "metadata": {
    "id": "7JPhnpQRmcQI"
   },
   "source": [
    "# **Train the XGBoost model without Tuning**"
   ]
  },
  {
   "cell_type": "code",
   "execution_count": 21,
   "metadata": {
    "colab": {
     "base_uri": "https://localhost:8080/"
    },
    "id": "3bbNg9M8l8wY",
    "outputId": "50cefdd5-62b4-4933-8c29-08a52c074030"
   },
   "outputs": [
    {
     "name": "stderr",
     "output_type": "stream",
     "text": [
      "/usr/local/lib/python3.10/dist-packages/xgboost/sklearn.py:885: UserWarning: `early_stopping_rounds` in `fit` method is deprecated for better compatibility with scikit-learn, use `early_stopping_rounds` in constructor or`set_params` instead.\n",
      "  warnings.warn(\n"
     ]
    }
   ],
   "source": [
    "\n",
    "my_model.fit(X_train_eval, y_train, early_stopping_rounds=60, eval_set=[(X_test_eval, y_test)], verbose=False)\n",
    "\n",
    "# Make predictions on the test set\n",
    "y_test_pred = my_model.predict(X_test_eval)"
   ]
  },
  {
   "cell_type": "markdown",
   "metadata": {
    "id": "nLSTyPjTmWDQ"
   },
   "source": [
    "# **Calculate various accuracy measures**"
   ]
  },
  {
   "cell_type": "code",
   "execution_count": 22,
   "metadata": {
    "colab": {
     "base_uri": "https://localhost:8080/"
    },
    "id": "lZ9HjJU2mTvZ",
    "outputId": "7e9fcff3-cb44-4901-a35f-d5e0378e7e7d"
   },
   "outputs": [
    {
     "name": "stdout",
     "output_type": "stream",
     "text": [
      "R2 Score_XGBoost Regression= 0.9935000819098995\n",
      "Mean Squared Error (MSE): 281531492.7562038\n",
      "Root Mean Squared Error (RMSE): 16778.900224871824\n",
      "Mean Absolute Error (MAE): 6727.437163765822\n",
      "Mean Absolute Percentage Error (MAPE): 1.471428469539863 %\n"
     ]
    }
   ],
   "source": [
    "# Calculate various accuracy measures\n",
    "mse = mean_squared_error(y_test, y_test_pred)\n",
    "rmse = np.sqrt(mse)\n",
    "mae = mean_absolute_error(y_test, y_test_pred)\n",
    "\n",
    "=\n",
    "mape = np.mean(np.abs((y_test - y_test_pred) / y_test)) * 100\n",
    "\n",
    "\n",
    "from sklearn import metrics\n",
    "print('R2 Score_XGBoost Regression=',metrics.r2_score(y_test,y_test_pred))\n",
    "\n",
    "\n",
    "print(\"Mean Squared Error (MSE):\", mse)\n",
    "print(\"Root Mean Squared Error (RMSE):\", rmse)\n",
    "print(\"Mean Absolute Error (MAE):\", mae)\n",
    "#print(\"Mean Absolute Percentage Error (MAPE):\", mape, \"%\")\n"
   ]
  },
  {
   "cell_type": "markdown",
   "metadata": {},
   "source": []
  },
  {
   "cell_type": "markdown",
   "metadata": {
    "id": "kFO3BnRE2SoH"
   },
   "source": [
    " predicted vs actual"
   ]
  },
  {
   "cell_type": "code",
   "execution_count": 20,
   "metadata": {
    "colab": {
     "base_uri": "https://localhost:8080/",
     "height": 569
    },
    "id": "dYksEbHt2C7z",
    "outputId": "929567d8-e774-4f3b-f477-10cac854d3fd"
   },
   "outputs": [
    {
     "data": {
      "image/png": "[encoded data removed]",
      "text/plain": [
       "<Figure size 800x600 with 1 Axes>"
      ]
     },
     "metadata": {},
     "output_type": "display_data"
    }
   ],
   "source": [
    "import matplotlib.pyplot as plt\n",
    "import numpy as np\n",
    "\n",
    "# Create a scatter plot of the actual and predicted sensitivity values\n",
    "plt.figure(figsize=(8,6))\n",
    "plt.scatter(x=y_test, y=y_test_pred , color='dodgerblue')\n",
    "\n",
    "# Add a 45-degree line to represent the perfect prediction\n",
    "plt.plot(y_test,y_test, color='deeppink')\n",
    "\n",
    "# Set the axis labels and title\n",
    "plt.xlabel('Actual Sensitivity',fontsize=12)\n",
    "plt.ylabel('Predicted Sensitivity',fontsize=12)\n",
    "plt.title('XGBoost Predicted vs Actual',fontsize=14)\n",
    "\n",
    "# Display the plot\n",
    "plt.show()"
   ]
  },
  {
   "cell_type": "markdown",
   "metadata": {
    "id": "uDfJpZ7U_xXR"
   },
   "source": [
    "# **Make Predictions**"
   ]
  },
  {
   "cell_type": "code",
   "execution_count": null,
   "metadata": {
    "colab": {
     "base_uri": "https://localhost:8080/"
    },
    "id": "3Zs52XBtgjl7",
    "outputId": "19a4fd40-4595-4a84-87b7-005d53418ef8"
   },
   "outputs": [
    {
     "name": "stdout",
     "output_type": "stream",
     "text": [
      "      Actual     Predicted\n",
      "6209  369000  393545.81250\n",
      "343   525000  512617.06250\n",
      "9788  420000  430200.53125\n",
      "3056  350000  348146.03125\n",
      "6513  235000  231334.12500\n"
     ]
    }
   ],
   "source": [
    "# Transform X_test using eval_set_pipe\n",
    "X_test_eval = eval_set_pipe.transform(X_test.copy())\n",
    "\n",
    "# Convert the transformed data to a DataFrame with the original index\n",
    "X_test_eval_df = pd.DataFrame(X_test_eval, index=X_test.index)\n",
    "\n",
    "pred_test = my_model.predict(X_test_eval)\n",
    "\n",
    "predictions_df = pd.DataFrame({'Actual': y_test, 'Predicted': pred_test})\n",
    "\n",
    "print(predictions_df.head())"
   ]
  },
  {
   "cell_type": "markdown",
   "metadata": {
    "id": "gigV0Q1YgGX2"
   },
   "source": [
    "# **Hyperparameter tuning:**"
   ]
  },
  {
   "cell_type": "markdown",
   "metadata": {
    "id": "UMQwnRLhizkY"
   },
   "source": [
    "# **HyperParameters Tuning with Accuracy evaluations**"
   ]
  },
  {
   "cell_type": "code",
   "execution_count": null,
   "metadata": {
    "colab": {
     "base_uri": "https://localhost:8080/"
    },
    "id": "BCUs301R9g5F",
    "outputId": "13dfcb37-755f-4e34-c09e-eda75f176e6d"
   },
   "outputs": [
    {
     "name": "stderr",
     "output_type": "stream",
     "text": [
      "C:\\Users\\admin\\anaconda3\\Lib\\site-packages\\xgboost\\sklearn.py:885: UserWarning: `early_stopping_rounds` in `fit` method is deprecated for better compatibility with scikit-learn, use `early_stopping_rounds` in constructor or`set_params` instead.\n",
      "  warnings.warn(\n",
      "C:\\Users\\admin\\anaconda3\\Lib\\site-packages\\xgboost\\sklearn.py:885: UserWarning: `early_stopping_rounds` in `fit` method is deprecated for better compatibility with scikit-learn, use `early_stopping_rounds` in constructor or`set_params` instead.\n",
      "  warnings.warn(\n",
      "C:\\Users\\admin\\anaconda3\\Lib\\site-packages\\xgboost\\sklearn.py:885: UserWarning: `early_stopping_rounds` in `fit` method is deprecated for better compatibility with scikit-learn, use `early_stopping_rounds` in constructor or`set_params` instead.\n",
      "  warnings.warn(\n",
      "C:\\Users\\admin\\anaconda3\\Lib\\site-packages\\xgboost\\sklearn.py:885: UserWarning: `early_stopping_rounds` in `fit` method is deprecated for better compatibility with scikit-learn, use `early_stopping_rounds` in constructor or`set_params` instead.\n",
      "  warnings.warn(\n",
      "C:\\Users\\admin\\anaconda3\\Lib\\site-packages\\xgboost\\sklearn.py:885: UserWarning: `early_stopping_rounds` in `fit` method is deprecated for better compatibility with scikit-learn, use `early_stopping_rounds` in constructor or`set_params` instead.\n",
      "  warnings.warn(\n",
      "C:\\Users\\admin\\anaconda3\\Lib\\site-packages\\xgboost\\sklearn.py:885: UserWarning: `early_stopping_rounds` in `fit` method is deprecated for better compatibility with scikit-learn, use `early_stopping_rounds` in constructor or`set_params` instead.\n",
      "  warnings.warn(\n",
      "C:\\Users\\admin\\anaconda3\\Lib\\site-packages\\xgboost\\sklearn.py:885: UserWarning: `early_stopping_rounds` in `fit` method is deprecated for better compatibility with scikit-learn, use `early_stopping_rounds` in constructor or`set_params` instead.\n",
      "  warnings.warn(\n",
      "C:\\Users\\admin\\anaconda3\\Lib\\site-packages\\xgboost\\sklearn.py:885: UserWarning: `early_stopping_rounds` in `fit` method is deprecated for better compatibility with scikit-learn, use `early_stopping_rounds` in constructor or`set_params` instead.\n",
      "  warnings.warn(\n",
      "C:\\Users\\admin\\anaconda3\\Lib\\site-packages\\xgboost\\sklearn.py:885: UserWarning: `early_stopping_rounds` in `fit` method is deprecated for better compatibility with scikit-learn, use `early_stopping_rounds` in constructor or`set_params` instead.\n",
      "  warnings.warn(\n",
      "C:\\Users\\admin\\anaconda3\\Lib\\site-packages\\xgboost\\sklearn.py:885: UserWarning: `early_stopping_rounds` in `fit` method is deprecated for better compatibility with scikit-learn, use `early_stopping_rounds` in constructor or`set_params` instead.\n",
      "  warnings.warn(\n",
      "C:\\Users\\admin\\anaconda3\\Lib\\site-packages\\xgboost\\sklearn.py:885: UserWarning: `early_stopping_rounds` in `fit` method is deprecated for better compatibility with scikit-learn, use `early_stopping_rounds` in constructor or`set_params` instead.\n",
      "  warnings.warn(\n",
      "C:\\Users\\admin\\anaconda3\\Lib\\site-packages\\xgboost\\sklearn.py:885: UserWarning: `early_stopping_rounds` in `fit` method is deprecated for better compatibility with scikit-learn, use `early_stopping_rounds` in constructor or`set_params` instead.\n",
      "  warnings.warn(\n",
      "C:\\Users\\admin\\anaconda3\\Lib\\site-packages\\xgboost\\sklearn.py:885: UserWarning: `early_stopping_rounds` in `fit` method is deprecated for better compatibility with scikit-learn, use `early_stopping_rounds` in constructor or`set_params` instead.\n",
      "  warnings.warn(\n",
      "C:\\Users\\admin\\anaconda3\\Lib\\site-packages\\xgboost\\sklearn.py:885: UserWarning: `early_stopping_rounds` in `fit` method is deprecated for better compatibility with scikit-learn, use `early_stopping_rounds` in constructor or`set_params` instead.\n",
      "  warnings.warn(\n",
      "C:\\Users\\admin\\anaconda3\\Lib\\site-packages\\xgboost\\sklearn.py:885: UserWarning: `early_stopping_rounds` in `fit` method is deprecated for better compatibility with scikit-learn, use `early_stopping_rounds` in constructor or`set_params` instead.\n",
      "  warnings.warn(\n",
      "C:\\Users\\admin\\anaconda3\\Lib\\site-packages\\xgboost\\sklearn.py:885: UserWarning: `early_stopping_rounds` in `fit` method is deprecated for better compatibility with scikit-learn, use `early_stopping_rounds` in constructor or`set_params` instead.\n",
      "  warnings.warn(\n",
      "C:\\Users\\admin\\anaconda3\\Lib\\site-packages\\xgboost\\sklearn.py:885: UserWarning: `early_stopping_rounds` in `fit` method is deprecated for better compatibility with scikit-learn, use `early_stopping_rounds` in constructor or`set_params` instead.\n",
      "  warnings.warn(\n",
      "C:\\Users\\admin\\anaconda3\\Lib\\site-packages\\xgboost\\sklearn.py:885: UserWarning: `early_stopping_rounds` in `fit` method is deprecated for better compatibility with scikit-learn, use `early_stopping_rounds` in constructor or`set_params` instead.\n",
      "  warnings.warn(\n",
      "C:\\Users\\admin\\anaconda3\\Lib\\site-packages\\xgboost\\sklearn.py:885: UserWarning: `early_stopping_rounds` in `fit` method is deprecated for better compatibility with scikit-learn, use `early_stopping_rounds` in constructor or`set_params` instead.\n",
      "  warnings.warn(\n",
      "C:\\Users\\admin\\anaconda3\\Lib\\site-packages\\xgboost\\sklearn.py:885: UserWarning: `early_stopping_rounds` in `fit` method is deprecated for better compatibility with scikit-learn, use `early_stopping_rounds` in constructor or`set_params` instead.\n",
      "  warnings.warn(\n",
      "C:\\Users\\admin\\anaconda3\\Lib\\site-packages\\xgboost\\sklearn.py:885: UserWarning: `early_stopping_rounds` in `fit` method is deprecated for better compatibility with scikit-learn, use `early_stopping_rounds` in constructor or`set_params` instead.\n",
      "  warnings.warn(\n",
      "C:\\Users\\admin\\anaconda3\\Lib\\site-packages\\xgboost\\sklearn.py:885: UserWarning: `early_stopping_rounds` in `fit` method is deprecated for better compatibility with scikit-learn, use `early_stopping_rounds` in constructor or`set_params` instead.\n",
      "  warnings.warn(\n",
      "C:\\Users\\admin\\anaconda3\\Lib\\site-packages\\xgboost\\sklearn.py:885: UserWarning: `early_stopping_rounds` in `fit` method is deprecated for better compatibility with scikit-learn, use `early_stopping_rounds` in constructor or`set_params` instead.\n",
      "  warnings.warn(\n",
      "C:\\Users\\admin\\anaconda3\\Lib\\site-packages\\xgboost\\sklearn.py:885: UserWarning: `early_stopping_rounds` in `fit` method is deprecated for better compatibility with scikit-learn, use `early_stopping_rounds` in constructor or`set_params` instead.\n",
      "  warnings.warn(\n",
      "C:\\Users\\admin\\anaconda3\\Lib\\site-packages\\xgboost\\sklearn.py:885: UserWarning: `early_stopping_rounds` in `fit` method is deprecated for better compatibility with scikit-learn, use `early_stopping_rounds` in constructor or`set_params` instead.\n",
      "  warnings.warn(\n",
      "C:\\Users\\admin\\anaconda3\\Lib\\site-packages\\xgboost\\sklearn.py:885: UserWarning: `early_stopping_rounds` in `fit` method is deprecated for better compatibility with scikit-learn, use `early_stopping_rounds` in constructor or`set_params` instead.\n",
      "  warnings.warn(\n",
      "C:\\Users\\admin\\anaconda3\\Lib\\site-packages\\xgboost\\sklearn.py:885: UserWarning: `early_stopping_rounds` in `fit` method is deprecated for better compatibility with scikit-learn, use `early_stopping_rounds` in constructor or`set_params` instead.\n",
      "  warnings.warn(\n",
      "C:\\Users\\admin\\anaconda3\\Lib\\site-packages\\xgboost\\sklearn.py:885: UserWarning: `early_stopping_rounds` in `fit` method is deprecated for better compatibility with scikit-learn, use `early_stopping_rounds` in constructor or`set_params` instead.\n",
      "  warnings.warn(\n",
      "C:\\Users\\admin\\anaconda3\\Lib\\site-packages\\xgboost\\sklearn.py:885: UserWarning: `early_stopping_rounds` in `fit` method is deprecated for better compatibility with scikit-learn, use `early_stopping_rounds` in constructor or`set_params` instead.\n",
      "  warnings.warn(\n",
      "C:\\Users\\admin\\anaconda3\\Lib\\site-packages\\xgboost\\sklearn.py:885: UserWarning: `early_stopping_rounds` in `fit` method is deprecated for better compatibility with scikit-learn, use `early_stopping_rounds` in constructor or`set_params` instead.\n",
      "  warnings.warn(\n",
      "C:\\Users\\admin\\anaconda3\\Lib\\site-packages\\xgboost\\sklearn.py:885: UserWarning: `early_stopping_rounds` in `fit` method is deprecated for better compatibility with scikit-learn, use `early_stopping_rounds` in constructor or`set_params` instead.\n",
      "  warnings.warn(\n",
      "C:\\Users\\admin\\anaconda3\\Lib\\site-packages\\xgboost\\sklearn.py:885: UserWarning: `early_stopping_rounds` in `fit` method is deprecated for better compatibility with scikit-learn, use `early_stopping_rounds` in constructor or`set_params` instead.\n",
      "  warnings.warn(\n"
     ]
    },
    {
     "name": "stderr",
     "output_type": "stream",
     "text": [
      "C:\\Users\\admin\\anaconda3\\Lib\\site-packages\\xgboost\\sklearn.py:885: UserWarning: `early_stopping_rounds` in `fit` method is deprecated for better compatibility with scikit-learn, use `early_stopping_rounds` in constructor or`set_params` instead.\n",
      "  warnings.warn(\n",
      "C:\\Users\\admin\\anaconda3\\Lib\\site-packages\\xgboost\\sklearn.py:885: UserWarning: `early_stopping_rounds` in `fit` method is deprecated for better compatibility with scikit-learn, use `early_stopping_rounds` in constructor or`set_params` instead.\n",
      "  warnings.warn(\n",
      "C:\\Users\\admin\\anaconda3\\Lib\\site-packages\\xgboost\\sklearn.py:885: UserWarning: `early_stopping_rounds` in `fit` method is deprecated for better compatibility with scikit-learn, use `early_stopping_rounds` in constructor or`set_params` instead.\n",
      "  warnings.warn(\n",
      "C:\\Users\\admin\\anaconda3\\Lib\\site-packages\\xgboost\\sklearn.py:885: UserWarning: `early_stopping_rounds` in `fit` method is deprecated for better compatibility with scikit-learn, use `early_stopping_rounds` in constructor or`set_params` instead.\n",
      "  warnings.warn(\n",
      "C:\\Users\\admin\\anaconda3\\Lib\\site-packages\\xgboost\\sklearn.py:885: UserWarning: `early_stopping_rounds` in `fit` method is deprecated for better compatibility with scikit-learn, use `early_stopping_rounds` in constructor or`set_params` instead.\n",
      "  warnings.warn(\n",
      "C:\\Users\\admin\\anaconda3\\Lib\\site-packages\\xgboost\\sklearn.py:885: UserWarning: `early_stopping_rounds` in `fit` method is deprecated for better compatibility with scikit-learn, use `early_stopping_rounds` in constructor or`set_params` instead.\n",
      "  warnings.warn(\n",
      "C:\\Users\\admin\\anaconda3\\Lib\\site-packages\\xgboost\\sklearn.py:885: UserWarning: `early_stopping_rounds` in `fit` method is deprecated for better compatibility with scikit-learn, use `early_stopping_rounds` in constructor or`set_params` instead.\n",
      "  warnings.warn(\n",
      "C:\\Users\\admin\\anaconda3\\Lib\\site-packages\\xgboost\\sklearn.py:885: UserWarning: `early_stopping_rounds` in `fit` method is deprecated for better compatibility with scikit-learn, use `early_stopping_rounds` in constructor or`set_params` instead.\n",
      "  warnings.warn(\n",
      "C:\\Users\\admin\\anaconda3\\Lib\\site-packages\\xgboost\\sklearn.py:885: UserWarning: `early_stopping_rounds` in `fit` method is deprecated for better compatibility with scikit-learn, use `early_stopping_rounds` in constructor or`set_params` instead.\n",
      "  warnings.warn(\n",
      "C:\\Users\\admin\\anaconda3\\Lib\\site-packages\\xgboost\\sklearn.py:885: UserWarning: `early_stopping_rounds` in `fit` method is deprecated for better compatibility with scikit-learn, use `early_stopping_rounds` in constructor or`set_params` instead.\n",
      "  warnings.warn(\n",
      "C:\\Users\\admin\\anaconda3\\Lib\\site-packages\\xgboost\\sklearn.py:885: UserWarning: `early_stopping_rounds` in `fit` method is deprecated for better compatibility with scikit-learn, use `early_stopping_rounds` in constructor or`set_params` instead.\n",
      "  warnings.warn(\n",
      "C:\\Users\\admin\\anaconda3\\Lib\\site-packages\\xgboost\\sklearn.py:885: UserWarning: `early_stopping_rounds` in `fit` method is deprecated for better compatibility with scikit-learn, use `early_stopping_rounds` in constructor or`set_params` instead.\n",
      "  warnings.warn(\n",
      "C:\\Users\\admin\\anaconda3\\Lib\\site-packages\\xgboost\\sklearn.py:885: UserWarning: `early_stopping_rounds` in `fit` method is deprecated for better compatibility with scikit-learn, use `early_stopping_rounds` in constructor or`set_params` instead.\n",
      "  warnings.warn(\n",
      "C:\\Users\\admin\\anaconda3\\Lib\\site-packages\\xgboost\\sklearn.py:885: UserWarning: `early_stopping_rounds` in `fit` method is deprecated for better compatibility with scikit-learn, use `early_stopping_rounds` in constructor or`set_params` instead.\n",
      "  warnings.warn(\n",
      "C:\\Users\\admin\\anaconda3\\Lib\\site-packages\\xgboost\\sklearn.py:885: UserWarning: `early_stopping_rounds` in `fit` method is deprecated for better compatibility with scikit-learn, use `early_stopping_rounds` in constructor or`set_params` instead.\n",
      "  warnings.warn(\n",
      "C:\\Users\\admin\\anaconda3\\Lib\\site-packages\\xgboost\\sklearn.py:885: UserWarning: `early_stopping_rounds` in `fit` method is deprecated for better compatibility with scikit-learn, use `early_stopping_rounds` in constructor or`set_params` instead.\n",
      "  warnings.warn(\n",
      "C:\\Users\\admin\\anaconda3\\Lib\\site-packages\\xgboost\\sklearn.py:885: UserWarning: `early_stopping_rounds` in `fit` method is deprecated for better compatibility with scikit-learn, use `early_stopping_rounds` in constructor or`set_params` instead.\n",
      "  warnings.warn(\n",
      "C:\\Users\\admin\\anaconda3\\Lib\\site-packages\\xgboost\\sklearn.py:885: UserWarning: `early_stopping_rounds` in `fit` method is deprecated for better compatibility with scikit-learn, use `early_stopping_rounds` in constructor or`set_params` instead.\n",
      "  warnings.warn(\n",
      "C:\\Users\\admin\\anaconda3\\Lib\\site-packages\\xgboost\\sklearn.py:885: UserWarning: `early_stopping_rounds` in `fit` method is deprecated for better compatibility with scikit-learn, use `early_stopping_rounds` in constructor or`set_params` instead.\n",
      "  warnings.warn(\n"
     ]
    },
    {
     "name": "stdout",
     "output_type": "stream",
     "text": [
      "Training time: 334.97934794425964\n",
      "Time left in percentage: 9900.297637341735\n"
     ]
    }
   ],
   "source": [
    "import time\n",
    "from sklearn.model_selection import RandomizedSearchCV, train_test_split\n",
    "from xgboost import XGBRegressor\n",
    "from sklearn.metrics import mean_squared_error, mean_absolute_error, mean_absolute_percentage_error\n",
    "\n",
    "#log transform\n",
    "data['Laatste vraagprijs_log'] = np.log1p(data['Laatste vraagprijs'].dropna())\n",
    "\n",
    "\n",
    "# Define the XGBRegressor model\n",
    "my_model = XGBRegressor(n_estimators=1500, learning_rate=0.01, n_jobs=6)\n",
    "\n",
    "# Define the parameter grid for randomized search\n",
    "param_grid = {\n",
    "    'n_estimators': range(50, 5000, 100),\n",
    "    'learning_rate': [0.001, 0.005, 0.01, 0.05, 0.1],\n",
    "    'max_depth': range(3, 11),\n",
    "    'min_child_weight': range(1, 8),\n",
    "    'gamma': [0, 0.1, 0.5, 1],\n",
    "}\n",
    "\n",
    "start_time = time.time()\n",
    "\n",
    "# Create a RandomizedSearchCV object\n",
    "random_search = RandomizedSearchCV(my_model, param_grid, cv=5, scoring='neg_mean_squared_error', n_iter=10)\n",
    "\n",
    "# Fit the RandomizedSearchCV object to the training data\n",
    "random_search.fit(X_train_eval, y_train, early_stopping_rounds=20, eval_set=[(X_test_eval, y_test)], verbose=False)\n",
    "\n",
    "# Get the best model from the RandomizedSearchCV object\n",
    "best_model = random_search.best_estimator_\n",
    "\n",
    "# Train\n",
    "best_model.fit(X_train_eval, y_train, early_stopping_rounds=10, eval_set=[(X_test_eval, y_test)], verbose=False)\n",
    "\n",
    "\n",
    "training_time = time.time() - start_time\n",
    "\n",
    "time_left_percentage = (100 - (training_time / (training_time + 1))) * 100\n",
    "\n",
    "\n",
    "print(\"Training time:\", training_time)\n",
    "print(\"Time left in percentage:\", time_left_percentage)\n",
    "\n",
    "# Make predictions on the test set with the best model\n",
    "y_test_pred = best_model.predict(X_test_eval)\n",
    "\n",
    "\n",
    "mse = mean_squared_error(y_test, y_test_pred)\n",
    "rmse = np.sqrt(mse)\n",
    "mae = mean_absolute_error(y_test, y_test_pred)\n",
    "mape = np.mean(np.abs((y_test - y_test_pred) / y_test)) * 100\n"
   ]
  },
  {
   "cell_type": "code",
   "execution_count": null,
   "metadata": {
    "colab": {
     "base_uri": "https://localhost:8080/"
    },
    "id": "pIND5U3i3gsD",
    "outputId": "f9af0d4e-8557-460f-e394-a6388d128f11"
   },
   "outputs": [
    {
     "name": "stdout",
     "output_type": "stream",
     "text": [
      "R2 Score_XGBoost Regression= 0.9935133592276028\n",
      "Mean Squared Error (MSE): 280956411.190406\n",
      "Root Mean Squared Error (RMSE): 16761.75441862832\n",
      "Mean Absolute Error (MAE): 4562.967183544304\n",
      "Mean Absolute Percentage Error (MAPE): 0.943949778455007 %\n"
     ]
    }
   ],
   "source": [
    "#metrics\n",
    "from sklearn import metrics\n",
    "print('R2 Score_XGBoost Regression=',metrics.r2_score(y_test,y_test_pred))\n",
    "\n",
    "print(\"Mean Squared Error (MSE):\", mse)\n",
    "print(\"Root Mean Squared Error (RMSE):\", rmse)\n",
    "print(\"Mean Absolute Error (MAE):\", mae)\n",
    "print(\"Mean Absolute Percentage Error (MAPE):\", mape, \"%\")\n"
   ]
  },
  {
   "cell_type": "code",
   "execution_count": null,
   "metadata": {
    "id": "MkYEGjWn4t8X",
    "outputId": "3e391122-fe52-462b-e912-963d828c3953"
   },
   "outputs": [
    {
     "data": {
      "text/html": [
       "<style>#sk-container-id-2 {color: black;background-color: white;}#sk-container-id-2 pre{padding: 0;}#sk-container-id-2 div.sk-toggleable {background-color: white;}#sk-container-id-2 label.sk-toggleable__label {cursor: pointer;display: block;width: 100%;margin-bottom: 0;padding: 0.3em;box-sizing: border-box;text-align: center;}#sk-container-id-2 label.sk-toggleable__label-arrow:before {content: \"▸\";float: left;margin-right: 0.25em;color: #696969;}#sk-container-id-2 label.sk-toggleable__label-arrow:hover:before {color: black;}#sk-container-id-2 div.sk-estimator:hover label.sk-toggleable__label-arrow:before {color: black;}#sk-container-id-2 div.sk-toggleable__content {max-height: 0;max-width: 0;overflow: hidden;text-align: left;background-color: #f0f8ff;}#sk-container-id-2 div.sk-toggleable__content pre {margin: 0.2em;color: black;border-radius: 0.25em;background-color: #f0f8ff;}#sk-container-id-2 input.sk-toggleable__control:checked~div.sk-toggleable__content {max-height: 200px;max-width: 100%;overflow: auto;}#sk-container-id-2 input.sk-toggleable__control:checked~label.sk-toggleable__label-arrow:before {content: \"▾\";}#sk-container-id-2 div.sk-estimator input.sk-toggleable__control:checked~label.sk-toggleable__label {background-color: #d4ebff;}#sk-container-id-2 div.sk-label input.sk-toggleable__control:checked~label.sk-toggleable__label {background-color: #d4ebff;}#sk-container-id-2 input.sk-hidden--visually {border: 0;clip: rect(1px 1px 1px 1px);clip: rect(1px, 1px, 1px, 1px);height: 1px;margin: -1px;overflow: hidden;padding: 0;position: absolute;width: 1px;}#sk-container-id-2 div.sk-estimator {font-family: monospace;background-color: #f0f8ff;border: 1px dotted black;border-radius: 0.25em;box-sizing: border-box;margin-bottom: 0.5em;}#sk-container-id-2 div.sk-estimator:hover {background-color: #d4ebff;}#sk-container-id-2 div.sk-parallel-item::after {content: \"\";width: 100%;border-bottom: 1px solid gray;flex-grow: 1;}#sk-container-id-2 div.sk-label:hover label.sk-toggleable__label {background-color: #d4ebff;}#sk-container-id-2 div.sk-serial::before {content: \"\";position: absolute;border-left: 1px solid gray;box-sizing: border-box;top: 0;bottom: 0;left: 50%;z-index: 0;}#sk-container-id-2 div.sk-serial {display: flex;flex-direction: column;align-items: center;background-color: white;padding-right: 0.2em;padding-left: 0.2em;position: relative;}#sk-container-id-2 div.sk-item {position: relative;z-index: 1;}#sk-container-id-2 div.sk-parallel {display: flex;align-items: stretch;justify-content: center;background-color: white;position: relative;}#sk-container-id-2 div.sk-item::before, #sk-container-id-2 div.sk-parallel-item::before {content: \"\";position: absolute;border-left: 1px solid gray;box-sizing: border-box;top: 0;bottom: 0;left: 50%;z-index: -1;}#sk-container-id-2 div.sk-parallel-item {display: flex;flex-direction: column;z-index: 1;position: relative;background-color: white;}#sk-container-id-2 div.sk-parallel-item:first-child::after {align-self: flex-end;width: 50%;}#sk-container-id-2 div.sk-parallel-item:last-child::after {align-self: flex-start;width: 50%;}#sk-container-id-2 div.sk-parallel-item:only-child::after {width: 0;}#sk-container-id-2 div.sk-dashed-wrapped {border: 1px dashed gray;margin: 0 0.4em 0.5em 0.4em;box-sizing: border-box;padding-bottom: 0.4em;background-color: white;}#sk-container-id-2 div.sk-label label {font-family: monospace;font-weight: bold;display: inline-block;line-height: 1.2em;}#sk-container-id-2 div.sk-label-container {text-align: center;}#sk-container-id-2 div.sk-container {/* jupyter's `normalize.less` sets `[hidden] { display: none; }` but bootstrap.min.css set `[hidden] { display: none !important; }` so we also need the `!important` here to be able to override the default hidden behavior on the sphinx rendered scikit-learn.org. See: https://github.com/scikit-learn/scikit-learn/issues/21755 */display: inline-block !important;position: relative;}#sk-container-id-2 div.sk-text-repr-fallback {display: none;}</style><div id=\"sk-container-id-2\" class=\"sk-top-container\"><div class=\"sk-text-repr-fallback\"><pre>XGBRegressor(base_score=None, booster=None, callbacks=None,\n",
       "             colsample_bylevel=None, colsample_bynode=None,\n",
       "             colsample_bytree=None, device=None, early_stopping_rounds=None,\n",
       "             enable_categorical=False, eval_metric=None, feature_types=None,\n",
       "             gamma=0.5, grow_policy=None, importance_type=None,\n",
       "             interaction_constraints=None, learning_rate=0.005, max_bin=None,\n",
       "             max_cat_threshold=None, max_cat_to_onehot=None,\n",
       "             max_delta_step=None, max_depth=8, max_leaves=None,\n",
       "             min_child_weight=5, missing=nan, monotone_constraints=None,\n",
       "             multi_strategy=None, n_estimators=4050, n_jobs=6,\n",
       "             num_parallel_tree=None, random_state=None, ...)</pre><b>In a Jupyter environment, please rerun this cell to show the HTML representation or trust the notebook. <br />On GitHub, the HTML representation is unable to render, please try loading this page with nbviewer.org.</b></div><div class=\"sk-container\" hidden><div class=\"sk-item\"><div class=\"sk-estimator sk-toggleable\"><input class=\"sk-toggleable__control sk-hidden--visually\" id=\"sk-estimator-id-2\" type=\"checkbox\" checked><label for=\"sk-estimator-id-2\" class=\"sk-toggleable__label sk-toggleable__label-arrow\">XGBRegressor</label><div class=\"sk-toggleable__content\"><pre>XGBRegressor(base_score=None, booster=None, callbacks=None,\n",
       "             colsample_bylevel=None, colsample_bynode=None,\n",
       "             colsample_bytree=None, device=None, early_stopping_rounds=None,\n",
       "             enable_categorical=False, eval_metric=None, feature_types=None,\n",
       "             gamma=0.5, grow_policy=None, importance_type=None,\n",
       "             interaction_constraints=None, learning_rate=0.005, max_bin=None,\n",
       "             max_cat_threshold=None, max_cat_to_onehot=None,\n",
       "             max_delta_step=None, max_depth=8, max_leaves=None,\n",
       "             min_child_weight=5, missing=nan, monotone_constraints=None,\n",
       "             multi_strategy=None, n_estimators=4050, n_jobs=6,\n",
       "             num_parallel_tree=None, random_state=None, ...)</pre></div></div></div></div></div>"
      ],
      "text/plain": [
       "XGBRegressor(base_score=None, booster=None, callbacks=None,\n",
       "             colsample_bylevel=None, colsample_bynode=None,\n",
       "             colsample_bytree=None, device=None, early_stopping_rounds=None,\n",
       "             enable_categorical=False, eval_metric=None, feature_types=None,\n",
       "             gamma=0.5, grow_policy=None, importance_type=None,\n",
       "             interaction_constraints=None, learning_rate=0.005, max_bin=None,\n",
       "             max_cat_threshold=None, max_cat_to_onehot=None,\n",
       "             max_delta_step=None, max_depth=8, max_leaves=None,\n",
       "             min_child_weight=5, missing=nan, monotone_constraints=None,\n",
       "             multi_strategy=None, n_estimators=4050, n_jobs=6,\n",
       "             num_parallel_tree=None, random_state=None, ...)"
      ]
     },
     "execution_count": 32,
     "metadata": {},
     "output_type": "execute_result"
    }
   ],
   "source": [
    "best_model = random_search.best_estimator_\n",
    "best_model"
   ]
  },
  {
   "cell_type": "code",
   "execution_count": 2,
   "metadata": {
    "id": "pYb_xBgEVczj"
   },
   "outputs": [
    {
     "name": "stdout",
     "output_type": "stream",
     "text": [
      "Collecting prettytable\n",
      "  Downloading prettytable-3.9.0-py3-none-any.whl (27 kB)\n",
      "Requirement already satisfied: wcwidth in c:\\users\\admin\\anaconda3\\lib\\site-packages (from prettytable) (0.2.5)\n",
      "Installing collected packages: prettytable\n",
      "Successfully installed prettytable-3.9.0\n"
     ]
    }
   ],
   "source": [
    "!pip install prettytable\n",
    "from prettytable import PrettyTable"
   ]
  },
  {
   "cell_type": "code",
   "execution_count": 23,
   "metadata": {},
   "outputs": [
    {
     "data": {
      "text/html": [
       "<table>\n",
       "    <thead>\n",
       "        <tr>\n",
       "            <th>Model</th>\n",
       "            <th>Hyperparameters</th>\n",
       "        </tr>\n",
       "    </thead>\n",
       "    <tbody>\n",
       "        <tr>\n",
       "            <td>Random Forest (No Tuning)</td>\n",
       "            <td>{&#x27;max_depth&#x27;: None, &#x27;max_features&#x27;: &#x27;auto&#x27;, &#x27;min_samples_leaf&#x27;: 1, &#x27;min_samples_split&#x27;: 2, &#x27;n_estimators&#x27;: 100}</td>\n",
       "        </tr>\n",
       "        <tr>\n",
       "            <td>Random Forest (Tuned)</td>\n",
       "            <td>{&#x27;max_depth&#x27;: 60, &#x27;max_features&#x27;: &#x27;auto&#x27;, &#x27;min_samples_leaf&#x27;: 3, &#x27;min_samples_split&#x27;: 6, &#x27;n_estimators&#x27;: 1942}</td>\n",
       "        </tr>\n",
       "        <tr>\n",
       "            <td>Adaboost (No Tuning)</td>\n",
       "            <td>{&#x27;n_estimators&#x27;: 1500, &#x27;learning_rate&#x27;: 0.001, &#x27;loss&#x27;: &#x27;exponential&#x27;, &#x27;random_state&#x27;: 60}</td>\n",
       "        </tr>\n",
       "        <tr>\n",
       "            <td>Adaboost (Tuned)</td>\n",
       "            <td>{&#x27;random_state&#x27;: 123, &#x27;n_estimators&#x27;: 1000, &#x27;loss&#x27;: &#x27;square&#x27;, &#x27;learning_rate&#x27;: 0.1}</td>\n",
       "        </tr>\n",
       "        <tr>\n",
       "            <td>Tabnet (No Tuning)</td>\n",
       "            <td>{&#x27;n_d&#x27;: 16, &#x27;n_a&#x27;: 16, &#x27;n_steps&#x27;: 5, &#x27;gamma&#x27;: 1.3, &#x27;lambda_sparse&#x27;: 0.001, &#x27;optimizer_params&#x27;: {&#x27;lr&#x27;: 2e-2}, &#x27;mask_type&#x27;: &#x27;entmax&#x27;, &#x27;scheduler_params&#x27;: {&#x27;max_lr&#x27;: 0.05, &#x27;steps_per_epoch&#x27;: 100, &#x27;epochs&#x27;: 20}}</td>\n",
       "        </tr>\n",
       "        <tr>\n",
       "            <td>Tabnet (Tuned)</td>\n",
       "            <td>{&#x27;scheduler_params&#x27;: {&#x27;max_lr&#x27;: 0.01, &#x27;steps_per_epoch&#x27;: 50, &#x27;epochs&#x27;: 10}, &#x27;optimizer_params&#x27;: {&#x27;lr&#x27;: 0.02}, &#x27;n_steps&#x27;: 3, &#x27;n_d&#x27;: 8, &#x27;n_a&#x27;: 8, &#x27;mask_type&#x27;: &#x27;entmax&#x27;, &#x27;lambda_sparse&#x27;: 0.001, &#x27;gamma&#x27;: 0.1}</td>\n",
       "        </tr>\n",
       "        <tr>\n",
       "            <td>XGBoost (No Tuning)</td>\n",
       "            <td>{&#x27;n_estimators&#x27;: 1500, &#x27;learning_rate&#x27;: 0.01, &#x27;n_jobs&#x27;: 6}</td>\n",
       "        </tr>\n",
       "        <tr>\n",
       "            <td>XGBoost (Tuned)</td>\n",
       "            <td>{&#x27;enable_categorical&#x27;: False, &#x27;eval_metric&#x27;: None, &#x27;feature_types&#x27;: None, &#x27;gamma&#x27;: 0.5, &#x27;grow_policy&#x27;: None, &#x27;learning_rate&#x27;: 0.005, &#x27;max_depth&#x27;: 8,&#x27;min_child_weight&#x27;: 5, &#x27;n_estimators&#x27;: 4050, &#x27;n_jobs&#x27;: 6}</td>\n",
       "        </tr>\n",
       "    </tbody>\n",
       "</table>"
      ],
      "text/plain": [
       "+---------------------------+-----------------------------------------------------------------------------------------------------------------------------------------------------------------------------------------------------------------+\n",
       "|           Model           |                                                                                                 Hyperparameters                                                                                                 |\n",
       "+---------------------------+-----------------------------------------------------------------------------------------------------------------------------------------------------------------------------------------------------------------+\n",
       "| Random Forest (No Tuning) |                                                 {'max_depth': None, 'max_features': 'auto', 'min_samples_leaf': 1, 'min_samples_split': 2, 'n_estimators': 100}                                                 |\n",
       "|   Random Forest (Tuned)   |                                                  {'max_depth': 60, 'max_features': 'auto', 'min_samples_leaf': 3, 'min_samples_split': 6, 'n_estimators': 1942}                                                 |\n",
       "|    Adaboost (No Tuning)   |                                                            {'n_estimators': 1500, 'learning_rate': 0.001, 'loss': 'exponential', 'random_state': 60}                                                            |\n",
       "|      Adaboost (Tuned)     |                                                               {'random_state': 123, 'n_estimators': 1000, 'loss': 'square', 'learning_rate': 0.1}                                                               |\n",
       "|     Tabnet (No Tuning)    | {'n_d': 16, 'n_a': 16, 'n_steps': 5, 'gamma': 1.3, 'lambda_sparse': 0.001, 'optimizer_params': {'lr': 2e-2}, 'mask_type': 'entmax', 'scheduler_params': {'max_lr': 0.05, 'steps_per_epoch': 100, 'epochs': 20}} |\n",
       "|       Tabnet (Tuned)      |   {'scheduler_params': {'max_lr': 0.01, 'steps_per_epoch': 50, 'epochs': 10}, 'optimizer_params': {'lr': 0.02}, 'n_steps': 3, 'n_d': 8, 'n_a': 8, 'mask_type': 'entmax', 'lambda_sparse': 0.001, 'gamma': 0.1}  |\n",
       "|    XGBoost (No Tuning)    |                                                                            {'n_estimators': 1500, 'learning_rate': 0.01, 'n_jobs': 6}                                                                           |\n",
       "|      XGBoost (Tuned)      |  {'enable_categorical': False, 'eval_metric': None, 'feature_types': None, 'gamma': 0.5, 'grow_policy': None, 'learning_rate': 0.005, 'max_depth': 8,'min_child_weight': 5, 'n_estimators': 4050, 'n_jobs': 6}  |\n",
       "+---------------------------+-----------------------------------------------------------------------------------------------------------------------------------------------------------------------------------------------------------------+"
      ]
     },
     "execution_count": 23,
     "metadata": {},
     "output_type": "execute_result"
    }
   ],
   "source": [
    "column_names = [\"Model\", \"Hyperparameters\"]\n",
    "data = [\n",
    "    [\"Random Forest (No Tuning)\", \"{'max_depth': None, 'max_features': 'auto', 'min_samples_leaf': 1, 'min_samples_split': 2, 'n_estimators': 100}\"],\n",
    "    [\"Random Forest (Tuned)\", \"{'max_depth': 60, 'max_features': 'auto', 'min_samples_leaf': 3, 'min_samples_split': 6, 'n_estimators': 1942}\"],\n",
    "    [\"Adaboost (No Tuning)\", \"{'n_estimators': 1500, 'learning_rate': 0.001, 'loss': 'exponential', 'random_state': 60}\"],\n",
    "    [\"Adaboost (Tuned)\", \"{'random_state': 123, 'n_estimators': 1000, 'loss': 'square', 'learning_rate': 0.1}\"],\n",
    "    [\"Tabnet (No Tuning)\", \"{'n_d': 16, 'n_a': 16, 'n_steps': 5, 'gamma': 1.3, 'lambda_sparse': 0.001, 'optimizer_params': {'lr': 2e-2}, 'mask_type': 'entmax', 'scheduler_params': {'max_lr': 0.05, 'steps_per_epoch': 100, 'epochs': 20}}\"],\n",
    "    [\"Tabnet (Tuned)\", \"{'scheduler_params': {'max_lr': 0.01, 'steps_per_epoch': 50, 'epochs': 10}, 'optimizer_params': {'lr': 0.02}, 'n_steps': 3, 'n_d': 8, 'n_a': 8, 'mask_type': 'entmax', 'lambda_sparse': 0.001, 'gamma': 0.1}\"],\n",
    "    [\"XGBoost (No Tuning)\", \"{'n_estimators': 1500, 'learning_rate': 0.01, 'n_jobs': 6}\"],\n",
    "    [\"XGBoost (Tuned)\", \"{'enable_categorical': False, 'eval_metric': None, 'feature_types': None, 'gamma': 0.5, 'grow_policy': None, 'learning_rate': 0.005, 'max_depth': 8,'min_child_weight': 5, 'n_estimators': 4050, 'n_jobs': 6}\"]\n",
    "]\n",
    "# Create a PrettyTable object\n",
    "table = PrettyTable(column_names)\n",
    "\n",
    "# Add data to the table\n",
    "for row in data:\n",
    "    table.add_row(row)\n",
    "\n",
    "table"
   ]
  },
  {
   "cell_type": "code",
   "execution_count": 29,
   "metadata": {},
   "outputs": [
    {
     "data": {
      "text/html": [
       "<table>\n",
       "    <caption>Tabnet Tuning</caption>\n",
       "    <thead>\n",
       "        <tr>\n",
       "            <th>Hyperparameter</th>\n",
       "            <th>Value</th>\n",
       "        </tr>\n",
       "    </thead>\n",
       "    <tbody>\n",
       "        <tr>\n",
       "            <td>n_d</td>\n",
       "            <td>[8, 16]</td>\n",
       "        </tr>\n",
       "        <tr>\n",
       "            <td>n_a</td>\n",
       "            <td>[8, 16]</td>\n",
       "        </tr>\n",
       "        <tr>\n",
       "            <td>n_steps</td>\n",
       "            <td>[3, 5]</td>\n",
       "        </tr>\n",
       "        <tr>\n",
       "            <td>gamma</td>\n",
       "            <td>[0.1, 1.0]</td>\n",
       "        </tr>\n",
       "        <tr>\n",
       "            <td>lambda_sparse</td>\n",
       "            <td>[0.0001, 0.001]</td>\n",
       "        </tr>\n",
       "        <tr>\n",
       "            <td>optimizer_params</td>\n",
       "            <td>[{&#x27;lr&#x27;: 0.01}, {&#x27;lr&#x27;: 0.02}]</td>\n",
       "        </tr>\n",
       "        <tr>\n",
       "            <td>mask_type</td>\n",
       "            <td>[&#x27;sparsemax&#x27;, &#x27;entmax&#x27;]</td>\n",
       "        </tr>\n",
       "        <tr>\n",
       "            <td>scheduler_params</td>\n",
       "            <td>[{&#x27;max_lr&#x27;: 0.01, &#x27;steps_per_epoch&#x27;: 50, &#x27;epochs&#x27;: 10}, {&#x27;max_lr&#x27;: 0.05, &#x27;steps_per_epoch&#x27;: 100, &#x27;epochs&#x27;: 20}]</td>\n",
       "        </tr>\n",
       "    </tbody>\n",
       "</table>"
      ],
      "text/plain": [
       "+------------------------------------------------------------------------------------------------------------------------------------+\n",
       "|                                                           Tabnet Tuning                                                            |\n",
       "+------------------+-----------------------------------------------------------------------------------------------------------------+\n",
       "|  Hyperparameter  |                                                      Value                                                      |\n",
       "+------------------+-----------------------------------------------------------------------------------------------------------------+\n",
       "|       n_d        |                                                     [8, 16]                                                     |\n",
       "|       n_a        |                                                     [8, 16]                                                     |\n",
       "|     n_steps      |                                                      [3, 5]                                                     |\n",
       "|      gamma       |                                                    [0.1, 1.0]                                                   |\n",
       "|  lambda_sparse   |                                                 [0.0001, 0.001]                                                 |\n",
       "| optimizer_params |                                           [{'lr': 0.01}, {'lr': 0.02}]                                          |\n",
       "|    mask_type     |                                             ['sparsemax', 'entmax']                                             |\n",
       "| scheduler_params | [{'max_lr': 0.01, 'steps_per_epoch': 50, 'epochs': 10}, {'max_lr': 0.05, 'steps_per_epoch': 100, 'epochs': 20}] |\n",
       "+------------------+-----------------------------------------------------------------------------------------------------------------+"
      ]
     },
     "execution_count": 29,
     "metadata": {},
     "output_type": "execute_result"
    }
   ],
   "source": [
    "from prettytable import PrettyTable\n",
    "\n",
    "# Example data for a specific model\n",
    "model_data = [\"Tabnet Tuning\", {\n",
    "    'n_d': [8, 16],\n",
    "    'n_a': [8, 16],\n",
    "    'n_steps': [3, 5],\n",
    "    'gamma': [0.1, 1.0],\n",
    "    'lambda_sparse': [1e-4, 1e-3],\n",
    "    'optimizer_params': [{'lr': 1e-2}, {'lr': 2e-2}],\n",
    "    'mask_type': ['sparsemax', 'entmax'],\n",
    "    'scheduler_params': [{'max_lr': 0.01, 'steps_per_epoch': 50, 'epochs': 10},\n",
    "                         {'max_lr': 0.05, 'steps_per_epoch': 100, 'epochs': 20}]\n",
    "}]\n",
    "\n",
    "# Extract hyperparameters and values\n",
    "hyperparameters_dict = model_data[1]\n",
    "hyperparameters_list = [(key, str(value)) for key, value in hyperparameters_dict.items()]\n",
    "\n",
    "# Create a PrettyTable for Hyperparameters and Values\n",
    "hyperparameters_table = PrettyTable([\"Hyperparameter\", \"Value\"])\n",
    "\n",
    "\n",
    "for hyperparameter, value in hyperparameters_list:\n",
    "    hyperparameters_table.add_row([hyperparameter, value])\n",
    "\n",
    "\n",
    "hyperparameters_table.title = model_data[0]\n",
    "\n",
    "hyperparameters_table\n"
   ]
  },
  {
   "cell_type": "code",
   "execution_count": 25,
   "metadata": {},
   "outputs": [
    {
     "data": {
      "text/html": [
       "<table>\n",
       "    <thead>\n",
       "        <tr>\n",
       "            <th>Hyperparameter</th>\n",
       "            <th>Value</th>\n",
       "        </tr>\n",
       "    </thead>\n",
       "    <tbody>\n",
       "        <tr>\n",
       "            <td>max_depth</td>\n",
       "            <td>None</td>\n",
       "        </tr>\n",
       "        <tr>\n",
       "            <td>max_features</td>\n",
       "            <td>auto</td>\n",
       "        </tr>\n",
       "        <tr>\n",
       "            <td>min_samples_leaf</td>\n",
       "            <td>1</td>\n",
       "        </tr>\n",
       "        <tr>\n",
       "            <td>min_samples_split</td>\n",
       "            <td>2</td>\n",
       "        </tr>\n",
       "        <tr>\n",
       "            <td>n_estimators</td>\n",
       "            <td>100</td>\n",
       "        </tr>\n",
       "    </tbody>\n",
       "</table>"
      ],
      "text/plain": [
       "+-------------------+-------+\n",
       "|   Hyperparameter  | Value |\n",
       "+-------------------+-------+\n",
       "|     max_depth     |  None |\n",
       "|    max_features   |  auto |\n",
       "|  min_samples_leaf |   1   |\n",
       "| min_samples_split |   2   |\n",
       "|    n_estimators   |  100  |\n",
       "+-------------------+-------+"
      ]
     },
     "execution_count": 25,
     "metadata": {},
     "output_type": "execute_result"
    }
   ],
   "source": []
  },
  {
   "cell_type": "code",
   "execution_count": 35,
   "metadata": {},
   "outputs": [
    {
     "data": {
      "text/html": [
       "<table>\n",
       "    <caption>RF Tuning</caption>\n",
       "    <thead>\n",
       "        <tr>\n",
       "            <th>Hyperparameter</th>\n",
       "            <th>Value</th>\n",
       "        </tr>\n",
       "    </thead>\n",
       "    <tbody>\n",
       "        <tr>\n",
       "            <td>n_estimators</td>\n",
       "            <td>&lt;scipy.stats._distn_infrastructure.rv_discrete_frozen object at 0x0000022EDFE5E590&gt;</td>\n",
       "        </tr>\n",
       "        <tr>\n",
       "            <td>max_features</td>\n",
       "            <td>[&#x27;auto&#x27;, &#x27;sqrt&#x27;, &#x27;log2&#x27;]</td>\n",
       "        </tr>\n",
       "        <tr>\n",
       "            <td>max_depth</td>\n",
       "            <td>[None, 10, 20, 30, 40, 50, 60, 70, 80, 90, 100]</td>\n",
       "        </tr>\n",
       "        <tr>\n",
       "            <td>min_samples_split</td>\n",
       "            <td>&lt;scipy.stats._distn_infrastructure.rv_discrete_frozen object at 0x0000022EDF302F50&gt;</td>\n",
       "        </tr>\n",
       "        <tr>\n",
       "            <td>min_samples_leaf</td>\n",
       "            <td>&lt;scipy.stats._distn_infrastructure.rv_discrete_frozen object at 0x0000022EE24A4C10&gt;</td>\n",
       "        </tr>\n",
       "    </tbody>\n",
       "</table>"
      ],
      "text/plain": [
       "+---------------------------------------------------------------------------------------------------------+\n",
       "|                                                RF Tuning                                                |\n",
       "+-------------------+-------------------------------------------------------------------------------------+\n",
       "|   Hyperparameter  |                                        Value                                        |\n",
       "+-------------------+-------------------------------------------------------------------------------------+\n",
       "|    n_estimators   | <scipy.stats._distn_infrastructure.rv_discrete_frozen object at 0x0000022EDFE5E590> |\n",
       "|    max_features   |                               ['auto', 'sqrt', 'log2']                              |\n",
       "|     max_depth     |                   [None, 10, 20, 30, 40, 50, 60, 70, 80, 90, 100]                   |\n",
       "| min_samples_split | <scipy.stats._distn_infrastructure.rv_discrete_frozen object at 0x0000022EDF302F50> |\n",
       "|  min_samples_leaf | <scipy.stats._distn_infrastructure.rv_discrete_frozen object at 0x0000022EE24A4C10> |\n",
       "+-------------------+-------------------------------------------------------------------------------------+"
      ]
     },
     "execution_count": 35,
     "metadata": {},
     "output_type": "execute_result"
    }
   ],
   "source": [
    "# from prettytable import PrettyTable\n",
    "\n",
    "# # Example data for a specific model\n",
    "# model_data = [\"RF Tuning\", {\n",
    "#     'n_estimators': randint(100, 2000),\n",
    "#     'max_features': ['auto', 'sqrt', 'log2'],\n",
    "#     'max_depth': [None, 10, 20, 30, 40, 50, 60, 70, 80, 90, 100],\n",
    "#     'min_samples_split': randint(2, 11),\n",
    "#     'min_samples_leaf': randint(1, 11)\n",
    "# }]\n",
    "\n",
    "# # Extract hyperparameters and values\n",
    "# hyperparameters_dict = model_data[1]\n",
    "# hyperparameters_list = [(key, str(value)) for key, value in hyperparameters_dict.items()]\n",
    "\n",
    "# # Create a PrettyTable for Hyperparameters and Values\n",
    "# hyperparameters_table = PrettyTable([\"Hyperparameter\", \"Value\"])\n",
    "\n",
    "# # Add data to the table\n",
    "# for hyperparameter, value in hyperparameters_list:\n",
    "#     hyperparameters_table.add_row([hyperparameter, value])\n",
    "\n",
    "# # Set the title for the table\n",
    "# hyperparameters_table.title = model_data[0]\n",
    "\n",
    "# hyperparameters_table\n"
   ]
  },
  {
   "cell_type": "code",
   "execution_count": 36,
   "metadata": {},
   "outputs": [
    {
     "data": {
      "text/html": [
       "<table>\n",
       "    <caption>Adaboost Tuning</caption>\n",
       "    <thead>\n",
       "        <tr>\n",
       "            <th>Hyperparameter</th>\n",
       "            <th>Value</th>\n",
       "        </tr>\n",
       "    </thead>\n",
       "    <tbody>\n",
       "        <tr>\n",
       "            <td>n_estimators</td>\n",
       "            <td>range(50, 5000, 100)</td>\n",
       "        </tr>\n",
       "        <tr>\n",
       "            <td>learning_rate</td>\n",
       "            <td>[0.001, 0.005, 0.01, 0.05, 0.1]</td>\n",
       "        </tr>\n",
       "    </tbody>\n",
       "</table>"
      ],
      "text/plain": [
       "+--------------------------------------------------+\n",
       "|                 Adaboost Tuning                  |\n",
       "+----------------+---------------------------------+\n",
       "| Hyperparameter |              Value              |\n",
       "+----------------+---------------------------------+\n",
       "|  n_estimators  |       range(50, 5000, 100)      |\n",
       "| learning_rate  | [0.001, 0.005, 0.01, 0.05, 0.1] |\n",
       "+----------------+---------------------------------+"
      ]
     },
     "execution_count": 36,
     "metadata": {},
     "output_type": "execute_result"
    }
   ],
   "source": [
    "# from prettytable import PrettyTable\n",
    "\n",
    "# # Example data for a specific model\n",
    "# model_data = [\"Adaboost Tuning\", {\n",
    "#     'n_estimators': range(50, 5000, 100),\n",
    "#     'learning_rate': [0.001, 0.005, 0.01, 0.05, 0.1]\n",
    "# }]\n",
    "\n",
    "# # Extract hyperparameters and values\n",
    "# hyperparameters_dict = model_data[1]\n",
    "# hyperparameters_list = [(key, str(value)) for key, value in hyperparameters_dict.items()]\n",
    "\n",
    "# # Create a PrettyTable for Hyperparameters and Values\n",
    "# hyperparameters_table = PrettyTable([\"Hyperparameter\", \"Value\"])\n",
    "\n",
    "# # Add data to the table\n",
    "# for hyperparameter, value in hyperparameters_list:\n",
    "#     hyperparameters_table.add_row([hyperparameter, value])\n",
    "\n",
    "# # Set the title for the table\n",
    "# hyperparameters_table.title = model_data[0]\n",
    "\n",
    "# hyperparameters_table\n"
   ]
  },
  {
   "cell_type": "code",
   "execution_count": 37,
   "metadata": {},
   "outputs": [
    {
     "data": {
      "text/html": [
       "<table>\n",
       "    <caption>XGBoost Tuning</caption>\n",
       "    <thead>\n",
       "        <tr>\n",
       "            <th>Hyperparameter</th>\n",
       "            <th>Value</th>\n",
       "        </tr>\n",
       "    </thead>\n",
       "    <tbody>\n",
       "        <tr>\n",
       "            <td>n_estimators</td>\n",
       "            <td>range(50, 5000, 100)</td>\n",
       "        </tr>\n",
       "        <tr>\n",
       "            <td>learning_rate</td>\n",
       "            <td>[0.001, 0.005, 0.01, 0.05, 0.1]</td>\n",
       "        </tr>\n",
       "        <tr>\n",
       "            <td>max_depth</td>\n",
       "            <td>range(3, 11)</td>\n",
       "        </tr>\n",
       "        <tr>\n",
       "            <td>min_child_weight</td>\n",
       "            <td>range(1, 8)</td>\n",
       "        </tr>\n",
       "        <tr>\n",
       "            <td>gamma</td>\n",
       "            <td>[0, 0.1, 0.5, 1]</td>\n",
       "        </tr>\n",
       "    </tbody>\n",
       "</table>"
      ],
      "text/plain": [
       "+----------------------------------------------------+\n",
       "|                   XGBoost Tuning                   |\n",
       "+------------------+---------------------------------+\n",
       "|  Hyperparameter  |              Value              |\n",
       "+------------------+---------------------------------+\n",
       "|   n_estimators   |       range(50, 5000, 100)      |\n",
       "|  learning_rate   | [0.001, 0.005, 0.01, 0.05, 0.1] |\n",
       "|    max_depth     |           range(3, 11)          |\n",
       "| min_child_weight |           range(1, 8)           |\n",
       "|      gamma       |         [0, 0.1, 0.5, 1]        |\n",
       "+------------------+---------------------------------+"
      ]
     },
     "execution_count": 37,
     "metadata": {},
     "output_type": "execute_result"
    }
   ],
   "source": [
    "\n",
    "from prettytable import PrettyTable\n",
    "\n",
    "# Example data for a specific model\n",
    "model_data = [\"XGBoost Tuning\", {\n",
    "    'n_estimators': range(50, 5000, 100),\n",
    "    'learning_rate': [0.001, 0.005, 0.01, 0.05, 0.1],\n",
    "    'max_depth': range(3, 11),\n",
    "    'min_child_weight': range(1, 8),\n",
    "    'gamma': [0, 0.1, 0.5, 1]\n",
    "}]\n",
    "\n",
    "# Extract hyperparameters and values\n",
    "hyperparameters_dict = model_data[1]\n",
    "hyperparameters_list = [(key, str(value)) for key, value in hyperparameters_dict.items()]\n",
    "\n",
    "# Create a PrettyTable for Hyperparameters and Values\n",
    "hyperparameters_table = PrettyTable([\"Hyperparameter\", \"Value\"])\n",
    "\n",
    "# Add data to the table\n",
    "for hyperparameter, value in hyperparameters_list:\n",
    "    hyperparameters_table.add_row([hyperparameter, value])\n",
    "\n",
    "# Set the title for the table\n",
    "hyperparameters_table.title = model_data[0]\n",
    "\n",
    "hyperparameters_table\n",
    "        "
   ]
  },
  {
   "cell_type": "code",
   "execution_count": null,
   "metadata": {},
   "outputs": [],
   "source": []
  }
 ],
 "metadata": {
  "colab": {
   "collapsed_sections": [
    "eBCUZjjtGZpe"
   ],
   "provenance": []
  },
  "kernelspec": {
   "display_name": "Python 3 (ipykernel)",
   "language": "python",
   "name": "python3"
  },
  "language_info": {
   "codemirror_mode": {
    "name": "ipython",
    "version": 3
   },
   "file_extension": ".py",
   "mimetype": "text/x-python",
   "name": "python",
   "nbconvert_exporter": "python",
   "pygments_lexer": "ipython3",
   "version": "3.11.3"
  }
 },
 "nbformat": 4,
 "nbformat_minor": 1
}
