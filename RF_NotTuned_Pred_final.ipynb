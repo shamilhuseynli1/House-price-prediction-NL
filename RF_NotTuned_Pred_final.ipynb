{
 "cells": [
  {
   "cell_type": "markdown",
   "metadata": {
    "id": "UFHyPMojAgwr"
   },
   "source": [
    "# **Upload libraries**"
   ]
  },
  {
   "cell_type": "code",
   "execution_count": 1,
   "metadata": {
    "id": "5cWud6AZAfSl"
   },
   "outputs": [],
   "source": [
    "import pandas as pd\n",
    "import numpy as np\n",
    "from sklearn.model_selection import train_test_split\n",
    "from sklearn.preprocessing import StandardScaler, OneHotEncoder\n",
    "from sklearn.compose import ColumnTransformer\n",
    "from sklearn.pipeline import Pipeline\n",
    "from sklearn.ensemble import RandomForestRegressor\n",
    "from sklearn.metrics import mean_absolute_error, mean_squared_error, r2_score\n",
    "from sklearn.impute import SimpleImputer"
   ]
  },
  {
   "cell_type": "markdown",
   "metadata": {
    "id": "Un7FTJo8ft1U"
   },
   "source": [
    "# 1- **Upload the data**"
   ]
  },
  {
   "cell_type": "code",
   "execution_count": 3,
   "metadata": {
    "id": "fmaZjzCaJV-H"
   },
   "outputs": [],
   "source": [
    "path = 'Funda_dataset_cleaned.csv'\n",
    "\n",
    "data = pd.read_csv(path)\n"
   ]
  },
  {
   "cell_type": "markdown",
   "metadata": {
    "id": "LLoMa5O2GseF"
   },
   "source": [
    "# **Primary Data Diagnostics**"
   ]
  },
  {
   "cell_type": "code",
   "execution_count": null,
   "metadata": {
    "colab": {
     "base_uri": "https://localhost:8080/"
    },
    "id": "s8MFJeH_FB3R",
    "outputId": "a632f5a8-4c63-4439-9f18-77b0542f5418"
   },
   "outputs": [
    {
     "name": "stdout",
     "output_type": "stream",
     "text": [
      "<class 'pandas.core.frame.DataFrame'>\n",
      "RangeIndex: 9884 entries, 0 to 9883\n",
      "Columns: 112 entries, Aangeboden sinds to Soort woonhuis\n",
      "dtypes: int64(104), object(8)\n",
      "memory usage: 8.4+ MB\n"
     ]
    }
   ],
   "source": [
    "data.info()"
   ]
  },
  {
   "cell_type": "code",
   "execution_count": null,
   "metadata": {
    "colab": {
     "base_uri": "https://localhost:8080/"
    },
    "id": "83jrCvFIFmdm",
    "outputId": "00cbfcad-d9fa-4a9e-b43f-3a3c74250ca8"
   },
   "outputs": [
    {
     "data": {
      "text/plain": [
       "(9884, 112)"
      ]
     },
     "execution_count": 4,
     "metadata": {},
     "output_type": "execute_result"
    }
   ],
   "source": [
    "data.shape"
   ]
  },
  {
   "cell_type": "code",
   "execution_count": 3,
   "metadata": {
    "id": "JGVEf16fFrcH"
   },
   "outputs": [],
   "source": []
  },
  {
   "cell_type": "code",
   "execution_count": 4,
   "metadata": {
    "colab": {
     "base_uri": "https://localhost:8080/"
    },
    "id": "ttizsV_2FxSH",
    "outputId": "e1799874-250f-49fb-8356-ddba7c0803e7"
   },
   "outputs": [
    {
     "name": "stdout",
     "output_type": "stream",
     "text": [
      "[dtype('O') dtype('int64')]\n"
     ]
    }
   ],
   "source": [
    "print(data.dtypes.unique())"
   ]
  },
  {
   "cell_type": "code",
   "execution_count": 5,
   "metadata": {
    "colab": {
     "base_uri": "https://localhost:8080/"
    },
    "id": "56GkDxw8F959",
    "outputId": "38fb931c-b49a-43f6-8b75-a16a444d703e"
   },
   "outputs": [
    {
     "name": "stdout",
     "output_type": "stream",
     "text": [
      "Number of duplicate rows: 13\n"
     ]
    }
   ],
   "source": [
    "\n",
    "num_duplicates = data.duplicated().sum()\n",
    "print(\"Number of duplicate rows:\", num_duplicates)\n",
    "\n",
    "\n",
    "data.drop_duplicates(inplace=True)"
   ]
  },
  {
   "attachments": {},
   "cell_type": "markdown",
   "metadata": {
    "id": "FVj_CrsgAGbl"
   },
   "source": [
    "# Drop time variables"
   ]
  },
  {
   "cell_type": "code",
   "execution_count": 6,
   "metadata": {
    "id": "TeCE0bGAzle4"
   },
   "outputs": [],
   "source": [
    "data.drop(['Aangeboden sinds', 'Verkoopdatum'], axis=1, inplace=True)"
   ]
  },
  {
   "cell_type": "code",
   "execution_count": 7,
   "metadata": {
    "colab": {
     "base_uri": "https://localhost:8080/"
    },
    "id": "BNV8qDX6zljQ",
    "outputId": "ecfda9d0-b597-4fde-f560-55164065fa74"
   },
   "outputs": [
    {
     "name": "stderr",
     "output_type": "stream",
     "text": [
      "<ipython-input-7-855a70a2f4ab>:1: FutureWarning: The default value of numeric_only in DataFrame.corr is deprecated. In a future version, it will default to False. Select only valid columns or specify the value of numeric_only to silence this warning.\n",
      "  data.corr()['Laatste vraagprijs'].sort_values(ascending=False).drop('Laatste vraagprijs')\n"
     ]
    },
    {
     "data": {
      "text/plain": [
       "Woonruimte in m2                            0.680477\n",
       "Inhoud in m3                                0.587934\n",
       "Bathrooms                                   0.474886\n",
       "Vraagprijs per m2                           0.470889\n",
       "Aantal kamers                               0.403485\n",
       "                                              ...   \n",
       "Schuur/berging_Box                         -0.053630\n",
       "Isolatie_Geenisolatie                      -0.061635\n",
       "Voorzieningen_Tvkabel                      -0.077961\n",
       "Schuur/berging_Vrijstaandestenen berging   -0.094548\n",
       "Verwarming_Blokverwarming                  -0.136348\n",
       "Name: Laatste vraagprijs, Length: 103, dtype: float64"
      ]
     },
     "execution_count": 7,
     "metadata": {},
     "output_type": "execute_result"
    }
   ],
   "source": [
    "data.corr()['Laatste vraagprijs'].sort_values(ascending=False).drop('Laatste vraagprijs')"
   ]
  },
  {
   "cell_type": "code",
   "execution_count": 8,
   "metadata": {
    "colab": {
     "base_uri": "https://localhost:8080/"
    },
    "id": "tcyIZORS7Uxn",
    "outputId": "a3ff1a91-9bd4-475e-a710-38cc831c3e5c"
   },
   "outputs": [
    {
     "name": "stderr",
     "output_type": "stream",
     "text": [
      "<ipython-input-8-1875e60eb14e>:1: FutureWarning: The default value of numeric_only in DataFrame.corr is deprecated. In a future version, it will default to False. Select only valid columns or specify the value of numeric_only to silence this warning.\n",
      "  cor=data.corr()['Laatste vraagprijs'].sort_values(ascending=False).drop('Laatste vraagprijs')\n"
     ]
    }
   ],
   "source": [
    "cor=data.corr()['Laatste vraagprijs'].sort_values(ascending=False).drop('Laatste vraagprijs')"
   ]
  },
  {
   "cell_type": "markdown",
   "metadata": {
    "id": "MPGgVZVK_4Fh"
   },
   "source": [
    "# Drop less than 0.1 correlated"
   ]
  },
  {
   "cell_type": "code",
   "execution_count": 9,
   "metadata": {
    "colab": {
     "base_uri": "https://localhost:8080/",
     "height": 839
    },
    "id": "mTNO1GZuA__S",
    "outputId": "5cf6eff4-7005-4b23-fc95-7fc18dfa149f"
   },
   "outputs": [
    {
     "name": "stderr",
     "output_type": "stream",
     "text": [
      "<ipython-input-9-1bfcd880fecc>:2: FutureWarning: The default value of numeric_only in DataFrame.corr is deprecated. In a future version, it will default to False. Select only valid columns or specify the value of numeric_only to silence this warning.\n",
      "  corr_matrix = data.corr()\n",
      "<ipython-input-9-1bfcd880fecc>:12: FutureWarning: The default value of numeric_only in DataFrame.corr is deprecated. In a future version, it will default to False. Select only valid columns or specify the value of numeric_only to silence this warning.\n",
      "  plt.bar(x=list(data.corr()['Laatste vraagprijs'].sort_values(ascending=False).drop('Laatste vraagprijs').index), height=list(data.corr()['Laatste vraagprijs'].sort_values(ascending=False).drop('Laatste vraagprijs').values), color='teal')\n",
      "<ipython-input-9-1bfcd880fecc>:12: FutureWarning: The default value of numeric_only in DataFrame.corr is deprecated. In a future version, it will default to False. Select only valid columns or specify the value of numeric_only to silence this warning.\n",
      "  plt.bar(x=list(data.corr()['Laatste vraagprijs'].sort_values(ascending=False).drop('Laatste vraagprijs').index), height=list(data.corr()['Laatste vraagprijs'].sort_values(ascending=False).drop('Laatste vraagprijs').values), color='teal')\n"
     ]
    },
    {
     "data": {
      "image/png": "[encoded data removed]",
      "text/plain": [
       "<Figure size 2200x600 with 1 Axes>"
      ]
     },
     "metadata": {},
     "output_type": "display_data"
    }
   ],
   "source": [
    "\n",
    "corr_matrix = data.corr()\n",
    "\n",
    "# Select the variables that have a correlation less than 0.1 with the target variable\n",
    "drop_list = corr_matrix[corr_matrix['Laatste vraagprijs'].abs() < 0.1].index.to_list()\n",
    "\n",
    "data = data.drop(drop_list, axis=1)\n",
    "\n",
    "plt.figure(figsize=(22,6))\n",
    "plt.bar(x=list(data.corr()['Laatste vraagprijs'].sort_values(ascending=False).drop('Laatste vraagprijs').index), height=list(data.corr()['Laatste vraagprijs'].sort_values(ascending=False).drop('Laatste vraagprijs').values), color='teal')\n",
    "plt.xticks(rotation=90)\n",
    "plt.xlabel('Feature', fontsize=12)\n",
    "plt.ylabel('Correlation', fontsize=12)\n",
    "plt.title('Correlation of Features with Price (After Dropping Low Correlation Variables)', fontsize=15)\n",
    "plt.show()"
   ]
  },
  {
   "cell_type": "code",
   "execution_count": 10,
   "metadata": {
    "colab": {
     "base_uri": "https://localhost:8080/"
    },
    "id": "qoqivWiB8uqN",
    "outputId": "6e9ee61c-a823-4f64-ac45-123ef5105afa"
   },
   "outputs": [
    {
     "data": {
      "text/plain": [
       "(9871, 40)"
      ]
     },
     "execution_count": 10,
     "metadata": {},
     "output_type": "execute_result"
    }
   ],
   "source": [
    "data.shape"
   ]
  },
  {
   "cell_type": "markdown",
   "metadata": {
    "id": "eBCUZjjtGZpe"
   },
   "source": [
    "# **Split the Target variable from the input variables**"
   ]
  },
  {
   "cell_type": "code",
   "execution_count": 11,
   "metadata": {
    "colab": {
     "base_uri": "https://localhost:8080/"
    },
    "id": "Svmlef03GFqO",
    "outputId": "a42aae49-33a9-4437-8e74-5b3ff5826dda"
   },
   "outputs": [
    {
     "name": "stdout",
     "output_type": "stream",
     "text": [
      "<class 'pandas.core.frame.DataFrame'>\n",
      "Int64Index: 9871 entries, 0 to 9883\n",
      "Data columns (total 39 columns):\n",
      " #   Column                                   Non-Null Count  Dtype \n",
      "---  ------                                   --------------  ----- \n",
      " 0   Status                                   9871 non-null   object\n",
      " 1   Soort bouw                               9871 non-null   object\n",
      " 2   Aantal kamers                            9871 non-null   int64 \n",
      " 3   Energielabel                             9871 non-null   object\n",
      " 4   Overige inpandige ruimte m2              9871 non-null   int64 \n",
      " 5   Perceel m2                               9871 non-null   int64 \n",
      " 6   Achtertuin m2                            9871 non-null   int64 \n",
      " 7   Aantal dagen tot verkoop                 9871 non-null   object\n",
      " 8   Vraagprijs per m2                        9871 non-null   int64 \n",
      " 9   Woonruimte in m2                         9871 non-null   int64 \n",
      " 10  Gebouwgebonden buitenruimte in m2        9871 non-null   int64 \n",
      " 11  Externe bergruimte in m2                 9871 non-null   int64 \n",
      " 12  Inhoud in m3                             9871 non-null   int64 \n",
      " 13  Aantal slaapkamers                       9871 non-null   int64 \n",
      " 14  Bathrooms                                9871 non-null   int64 \n",
      " 15  Toilets                                  9871 non-null   int64 \n",
      " 16  Kelder                                   9871 non-null   int64 \n",
      " 17  Voorzieningen_Domotica                   9871 non-null   int64 \n",
      " 18  Voorzieningen_Zwembad                    9871 non-null   int64 \n",
      " 19  Voorzieningen_Verwarming                 9871 non-null   int64 \n",
      " 20  Voorzieningen_Stromendwater              9871 non-null   int64 \n",
      " 21  Voorzieningen_Elektrischedeur            9871 non-null   int64 \n",
      " 22  Voorzieningen_Alarminstallatie           9871 non-null   int64 \n",
      " 23  Isolatie_Vollediggeïsoleerd              9871 non-null   int64 \n",
      " 24  Verwarming_Gedeeltelijkevloerverwarming  9871 non-null   int64 \n",
      " 25  Verwarming_Warmtepomp                    9871 non-null   int64 \n",
      " 26  Verwarming_Gehelevloerverwarming         9871 non-null   int64 \n",
      " 27  Verwarming_Blokverwarming                9871 non-null   int64 \n",
      " 28  Verwarming_Gashaard                      9871 non-null   int64 \n",
      " 29  Verwarming_Openhaard                     9871 non-null   int64 \n",
      " 30  Verwarming_Houtkachel                    9871 non-null   int64 \n",
      " 31  Balkon/dakterras_Dakterrasaanwezig       9871 non-null   int64 \n",
      " 32  Tuin_Zijtuin                             9871 non-null   int64 \n",
      " 33  Tuin_Tuinrondom                          9871 non-null   int64 \n",
      " 34  Soort garage_Parkeerplaats               9871 non-null   int64 \n",
      " 35  Soort garage_Inpandig                    9871 non-null   int64 \n",
      " 36  Soort garage_Parkeerkelder               9871 non-null   int64 \n",
      " 37  Soort dak                                9871 non-null   object\n",
      " 38  Soort woonhuis                           9871 non-null   object\n",
      "dtypes: int64(33), object(6)\n",
      "memory usage: 3.0+ MB\n"
     ]
    }
   ],
   "source": [
    "X = data.drop('Laatste vraagprijs',axis=1)\n",
    "y = data['Laatste vraagprijs']\n",
    "\n",
    "X.head()\n",
    "X.describe()\n",
    "X.info()"
   ]
  },
  {
   "cell_type": "markdown",
   "metadata": {
    "id": "xY4NhRZxTzBo"
   },
   "source": [
    "# **Split the data into Train and Test**"
   ]
  },
  {
   "cell_type": "code",
   "execution_count": 12,
   "metadata": {
    "id": "eipnfczoTzMI"
   },
   "outputs": [],
   "source": [
    "# Split the data into training and testing sets\n",
    "X_train_full, X_test, y_train, y_test = train_test_split(X, y, test_size=0.2, random_state=0)"
   ]
  },
  {
   "attachments": {},
   "cell_type": "markdown",
   "metadata": {
    "id": "hcj7i2SoPy3R"
   },
   "source": [
    "# **Transform Categorical variables by encoding**"
   ]
  },
  {
   "cell_type": "code",
   "execution_count": 13,
   "metadata": {
    "colab": {
     "base_uri": "https://localhost:8080/"
    },
    "id": "e-69m4o2Px3w",
    "outputId": "7d50ba70-f401-47c6-c63e-2ad49d63024a"
   },
   "outputs": [
    {
     "name": "stdout",
     "output_type": "stream",
     "text": [
      "Categorical Columns:\n",
      "['Status', 'Soort bouw', 'Energielabel', 'Aantal dagen tot verkoop', 'Soort dak', 'Soort woonhuis']\n",
      "Numerical Columns:\n",
      "['Aantal kamers', 'Overige inpandige ruimte m2', 'Perceel m2', 'Achtertuin m2', 'Vraagprijs per m2', 'Woonruimte in m2', 'Gebouwgebonden buitenruimte in m2', 'Externe bergruimte in m2', 'Inhoud in m3', 'Aantal slaapkamers', 'Bathrooms', 'Toilets', 'Kelder', 'Voorzieningen_Domotica', 'Voorzieningen_Zwembad', 'Voorzieningen_Verwarming', 'Voorzieningen_Stromendwater', 'Voorzieningen_Elektrischedeur', 'Voorzieningen_Alarminstallatie', 'Isolatie_Vollediggeïsoleerd', 'Verwarming_Gedeeltelijkevloerverwarming', 'Verwarming_Warmtepomp', 'Verwarming_Gehelevloerverwarming', 'Verwarming_Blokverwarming', 'Verwarming_Gashaard', 'Verwarming_Openhaard', 'Verwarming_Houtkachel', 'Balkon/dakterras_Dakterrasaanwezig', 'Tuin_Zijtuin', 'Tuin_Tuinrondom', 'Soort garage_Parkeerplaats', 'Soort garage_Inpandig', 'Soort garage_Parkeerkelder']\n"
     ]
    }
   ],
   "source": [
    "from sklearn.preprocessing import StandardScaler\n",
    "\n",
    "# transformers\n",
    "numerical_transformer = Pipeline([\n",
    "    ('imputer', SimpleImputer(strategy='mean')),\n",
    "    ('scaler', StandardScaler())\n",
    "])\n",
    "\n",
    "categorical_transformer = Pipeline(steps=[\n",
    "    ('impute', SimpleImputer(strategy='most_frequent')),\n",
    "    ('onehot', OneHotEncoder(handle_unknown='ignore'))\n",
    "])\n",
    "\n",
    "# Select categorical columns with fewer than 1000 unique values\n",
    "categorical_col = [col for col in X_train_full.columns if X_train_full[col].dtype == 'O' and X_train_full[col].nunique() < 1000]\n",
    "# Print the selected categorical columns\n",
    "print(\"Categorical Columns:\")\n",
    "print(categorical_col)\n",
    "\n",
    "# Select numerical columns\n",
    "numerical_col = [col for col in X_train_full.columns if X_train_full[col].dtype in ['float64', 'int64']]\n",
    "# Print the selected numerical columns\n",
    "print(\"Numerical Columns:\")\n",
    "print(numerical_col)\n",
    "\n",
    "# Combine selected categorical and numerical columns\n",
    "my_cols = categorical_col + numerical_col\n",
    "# Create the preprocessor using ColumnTransformer\n",
    "preprocessor = ColumnTransformer(transformers=[\n",
    "    ('num', numerical_transformer, numerical_col),\n",
    "    ('cat', categorical_transformer, categorical_col)])\n",
    "\n",
    "\n",
    "eval_set_pipe = Pipeline([\n",
    "    ('preprocessor', preprocessor)\n",
    "])"
   ]
  },
  {
   "cell_type": "code",
   "execution_count": 14,
   "metadata": {
    "colab": {
     "base_uri": "https://localhost:8080/"
    },
    "id": "_yvJAElrYVAZ",
    "outputId": "f3083282-45f6-4780-d4fa-7a26690b275f"
   },
   "outputs": [
    {
     "name": "stdout",
     "output_type": "stream",
     "text": [
      "Categorical Columns:\n",
      "['Status', 'Soort bouw', 'Energielabel', 'Aantal dagen tot verkoop', 'Soort dak', 'Soort woonhuis']\n",
      "Numerical Columns:\n",
      "['Aantal kamers', 'Overige inpandige ruimte m2', 'Perceel m2', 'Achtertuin m2', 'Vraagprijs per m2', 'Woonruimte in m2', 'Gebouwgebonden buitenruimte in m2', 'Externe bergruimte in m2', 'Inhoud in m3', 'Aantal slaapkamers', 'Bathrooms', 'Toilets', 'Kelder', 'Voorzieningen_Domotica', 'Voorzieningen_Zwembad', 'Voorzieningen_Verwarming', 'Voorzieningen_Stromendwater', 'Voorzieningen_Elektrischedeur', 'Voorzieningen_Alarminstallatie', 'Isolatie_Vollediggeïsoleerd', 'Verwarming_Gedeeltelijkevloerverwarming', 'Verwarming_Warmtepomp', 'Verwarming_Gehelevloerverwarming', 'Verwarming_Blokverwarming', 'Verwarming_Gashaard', 'Verwarming_Openhaard', 'Verwarming_Houtkachel', 'Balkon/dakterras_Dakterrasaanwezig', 'Tuin_Zijtuin', 'Tuin_Tuinrondom', 'Soort garage_Parkeerplaats', 'Soort garage_Inpandig', 'Soort garage_Parkeerkelder']\n"
     ]
    }
   ],
   "source": [
    "\n"
   ]
  },
  {
   "cell_type": "markdown",
   "metadata": {
    "id": "sUtQ3LuAXb-9"
   },
   "source": [
    "# **Define the eval_set_pipe with the preprocessor**"
   ]
  },
  {
   "cell_type": "code",
   "execution_count": 17,
   "metadata": {
    "id": "rHpU5BdER1YI"
   },
   "outputs": [],
   "source": [
    "# Create the preprocessor using ColumnTransformer\n",
    "preprocessor = ColumnTransformer(transformers=[\n",
    "    ('num', numerical_transformer, numerical_col),\n",
    " ('cat', categorical_transformer, categorical_col)])\n",
    "\n",
    "\n",
    "eval_set_pipe = Pipeline([\n",
    "    ('preprocessor', preprocessor)\n",
    "])"
   ]
  },
  {
   "cell_type": "markdown",
   "metadata": {
    "id": "VdjMWgCZR3Ad"
   },
   "source": [
    "# **Transform X_train and X_test without eval_set_pipe**"
   ]
  },
  {
   "cell_type": "code",
   "execution_count": 18,
   "metadata": {
    "colab": {
     "base_uri": "https://localhost:8080/",
     "height": 525
    },
    "id": "Tlg5LGlakZRu",
    "outputId": "1b93c435-c715-4b97-cad4-23866cb3ac0f"
   },
   "outputs": [
    {
     "data": {
      "text/html": [
       "\n",
       "  <div id=\"df-c1309a14-18b1-48a8-9790-389d53df3297\" class=\"colab-df-container\">\n",
       "    <div>\n",
       "<style scoped>\n",
       "    .dataframe tbody tr th:only-of-type {\n",
       "        vertical-align: middle;\n",
       "    }\n",
       "\n",
       "    .dataframe tbody tr th {\n",
       "        vertical-align: top;\n",
       "    }\n",
       "\n",
       "    .dataframe thead th {\n",
       "        text-align: right;\n",
       "    }\n",
       "</style>\n",
       "<table border=\"1\" class=\"dataframe\">\n",
       "  <thead>\n",
       "    <tr style=\"text-align: right;\">\n",
       "      <th></th>\n",
       "      <th>Status</th>\n",
       "      <th>Soort bouw</th>\n",
       "      <th>Energielabel</th>\n",
       "      <th>Aantal dagen tot verkoop</th>\n",
       "      <th>Soort dak</th>\n",
       "      <th>Soort woonhuis</th>\n",
       "      <th>Aantal kamers</th>\n",
       "      <th>Overige inpandige ruimte m2</th>\n",
       "      <th>Perceel m2</th>\n",
       "      <th>Achtertuin m2</th>\n",
       "      <th>...</th>\n",
       "      <th>Verwarming_Blokverwarming</th>\n",
       "      <th>Verwarming_Gashaard</th>\n",
       "      <th>Verwarming_Openhaard</th>\n",
       "      <th>Verwarming_Houtkachel</th>\n",
       "      <th>Balkon/dakterras_Dakterrasaanwezig</th>\n",
       "      <th>Tuin_Zijtuin</th>\n",
       "      <th>Tuin_Tuinrondom</th>\n",
       "      <th>Soort garage_Parkeerplaats</th>\n",
       "      <th>Soort garage_Inpandig</th>\n",
       "      <th>Soort garage_Parkeerkelder</th>\n",
       "    </tr>\n",
       "  </thead>\n",
       "  <tbody>\n",
       "    <tr>\n",
       "      <th>6209</th>\n",
       "      <td>Verkocht</td>\n",
       "      <td>Bestaande bouw</td>\n",
       "      <td>B</td>\n",
       "      <td>29 days</td>\n",
       "      <td>Zadeldak bedekt met pannen</td>\n",
       "      <td>Eengezinswoning, 2-onder-1-kapwoning</td>\n",
       "      <td>5</td>\n",
       "      <td>12</td>\n",
       "      <td>430</td>\n",
       "      <td>200</td>\n",
       "      <td>...</td>\n",
       "      <td>0</td>\n",
       "      <td>0</td>\n",
       "      <td>0</td>\n",
       "      <td>0</td>\n",
       "      <td>0</td>\n",
       "      <td>0</td>\n",
       "      <td>0</td>\n",
       "      <td>0</td>\n",
       "      <td>0</td>\n",
       "      <td>0</td>\n",
       "    </tr>\n",
       "    <tr>\n",
       "      <th>343</th>\n",
       "      <td>Verkocht</td>\n",
       "      <td>Nieuwbouw</td>\n",
       "      <td>None</td>\n",
       "      <td>113 days</td>\n",
       "      <td>Plat dak bedekt met bitumineuze dakbedekking</td>\n",
       "      <td>Herenhuis, 2-onder-1-kapwoning</td>\n",
       "      <td>2</td>\n",
       "      <td>0</td>\n",
       "      <td>48</td>\n",
       "      <td>0</td>\n",
       "      <td>...</td>\n",
       "      <td>0</td>\n",
       "      <td>0</td>\n",
       "      <td>0</td>\n",
       "      <td>0</td>\n",
       "      <td>0</td>\n",
       "      <td>0</td>\n",
       "      <td>0</td>\n",
       "      <td>0</td>\n",
       "      <td>0</td>\n",
       "      <td>0</td>\n",
       "    </tr>\n",
       "    <tr>\n",
       "      <th>9788</th>\n",
       "      <td>Verkocht</td>\n",
       "      <td>Bestaande bouw</td>\n",
       "      <td>C</td>\n",
       "      <td>28 days</td>\n",
       "      <td>Plat dak bedekt met bitumineuze dakbedekking</td>\n",
       "      <td>Eengezinswoning, hoekwoning (hofjeswoning)</td>\n",
       "      <td>6</td>\n",
       "      <td>0</td>\n",
       "      <td>97</td>\n",
       "      <td>0</td>\n",
       "      <td>...</td>\n",
       "      <td>0</td>\n",
       "      <td>0</td>\n",
       "      <td>0</td>\n",
       "      <td>0</td>\n",
       "      <td>0</td>\n",
       "      <td>0</td>\n",
       "      <td>0</td>\n",
       "      <td>0</td>\n",
       "      <td>0</td>\n",
       "      <td>0</td>\n",
       "    </tr>\n",
       "    <tr>\n",
       "      <th>3056</th>\n",
       "      <td>Verkocht</td>\n",
       "      <td>Bestaande bouw</td>\n",
       "      <td>B</td>\n",
       "      <td>14 days</td>\n",
       "      <td>Dwarskap bedekt met pannen</td>\n",
       "      <td>Eengezinswoning, tussenwoning</td>\n",
       "      <td>5</td>\n",
       "      <td>0</td>\n",
       "      <td>122</td>\n",
       "      <td>58</td>\n",
       "      <td>...</td>\n",
       "      <td>0</td>\n",
       "      <td>0</td>\n",
       "      <td>0</td>\n",
       "      <td>0</td>\n",
       "      <td>0</td>\n",
       "      <td>0</td>\n",
       "      <td>0</td>\n",
       "      <td>0</td>\n",
       "      <td>0</td>\n",
       "      <td>0</td>\n",
       "    </tr>\n",
       "    <tr>\n",
       "      <th>6513</th>\n",
       "      <td>Verkocht</td>\n",
       "      <td>Bestaande bouw</td>\n",
       "      <td>F</td>\n",
       "      <td>26 days</td>\n",
       "      <td>Plat dak bedekt met bitumineuze dakbedekking</td>\n",
       "      <td>Eengezinswoning, tussenwoning (hofjeswoning)</td>\n",
       "      <td>3</td>\n",
       "      <td>0</td>\n",
       "      <td>71</td>\n",
       "      <td>0</td>\n",
       "      <td>...</td>\n",
       "      <td>0</td>\n",
       "      <td>0</td>\n",
       "      <td>0</td>\n",
       "      <td>0</td>\n",
       "      <td>0</td>\n",
       "      <td>0</td>\n",
       "      <td>0</td>\n",
       "      <td>0</td>\n",
       "      <td>0</td>\n",
       "      <td>0</td>\n",
       "    </tr>\n",
       "  </tbody>\n",
       "</table>\n",
       "<p>5 rows × 39 columns</p>\n",
       "</div>\n",
       "    <div class=\"colab-df-buttons\">\n",
       "\n",
       "  <div class=\"colab-df-container\">\n",
       "    <button class=\"colab-df-convert\" onclick=\"convertToInteractive('df-c1309a14-18b1-48a8-9790-389d53df3297')\"\n",
       "            title=\"Convert this dataframe to an interactive table.\"\n",
       "            style=\"display:none;\">\n",
       "\n",
       "  <svg xmlns=\"http://www.w3.org/2000/svg\" height=\"24px\" viewBox=\"0 -960 960 960\">\n",
       "    <path d=\"M120-120v-720h720v720H120Zm60-500h600v-160H180v160Zm220 220h160v-160H400v160Zm0 220h160v-160H400v160ZM180-400h160v-160H180v160Zm440 0h160v-160H620v160ZM180-180h160v-160H180v160Zm440 0h160v-160H620v160Z\"/>\n",
       "  </svg>\n",
       "    </button>\n",
       "\n",
       "  <style>\n",
       "    .colab-df-container {\n",
       "      display:flex;\n",
       "      gap: 12px;\n",
       "    }\n",
       "\n",
       "    .colab-df-convert {\n",
       "      background-color: #E8F0FE;\n",
       "      border: none;\n",
       "      border-radius: 50%;\n",
       "      cursor: pointer;\n",
       "      display: none;\n",
       "      fill: #1967D2;\n",
       "      height: 32px;\n",
       "      padding: 0 0 0 0;\n",
       "      width: 32px;\n",
       "    }\n",
       "\n",
       "    .colab-df-convert:hover {\n",
       "      background-color: #E2EBFA;\n",
       "      box-shadow: 0px 1px 2px rgba(60, 64, 67, 0.3), 0px 1px 3px 1px rgba(60, 64, 67, 0.15);\n",
       "      fill: #174EA6;\n",
       "    }\n",
       "\n",
       "    .colab-df-buttons div {\n",
       "      margin-bottom: 4px;\n",
       "    }\n",
       "\n",
       "    [theme=dark] .colab-df-convert {\n",
       "      background-color: #3B4455;\n",
       "      fill: #D2E3FC;\n",
       "    }\n",
       "\n",
       "    [theme=dark] .colab-df-convert:hover {\n",
       "      background-color: #434B5C;\n",
       "      box-shadow: 0px 1px 3px 1px rgba(0, 0, 0, 0.15);\n",
       "      filter: drop-shadow(0px 1px 2px rgba(0, 0, 0, 0.3));\n",
       "      fill: #FFFFFF;\n",
       "    }\n",
       "  </style>\n",
       "\n",
       "    <script>\n",
       "      const buttonEl =\n",
       "        document.querySelector('#df-c1309a14-18b1-48a8-9790-389d53df3297 button.colab-df-convert');\n",
       "      buttonEl.style.display =\n",
       "        google.colab.kernel.accessAllowed ? 'block' : 'none';\n",
       "\n",
       "      async function convertToInteractive(key) {\n",
       "        const element = document.querySelector('#df-c1309a14-18b1-48a8-9790-389d53df3297');\n",
       "        const dataTable =\n",
       "          await google.colab.kernel.invokeFunction('convertToInteractive',\n",
       "                                                    [key], {});\n",
       "        if (!dataTable) return;\n",
       "\n",
       "        const docLinkHtml = 'Like what you see? Visit the ' +\n",
       "          '<a target=\"_blank\" href=https://colab.research.google.com/notebooks/data_table.ipynb>data table notebook</a>'\n",
       "          + ' to learn more about interactive tables.';\n",
       "        element.innerHTML = '';\n",
       "        dataTable['output_type'] = 'display_data';\n",
       "        await google.colab.output.renderOutput(dataTable, element);\n",
       "        const docLink = document.createElement('div');\n",
       "        docLink.innerHTML = docLinkHtml;\n",
       "        element.appendChild(docLink);\n",
       "      }\n",
       "    </script>\n",
       "  </div>\n",
       "\n",
       "\n",
       "<div id=\"df-3bea39a9-df8f-4e8b-a6d4-84f463b9462f\">\n",
       "  <button class=\"colab-df-quickchart\" onclick=\"quickchart('df-3bea39a9-df8f-4e8b-a6d4-84f463b9462f')\"\n",
       "            title=\"Suggest charts\"\n",
       "            style=\"display:none;\">\n",
       "\n",
       "<svg xmlns=\"http://www.w3.org/2000/svg\" height=\"24px\"viewBox=\"0 0 24 24\"\n",
       "     width=\"24px\">\n",
       "    <g>\n",
       "        <path d=\"M19 3H5c-1.1 0-2 .9-2 2v14c0 1.1.9 2 2 2h14c1.1 0 2-.9 2-2V5c0-1.1-.9-2-2-2zM9 17H7v-7h2v7zm4 0h-2V7h2v10zm4 0h-2v-4h2v4z\"/>\n",
       "    </g>\n",
       "</svg>\n",
       "  </button>\n",
       "\n",
       "<style>\n",
       "  .colab-df-quickchart {\n",
       "      --bg-color: #E8F0FE;\n",
       "      --fill-color: #1967D2;\n",
       "      --hover-bg-color: #E2EBFA;\n",
       "      --hover-fill-color: #174EA6;\n",
       "      --disabled-fill-color: #AAA;\n",
       "      --disabled-bg-color: #DDD;\n",
       "  }\n",
       "\n",
       "  [theme=dark] .colab-df-quickchart {\n",
       "      --bg-color: #3B4455;\n",
       "      --fill-color: #D2E3FC;\n",
       "      --hover-bg-color: #434B5C;\n",
       "      --hover-fill-color: #FFFFFF;\n",
       "      --disabled-bg-color: #3B4455;\n",
       "      --disabled-fill-color: #666;\n",
       "  }\n",
       "\n",
       "  .colab-df-quickchart {\n",
       "    background-color: var(--bg-color);\n",
       "    border: none;\n",
       "    border-radius: 50%;\n",
       "    cursor: pointer;\n",
       "    display: none;\n",
       "    fill: var(--fill-color);\n",
       "    height: 32px;\n",
       "    padding: 0;\n",
       "    width: 32px;\n",
       "  }\n",
       "\n",
       "  .colab-df-quickchart:hover {\n",
       "    background-color: var(--hover-bg-color);\n",
       "    box-shadow: 0 1px 2px rgba(60, 64, 67, 0.3), 0 1px 3px 1px rgba(60, 64, 67, 0.15);\n",
       "    fill: var(--button-hover-fill-color);\n",
       "  }\n",
       "\n",
       "  .colab-df-quickchart-complete:disabled,\n",
       "  .colab-df-quickchart-complete:disabled:hover {\n",
       "    background-color: var(--disabled-bg-color);\n",
       "    fill: var(--disabled-fill-color);\n",
       "    box-shadow: none;\n",
       "  }\n",
       "\n",
       "  .colab-df-spinner {\n",
       "    border: 2px solid var(--fill-color);\n",
       "    border-color: transparent;\n",
       "    border-bottom-color: var(--fill-color);\n",
       "    animation:\n",
       "      spin 1s steps(1) infinite;\n",
       "  }\n",
       "\n",
       "  @keyframes spin {\n",
       "    0% {\n",
       "      border-color: transparent;\n",
       "      border-bottom-color: var(--fill-color);\n",
       "      border-left-color: var(--fill-color);\n",
       "    }\n",
       "    20% {\n",
       "      border-color: transparent;\n",
       "      border-left-color: var(--fill-color);\n",
       "      border-top-color: var(--fill-color);\n",
       "    }\n",
       "    30% {\n",
       "      border-color: transparent;\n",
       "      border-left-color: var(--fill-color);\n",
       "      border-top-color: var(--fill-color);\n",
       "      border-right-color: var(--fill-color);\n",
       "    }\n",
       "    40% {\n",
       "      border-color: transparent;\n",
       "      border-right-color: var(--fill-color);\n",
       "      border-top-color: var(--fill-color);\n",
       "    }\n",
       "    60% {\n",
       "      border-color: transparent;\n",
       "      border-right-color: var(--fill-color);\n",
       "    }\n",
       "    80% {\n",
       "      border-color: transparent;\n",
       "      border-right-color: var(--fill-color);\n",
       "      border-bottom-color: var(--fill-color);\n",
       "    }\n",
       "    90% {\n",
       "      border-color: transparent;\n",
       "      border-bottom-color: var(--fill-color);\n",
       "    }\n",
       "  }\n",
       "</style>\n",
       "\n",
       "  <script>\n",
       "    async function quickchart(key) {\n",
       "      const quickchartButtonEl =\n",
       "        document.querySelector('#' + key + ' button');\n",
       "      quickchartButtonEl.disabled = true;  // To prevent multiple clicks.\n",
       "      quickchartButtonEl.classList.add('colab-df-spinner');\n",
       "      try {\n",
       "        const charts = await google.colab.kernel.invokeFunction(\n",
       "            'suggestCharts', [key], {});\n",
       "      } catch (error) {\n",
       "        console.error('Error during call to suggestCharts:', error);\n",
       "      }\n",
       "      quickchartButtonEl.classList.remove('colab-df-spinner');\n",
       "      quickchartButtonEl.classList.add('colab-df-quickchart-complete');\n",
       "    }\n",
       "    (() => {\n",
       "      let quickchartButtonEl =\n",
       "        document.querySelector('#df-3bea39a9-df8f-4e8b-a6d4-84f463b9462f button');\n",
       "      quickchartButtonEl.style.display =\n",
       "        google.colab.kernel.accessAllowed ? 'block' : 'none';\n",
       "    })();\n",
       "  </script>\n",
       "</div>\n",
       "    </div>\n",
       "  </div>\n"
      ],
      "text/plain": [
       "        Status      Soort bouw Energielabel Aantal dagen tot verkoop  \\\n",
       "6209  Verkocht  Bestaande bouw            B                  29 days   \n",
       "343   Verkocht       Nieuwbouw         None                 113 days   \n",
       "9788  Verkocht  Bestaande bouw            C                  28 days   \n",
       "3056  Verkocht  Bestaande bouw            B                  14 days   \n",
       "6513  Verkocht  Bestaande bouw            F                  26 days   \n",
       "\n",
       "                                         Soort dak  \\\n",
       "6209                    Zadeldak bedekt met pannen   \n",
       "343   Plat dak bedekt met bitumineuze dakbedekking   \n",
       "9788  Plat dak bedekt met bitumineuze dakbedekking   \n",
       "3056                    Dwarskap bedekt met pannen   \n",
       "6513  Plat dak bedekt met bitumineuze dakbedekking   \n",
       "\n",
       "                                    Soort woonhuis  Aantal kamers  \\\n",
       "6209          Eengezinswoning, 2-onder-1-kapwoning              5   \n",
       "343                 Herenhuis, 2-onder-1-kapwoning              2   \n",
       "9788    Eengezinswoning, hoekwoning (hofjeswoning)              6   \n",
       "3056                 Eengezinswoning, tussenwoning              5   \n",
       "6513  Eengezinswoning, tussenwoning (hofjeswoning)              3   \n",
       "\n",
       "      Overige inpandige ruimte m2  Perceel m2  Achtertuin m2  ...  \\\n",
       "6209                           12         430            200  ...   \n",
       "343                             0          48              0  ...   \n",
       "9788                            0          97              0  ...   \n",
       "3056                            0         122             58  ...   \n",
       "6513                            0          71              0  ...   \n",
       "\n",
       "      Verwarming_Blokverwarming  Verwarming_Gashaard  Verwarming_Openhaard  \\\n",
       "6209                          0                    0                     0   \n",
       "343                           0                    0                     0   \n",
       "9788                          0                    0                     0   \n",
       "3056                          0                    0                     0   \n",
       "6513                          0                    0                     0   \n",
       "\n",
       "      Verwarming_Houtkachel  Balkon/dakterras_Dakterrasaanwezig  Tuin_Zijtuin  \\\n",
       "6209                      0                                   0             0   \n",
       "343                       0                                   0             0   \n",
       "9788                      0                                   0             0   \n",
       "3056                      0                                   0             0   \n",
       "6513                      0                                   0             0   \n",
       "\n",
       "      Tuin_Tuinrondom  Soort garage_Parkeerplaats  Soort garage_Inpandig  \\\n",
       "6209                0                           0                      0   \n",
       "343                 0                           0                      0   \n",
       "9788                0                           0                      0   \n",
       "3056                0                           0                      0   \n",
       "6513                0                           0                      0   \n",
       "\n",
       "      Soort garage_Parkeerkelder  \n",
       "6209                           0  \n",
       "343                            0  \n",
       "9788                           0  \n",
       "3056                           0  \n",
       "6513                           0  \n",
       "\n",
       "[5 rows x 39 columns]"
      ]
     },
     "execution_count": 18,
     "metadata": {},
     "output_type": "execute_result"
    }
   ],
   "source": [
    "\n",
    "\n",
    "# Transform X_train and X_test without eval_set_pipe\n",
    "X_train_eval = X_train_full[my_cols]\n",
    "X_test_eval = X_test[my_cols]\n",
    "\n",
    "\n",
    "# Convert the original data to DataFrames with the original index (no transformation)\n",
    "X_train_eval_df = pd.DataFrame(X_train_eval, index=X_train_full.index)\n",
    "X_test_eval_df = pd.DataFrame(X_test_eval, index=X_test.index)\n",
    "X_test_eval_df.head()"
   ]
  },
  {
   "cell_type": "markdown",
   "metadata": {
    "id": "sTBOt7LVR-Wl"
   },
   "source": [
    "# **Transform X_train and X_test using eval_set_pipe**"
   ]
  },
  {
   "cell_type": "code",
   "execution_count": 19,
   "metadata": {
    "colab": {
     "base_uri": "https://localhost:8080/",
     "height": 419
    },
    "id": "vBnUNv8fRyRU",
    "outputId": "54f2ccfa-3302-4303-ec11-a84d74389c33"
   },
   "outputs": [
    {
     "data": {
      "text/html": [
       "\n",
       "  <div id=\"df-db8f4cec-a67e-4dcd-8109-6b21b4c12c90\" class=\"colab-df-container\">\n",
       "    <div>\n",
       "<style scoped>\n",
       "    .dataframe tbody tr th:only-of-type {\n",
       "        vertical-align: middle;\n",
       "    }\n",
       "\n",
       "    .dataframe tbody tr th {\n",
       "        vertical-align: top;\n",
       "    }\n",
       "\n",
       "    .dataframe thead th {\n",
       "        text-align: right;\n",
       "    }\n",
       "</style>\n",
       "<table border=\"1\" class=\"dataframe\">\n",
       "  <thead>\n",
       "    <tr style=\"text-align: right;\">\n",
       "      <th></th>\n",
       "      <th>0</th>\n",
       "    </tr>\n",
       "  </thead>\n",
       "  <tbody>\n",
       "    <tr>\n",
       "      <th>6209</th>\n",
       "      <td>(0, 1)\\t1.2\\n  (0, 2)\\t1.6787878787878787\\n ...</td>\n",
       "    </tr>\n",
       "    <tr>\n",
       "      <th>343</th>\n",
       "      <td>(0, 0)\\t-3.0\\n  (0, 2)\\t-0.6363636363636364\\...</td>\n",
       "    </tr>\n",
       "    <tr>\n",
       "      <th>9788</th>\n",
       "      <td>(0, 0)\\t1.0\\n  (0, 2)\\t-0.3393939393939394\\n...</td>\n",
       "    </tr>\n",
       "    <tr>\n",
       "      <th>3056</th>\n",
       "      <td>(0, 2)\\t-0.18787878787878787\\n  (0, 3)\\t0.00...</td>\n",
       "    </tr>\n",
       "    <tr>\n",
       "      <th>6513</th>\n",
       "      <td>(0, 0)\\t-2.0\\n  (0, 2)\\t-0.49696969696969695...</td>\n",
       "    </tr>\n",
       "    <tr>\n",
       "      <th>...</th>\n",
       "      <td>...</td>\n",
       "    </tr>\n",
       "    <tr>\n",
       "      <th>6096</th>\n",
       "      <td>(0, 2)\\t-0.1696969696969697\\n  (0, 3)\\t-0.54...</td>\n",
       "    </tr>\n",
       "    <tr>\n",
       "      <th>9380</th>\n",
       "      <td>(0, 0)\\t-2.0\\n  (0, 2)\\t-0.4727272727272727\\...</td>\n",
       "    </tr>\n",
       "    <tr>\n",
       "      <th>3450</th>\n",
       "      <td>(0, 0)\\t-1.0\\n  (0, 2)\\t2.109090909090909\\n ...</td>\n",
       "    </tr>\n",
       "    <tr>\n",
       "      <th>1970</th>\n",
       "      <td>(0, 2)\\t-0.11515151515151516\\n  (0, 3)\\t-0.5...</td>\n",
       "    </tr>\n",
       "    <tr>\n",
       "      <th>8930</th>\n",
       "      <td>(0, 0)\\t-1.0\\n  (0, 2)\\t-0.12727272727272726...</td>\n",
       "    </tr>\n",
       "  </tbody>\n",
       "</table>\n",
       "<p>1975 rows × 1 columns</p>\n",
       "</div>\n",
       "    <div class=\"colab-df-buttons\">\n",
       "\n",
       "  <div class=\"colab-df-container\">\n",
       "    <button class=\"colab-df-convert\" onclick=\"convertToInteractive('df-db8f4cec-a67e-4dcd-8109-6b21b4c12c90')\"\n",
       "            title=\"Convert this dataframe to an interactive table.\"\n",
       "            style=\"display:none;\">\n",
       "\n",
       "  <svg xmlns=\"http://www.w3.org/2000/svg\" height=\"24px\" viewBox=\"0 -960 960 960\">\n",
       "    <path d=\"M120-120v-720h720v720H120Zm60-500h600v-160H180v160Zm220 220h160v-160H400v160Zm0 220h160v-160H400v160ZM180-400h160v-160H180v160Zm440 0h160v-160H620v160ZM180-180h160v-160H180v160Zm440 0h160v-160H620v160Z\"/>\n",
       "  </svg>\n",
       "    </button>\n",
       "\n",
       "  <style>\n",
       "    .colab-df-container {\n",
       "      display:flex;\n",
       "      gap: 12px;\n",
       "    }\n",
       "\n",
       "    .colab-df-convert {\n",
       "      background-color: #E8F0FE;\n",
       "      border: none;\n",
       "      border-radius: 50%;\n",
       "      cursor: pointer;\n",
       "      display: none;\n",
       "      fill: #1967D2;\n",
       "      height: 32px;\n",
       "      padding: 0 0 0 0;\n",
       "      width: 32px;\n",
       "    }\n",
       "\n",
       "    .colab-df-convert:hover {\n",
       "      background-color: #E2EBFA;\n",
       "      box-shadow: 0px 1px 2px rgba(60, 64, 67, 0.3), 0px 1px 3px 1px rgba(60, 64, 67, 0.15);\n",
       "      fill: #174EA6;\n",
       "    }\n",
       "\n",
       "    .colab-df-buttons div {\n",
       "      margin-bottom: 4px;\n",
       "    }\n",
       "\n",
       "    [theme=dark] .colab-df-convert {\n",
       "      background-color: #3B4455;\n",
       "      fill: #D2E3FC;\n",
       "    }\n",
       "\n",
       "    [theme=dark] .colab-df-convert:hover {\n",
       "      background-color: #434B5C;\n",
       "      box-shadow: 0px 1px 3px 1px rgba(0, 0, 0, 0.15);\n",
       "      filter: drop-shadow(0px 1px 2px rgba(0, 0, 0, 0.3));\n",
       "      fill: #FFFFFF;\n",
       "    }\n",
       "  </style>\n",
       "\n",
       "    <script>\n",
       "      const buttonEl =\n",
       "        document.querySelector('#df-db8f4cec-a67e-4dcd-8109-6b21b4c12c90 button.colab-df-convert');\n",
       "      buttonEl.style.display =\n",
       "        google.colab.kernel.accessAllowed ? 'block' : 'none';\n",
       "\n",
       "      async function convertToInteractive(key) {\n",
       "        const element = document.querySelector('#df-db8f4cec-a67e-4dcd-8109-6b21b4c12c90');\n",
       "        const dataTable =\n",
       "          await google.colab.kernel.invokeFunction('convertToInteractive',\n",
       "                                                    [key], {});\n",
       "        if (!dataTable) return;\n",
       "\n",
       "        const docLinkHtml = 'Like what you see? Visit the ' +\n",
       "          '<a target=\"_blank\" href=https://colab.research.google.com/notebooks/data_table.ipynb>data table notebook</a>'\n",
       "          + ' to learn more about interactive tables.';\n",
       "        element.innerHTML = '';\n",
       "        dataTable['output_type'] = 'display_data';\n",
       "        await google.colab.output.renderOutput(dataTable, element);\n",
       "        const docLink = document.createElement('div');\n",
       "        docLink.innerHTML = docLinkHtml;\n",
       "        element.appendChild(docLink);\n",
       "      }\n",
       "    </script>\n",
       "  </div>\n",
       "\n",
       "\n",
       "<div id=\"df-737a4548-ae48-4006-b97f-8705a3ae4940\">\n",
       "  <button class=\"colab-df-quickchart\" onclick=\"quickchart('df-737a4548-ae48-4006-b97f-8705a3ae4940')\"\n",
       "            title=\"Suggest charts\"\n",
       "            style=\"display:none;\">\n",
       "\n",
       "<svg xmlns=\"http://www.w3.org/2000/svg\" height=\"24px\"viewBox=\"0 0 24 24\"\n",
       "     width=\"24px\">\n",
       "    <g>\n",
       "        <path d=\"M19 3H5c-1.1 0-2 .9-2 2v14c0 1.1.9 2 2 2h14c1.1 0 2-.9 2-2V5c0-1.1-.9-2-2-2zM9 17H7v-7h2v7zm4 0h-2V7h2v10zm4 0h-2v-4h2v4z\"/>\n",
       "    </g>\n",
       "</svg>\n",
       "  </button>\n",
       "\n",
       "<style>\n",
       "  .colab-df-quickchart {\n",
       "      --bg-color: #E8F0FE;\n",
       "      --fill-color: #1967D2;\n",
       "      --hover-bg-color: #E2EBFA;\n",
       "      --hover-fill-color: #174EA6;\n",
       "      --disabled-fill-color: #AAA;\n",
       "      --disabled-bg-color: #DDD;\n",
       "  }\n",
       "\n",
       "  [theme=dark] .colab-df-quickchart {\n",
       "      --bg-color: #3B4455;\n",
       "      --fill-color: #D2E3FC;\n",
       "      --hover-bg-color: #434B5C;\n",
       "      --hover-fill-color: #FFFFFF;\n",
       "      --disabled-bg-color: #3B4455;\n",
       "      --disabled-fill-color: #666;\n",
       "  }\n",
       "\n",
       "  .colab-df-quickchart {\n",
       "    background-color: var(--bg-color);\n",
       "    border: none;\n",
       "    border-radius: 50%;\n",
       "    cursor: pointer;\n",
       "    display: none;\n",
       "    fill: var(--fill-color);\n",
       "    height: 32px;\n",
       "    padding: 0;\n",
       "    width: 32px;\n",
       "  }\n",
       "\n",
       "  .colab-df-quickchart:hover {\n",
       "    background-color: var(--hover-bg-color);\n",
       "    box-shadow: 0 1px 2px rgba(60, 64, 67, 0.3), 0 1px 3px 1px rgba(60, 64, 67, 0.15);\n",
       "    fill: var(--button-hover-fill-color);\n",
       "  }\n",
       "\n",
       "  .colab-df-quickchart-complete:disabled,\n",
       "  .colab-df-quickchart-complete:disabled:hover {\n",
       "    background-color: var(--disabled-bg-color);\n",
       "    fill: var(--disabled-fill-color);\n",
       "    box-shadow: none;\n",
       "  }\n",
       "\n",
       "  .colab-df-spinner {\n",
       "    border: 2px solid var(--fill-color);\n",
       "    border-color: transparent;\n",
       "    border-bottom-color: var(--fill-color);\n",
       "    animation:\n",
       "      spin 1s steps(1) infinite;\n",
       "  }\n",
       "\n",
       "  @keyframes spin {\n",
       "    0% {\n",
       "      border-color: transparent;\n",
       "      border-bottom-color: var(--fill-color);\n",
       "      border-left-color: var(--fill-color);\n",
       "    }\n",
       "    20% {\n",
       "      border-color: transparent;\n",
       "      border-left-color: var(--fill-color);\n",
       "      border-top-color: var(--fill-color);\n",
       "    }\n",
       "    30% {\n",
       "      border-color: transparent;\n",
       "      border-left-color: var(--fill-color);\n",
       "      border-top-color: var(--fill-color);\n",
       "      border-right-color: var(--fill-color);\n",
       "    }\n",
       "    40% {\n",
       "      border-color: transparent;\n",
       "      border-right-color: var(--fill-color);\n",
       "      border-top-color: var(--fill-color);\n",
       "    }\n",
       "    60% {\n",
       "      border-color: transparent;\n",
       "      border-right-color: var(--fill-color);\n",
       "    }\n",
       "    80% {\n",
       "      border-color: transparent;\n",
       "      border-right-color: var(--fill-color);\n",
       "      border-bottom-color: var(--fill-color);\n",
       "    }\n",
       "    90% {\n",
       "      border-color: transparent;\n",
       "      border-bottom-color: var(--fill-color);\n",
       "    }\n",
       "  }\n",
       "</style>\n",
       "\n",
       "  <script>\n",
       "    async function quickchart(key) {\n",
       "      const quickchartButtonEl =\n",
       "        document.querySelector('#' + key + ' button');\n",
       "      quickchartButtonEl.disabled = true;  // To prevent multiple clicks.\n",
       "      quickchartButtonEl.classList.add('colab-df-spinner');\n",
       "      try {\n",
       "        const charts = await google.colab.kernel.invokeFunction(\n",
       "            'suggestCharts', [key], {});\n",
       "      } catch (error) {\n",
       "        console.error('Error during call to suggestCharts:', error);\n",
       "      }\n",
       "      quickchartButtonEl.classList.remove('colab-df-spinner');\n",
       "      quickchartButtonEl.classList.add('colab-df-quickchart-complete');\n",
       "    }\n",
       "    (() => {\n",
       "      let quickchartButtonEl =\n",
       "        document.querySelector('#df-737a4548-ae48-4006-b97f-8705a3ae4940 button');\n",
       "      quickchartButtonEl.style.display =\n",
       "        google.colab.kernel.accessAllowed ? 'block' : 'none';\n",
       "    })();\n",
       "  </script>\n",
       "</div>\n",
       "    </div>\n",
       "  </div>\n"
      ],
      "text/plain": [
       "                                                      0\n",
       "6209    (0, 1)\\t1.2\\n  (0, 2)\\t1.6787878787878787\\n ...\n",
       "343     (0, 0)\\t-3.0\\n  (0, 2)\\t-0.6363636363636364\\...\n",
       "9788    (0, 0)\\t1.0\\n  (0, 2)\\t-0.3393939393939394\\n...\n",
       "3056    (0, 2)\\t-0.18787878787878787\\n  (0, 3)\\t0.00...\n",
       "6513    (0, 0)\\t-2.0\\n  (0, 2)\\t-0.49696969696969695...\n",
       "...                                                 ...\n",
       "6096    (0, 2)\\t-0.1696969696969697\\n  (0, 3)\\t-0.54...\n",
       "9380    (0, 0)\\t-2.0\\n  (0, 2)\\t-0.4727272727272727\\...\n",
       "3450    (0, 0)\\t-1.0\\n  (0, 2)\\t2.109090909090909\\n ...\n",
       "1970    (0, 2)\\t-0.11515151515151516\\n  (0, 3)\\t-0.5...\n",
       "8930    (0, 0)\\t-1.0\\n  (0, 2)\\t-0.12727272727272726...\n",
       "\n",
       "[1975 rows x 1 columns]"
      ]
     },
     "execution_count": 19,
     "metadata": {},
     "output_type": "execute_result"
    }
   ],
   "source": [
    "\n",
    "column_names_df = pd.DataFrame([X_train_full[my_cols].columns])\n",
    "\n",
    "# Transform X_train and X_test using eval_set_pipe\n",
    "X_train_eval = eval_set_pipe.fit_transform(X_train_full[my_cols])\n",
    "X_test_eval = eval_set_pipe.transform(X_test[my_cols])\n",
    "\n",
    "# Convert the transformed data to DataFrames with the original index\n",
    "X_train_eval_df = pd.DataFrame(X_train_eval, index=X_train_full.index)\n",
    "X_test_eval_df = pd.DataFrame(X_test_eval, index=X_test.index)\n",
    "X_test_eval_df"
   ]
  },
  {
   "cell_type": "markdown",
   "metadata": {
    "id": "FQz1uSGjDIJZ"
   },
   "source": [
    "# **Random Forest Paramaeters without Tuning Exp 1**"
   ]
  },
  {
   "cell_type": "code",
   "execution_count": 20,
   "metadata": {
    "id": "tw9XzngqDOTx"
   },
   "outputs": [],
   "source": [
    "from sklearn.ensemble import RandomForestRegressor\n",
    "\n",
    "# Create a RandomForestRegressor model with default parameters\n",
    "model_rf = RandomForestRegressor(random_state=42)\n",
    "\n",
    "# Ensure the target variable is numeric\n",
    "y_train_numeric = y_train.astype('float')\n",
    "\n",
    "# Train  RandomForestRegressor model with default parameters\n",
    "model_rf.fit(X_train_eval, y_train_numeric)\n",
    "\n",
    "# Make predictions on the test set\n",
    "y_test_pred_rf = model_rf.predict(X_test_eval)\n"
   ]
  },
  {
   "cell_type": "markdown",
   "metadata": {
    "id": "nLSTyPjTmWDQ"
   },
   "source": [
    "# **Calculate various accuracy measures**"
   ]
  },
  {
   "cell_type": "code",
   "execution_count": null,
   "metadata": {
    "colab": {
     "base_uri": "https://localhost:8080/"
    },
    "id": "lZ9HjJU2mTvZ",
    "outputId": "f7e69730-8681-4bd7-82e6-d53048c81799"
   },
   "outputs": [
    {
     "name": "stdout",
     "output_type": "stream",
     "text": [
      "R2 Score_Random Forest Regression= 0.9922690310711463\n",
      "Mean Squared Error (MSE): 334852100.1067467\n",
      "Root Mean Squared Error (RMSE): 18298.96445449159\n",
      "Mean Absolute Error (MAE): 4274.032379746835\n",
      "Mean Absolute Percentage Error (MAPE): 0.8220059735050707 %\n"
     ]
    }
   ],
   "source": [
    "# Calculate various accuracy measures\n",
    "mse = mean_squared_error(y_test, y_test_pred_rf)\n",
    "rmse = np.sqrt(mse)\n",
    "mae = mean_absolute_error(y_test, y_test_pred_rf)\n",
    "\n",
    "# Calculate Mean Absolute Percentage Error (MAPE)\n",
    "mape = np.mean(np.abs((y_test - y_test_pred_rf) / y_test)) * 100\n",
    "\n",
    "# Print the accuracy measures\n",
    "from sklearn import metrics\n",
    "print('R2 Score_Random Forest Regression=',metrics.r2_score(y_test, y_test_pred_rf))\n",
    "\n",
    "\n",
    "print(\"Mean Squared Error (MSE):\", mse)\n",
    "print(\"Root Mean Squared Error (RMSE):\", rmse)\n",
    "print(\"Mean Absolute Error (MAE):\", mae)\n",
    "print(\"Mean Absolute Percentage Error (MAPE):\", mape, \"%\")\n"
   ]
  },
  {
   "cell_type": "markdown",
   "metadata": {
    "id": "kFO3BnRE2SoH"
   },
   "source": [
    "# **Plot the predicted sensitivity**"
   ]
  },
  {
   "cell_type": "code",
   "execution_count": 21,
   "metadata": {
    "colab": {
     "base_uri": "https://localhost:8080/",
     "height": 569
    },
    "id": "dYksEbHt2C7z",
    "outputId": "4b45af7b-f600-4a4c-faf9-f62c3de31433"
   },
   "outputs": [
    {
     "data": {
      "image/png": "[encoded data removed]",
      "text/plain": [
       "<Figure size 800x600 with 1 Axes>"
      ]
     },
     "metadata": {},
     "output_type": "display_data"
    }
   ],
   "source": [
    "import matplotlib.pyplot as plt\n",
    "import numpy as np\n",
    "\n",
    "# Create a scatter plot of the actual and predicted sensitivity values\n",
    "plt.figure(figsize=(8,6))\n",
    "plt.scatter(x=y_test, y=y_test_pred_rf , color='dodgerblue')\n",
    "\n",
    "# Add a 45-degree line to represent the perfect prediction\n",
    "plt.plot(y_test,y_test, color='deeppink')\n",
    "\n",
    "# Set the axis labels and title\n",
    "plt.xlabel('Actual Sensitivity',fontsize=12)\n",
    "plt.ylabel('Predicted Sensitivity',fontsize=12)\n",
    "plt.title('RF Predicted vs Actual ',fontsize=14)\n",
    "\n",
    "\n",
    "plt.show()"
   ]
  },
  {
   "cell_type": "markdown",
   "metadata": {
    "id": "uDfJpZ7U_xXR"
   },
   "source": [
    "# **Make Predictions**"
   ]
  },
  {
   "cell_type": "code",
   "execution_count": null,
   "metadata": {
    "colab": {
     "base_uri": "https://localhost:8080/"
    },
    "id": "3Zs52XBtgjl7",
    "outputId": "ad9efcdb-341b-4867-9d6c-a9aff03a689b"
   },
   "outputs": [
    {
     "name": "stdout",
     "output_type": "stream",
     "text": [
      "      Actual  Predicted\n",
      "6209  369000   376505.0\n",
      "343   525000   503600.0\n",
      "9788  420000   422780.0\n",
      "3056  350000   350265.0\n",
      "6513  235000   232300.0\n"
     ]
    }
   ],
   "source": [
    "\n",
    "X_test_eval = eval_set_pipe.transform(X_test.copy())\n",
    "\n",
    "X_test_eval_df = pd.DataFrame(X_test_eval, index=X_test.index)\n",
    "\n",
    "pred_test = model_rf.predict(X_test_eval)\n",
    "\n",
    "\n",
    "predictions_df = pd.DataFrame({'Actual': y_test, 'Predicted': y_test_pred_rf})\n",
    "\n",
    "\n",
    "print(predictions_df.head())"
   ]
  }
 ],
 "metadata": {
  "colab": {
   "collapsed_sections": [
    "eBCUZjjtGZpe",
    "xY4NhRZxTzBo",
    "hcj7i2SoPy3R",
    "sUtQ3LuAXb-9",
    "VdjMWgCZR3Ad"
   ],
   "provenance": []
  },
  "kernelspec": {
   "display_name": "Python 3 (ipykernel)",
   "language": "python",
   "name": "python3"
  },
  "language_info": {
   "codemirror_mode": {
    "name": "ipython",
    "version": 3
   },
   "file_extension": ".py",
   "mimetype": "text/x-python",
   "name": "python",
   "nbconvert_exporter": "python",
   "pygments_lexer": "ipython3",
   "version": "3.11.3"
  }
 },
 "nbformat": 4,
 "nbformat_minor": 1
}
